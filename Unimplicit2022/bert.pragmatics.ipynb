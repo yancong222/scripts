{
 "cells": [
  {
   "cell_type": "markdown",
   "metadata": {},
   "source": [
    "# Prep lib and dataset"
   ]
  },
  {
   "cell_type": "code",
   "execution_count": 1,
   "metadata": {},
   "outputs": [],
   "source": [
    "# make sure this ipnb file is in the same folder as Fine_tuning_a_masked_language_model...ipynb\n",
    "import pandas as pd\n",
    "import csv\n",
    "import math\n",
    "import os\n",
    "import re"
   ]
  },
  {
   "cell_type": "code",
   "execution_count": 2,
   "metadata": {},
   "outputs": [
    {
     "data": {
      "text/plain": [
       "'/Users/yancong/Desktop/5 zili research/naacl2022_cong_shortPaper'"
      ]
     },
     "execution_count": 2,
     "metadata": {},
     "output_type": "execute_result"
    }
   ],
   "source": [
    "os.getcwd()"
   ]
  },
  {
   "cell_type": "code",
   "execution_count": 3,
   "metadata": {},
   "outputs": [],
   "source": [
    "from transformers import pipeline"
   ]
  },
  {
   "cell_type": "code",
   "execution_count": 7,
   "metadata": {},
   "outputs": [
    {
     "data": {
      "text/plain": [
       "[{'score': 0.05292867496609688,\n",
       "  'token': 2535,\n",
       "  'token_str': 'role',\n",
       "  'sequence': \"hello i'm a role model.\"},\n",
       " {'score': 0.039685964584350586,\n",
       "  'token': 4827,\n",
       "  'token_str': 'fashion',\n",
       "  'sequence': \"hello i'm a fashion model.\"},\n",
       " {'score': 0.034743648022413254,\n",
       "  'token': 2449,\n",
       "  'token_str': 'business',\n",
       "  'sequence': \"hello i'm a business model.\"},\n",
       " {'score': 0.034623000770807266,\n",
       "  'token': 2944,\n",
       "  'token_str': 'model',\n",
       "  'sequence': \"hello i'm a model model.\"},\n",
       " {'score': 0.018145160749554634,\n",
       "  'token': 11643,\n",
       "  'token_str': 'modeling',\n",
       "  'sequence': \"hello i'm a modeling model.\"}]"
      ]
     },
     "execution_count": 7,
     "metadata": {},
     "output_type": "execute_result"
    }
   ],
   "source": [
    "unmasker = pipeline('fill-mask', model='distilbert-base-uncased')\n",
    "unmasker(\"Hello I'm a [MASK] model.\")"
   ]
  },
  {
   "cell_type": "code",
   "execution_count": 2,
   "metadata": {},
   "outputs": [
    {
     "data": {
      "text/plain": [
       "0.0529286190867424"
      ]
     },
     "execution_count": 2,
     "metadata": {},
     "output_type": "execute_result"
    }
   ],
   "source": [
    "unmasker(\"Hello I'm a [MASK] model.\")[0]['score']"
   ]
  },
  {
   "cell_type": "markdown",
   "metadata": {},
   "source": [
    "# Distill-BERT"
   ]
  },
  {
   "cell_type": "markdown",
   "metadata": {},
   "source": [
    "## quantifier"
   ]
  },
  {
   "cell_type": "markdown",
   "metadata": {},
   "source": [
    "### dataset"
   ]
  },
  {
   "cell_type": "code",
   "execution_count": 5,
   "metadata": {},
   "outputs": [
    {
     "data": {
      "text/html": [
       "<div>\n",
       "<style scoped>\n",
       "    .dataframe tbody tr th:only-of-type {\n",
       "        vertical-align: middle;\n",
       "    }\n",
       "\n",
       "    .dataframe tbody tr th {\n",
       "        vertical-align: top;\n",
       "    }\n",
       "\n",
       "    .dataframe thead th {\n",
       "        text-align: right;\n",
       "    }\n",
       "</style>\n",
       "<table border=\"1\" class=\"dataframe\">\n",
       "  <thead>\n",
       "    <tr style=\"text-align: right;\">\n",
       "      <th></th>\n",
       "      <th>pre_cw</th>\n",
       "      <th>cw</th>\n",
       "      <th>post_cw</th>\n",
       "      <th>condition</th>\n",
       "      <th>prediction</th>\n",
       "    </tr>\n",
       "  </thead>\n",
       "  <tbody>\n",
       "    <tr>\n",
       "      <th>0</th>\n",
       "      <td>Some people have</td>\n",
       "      <td>lungs</td>\n",
       "      <td>that are diseased by viruses .</td>\n",
       "      <td>baseline</td>\n",
       "      <td>so-so</td>\n",
       "    </tr>\n",
       "    <tr>\n",
       "      <th>1</th>\n",
       "      <td>Some people have</td>\n",
       "      <td>pets</td>\n",
       "      <td>that are diseased by viruses .</td>\n",
       "      <td>baseline</td>\n",
       "      <td>good</td>\n",
       "    </tr>\n",
       "    <tr>\n",
       "      <th>2</th>\n",
       "      <td>Some people have</td>\n",
       "      <td>lungs</td>\n",
       "      <td>which require good care .</td>\n",
       "      <td>experimental</td>\n",
       "      <td>bad</td>\n",
       "    </tr>\n",
       "    <tr>\n",
       "      <th>3</th>\n",
       "      <td>Some people have</td>\n",
       "      <td>pets</td>\n",
       "      <td>which require good care .</td>\n",
       "      <td>experimental</td>\n",
       "      <td>good</td>\n",
       "    </tr>\n",
       "    <tr>\n",
       "      <th>4</th>\n",
       "      <td>Some houses have</td>\n",
       "      <td>rooms</td>\n",
       "      <td>that are filled with kid's toys .</td>\n",
       "      <td>baseline</td>\n",
       "      <td>so-so</td>\n",
       "    </tr>\n",
       "  </tbody>\n",
       "</table>\n",
       "</div>"
      ],
      "text/plain": [
       "             pre_cw     cw  ...     condition prediction\n",
       "0  Some people have  lungs  ...      baseline      so-so\n",
       "1  Some people have   pets  ...      baseline       good\n",
       "2  Some people have  lungs  ...  experimental        bad\n",
       "3  Some people have   pets  ...  experimental       good\n",
       "4  Some houses have  rooms  ...      baseline      so-so\n",
       "\n",
       "[5 rows x 5 columns]"
      ]
     },
     "execution_count": 5,
     "metadata": {},
     "output_type": "execute_result"
    }
   ],
   "source": [
    "quantifier_df = pd.read_csv('/Users/yancong/Desktop/5 zili research/cogsci2022/data/SI.csv', index_col=0)\n",
    "quantifier_df.head()"
   ]
  },
  {
   "cell_type": "markdown",
   "metadata": {},
   "source": [
    "### playground"
   ]
  },
  {
   "cell_type": "code",
   "execution_count": 6,
   "metadata": {},
   "outputs": [
    {
     "data": {
      "text/plain": [
       "[{'score': 0.20906086266040802,\n",
       "  'token': 2070,\n",
       "  'token_str': 'some',\n",
       "  'sequence': 'some people have lungs that are diseased by viruses.'},\n",
       " {'score': 0.12402084469795227,\n",
       "  'token': 2116,\n",
       "  'token_str': 'many',\n",
       "  'sequence': 'many people have lungs that are diseased by viruses.'},\n",
       " {'score': 0.11152411997318268,\n",
       "  'token': 2087,\n",
       "  'token_str': 'most',\n",
       "  'sequence': 'most people have lungs that are diseased by viruses.'},\n",
       " {'score': 0.027400676161050797,\n",
       "  'token': 2122,\n",
       "  'token_str': 'these',\n",
       "  'sequence': 'these people have lungs that are diseased by viruses.'},\n",
       " {'score': 0.022801494225859642,\n",
       "  'token': 9750,\n",
       "  'token_str': 'elderly',\n",
       "  'sequence': 'elderly people have lungs that are diseased by viruses.'}]"
      ]
     },
     "execution_count": 6,
     "metadata": {},
     "output_type": "execute_result"
    }
   ],
   "source": [
    "unmasker = pipeline('fill-mask', model='distilbert-base-uncased')\n",
    "unmasker(\"[MASK] people have lungs that are diseased by viruses.\")"
   ]
  },
  {
   "cell_type": "code",
   "execution_count": 11,
   "metadata": {},
   "outputs": [
    {
     "data": {
      "text/plain": [
       "[{'score': 0.09371289610862732,\n",
       "  'token': 11595,\n",
       "  'token_str': 'organs',\n",
       "  'sequence': 'some people have organs that are diseased by viruses.'},\n",
       " {'score': 0.06411033868789673,\n",
       "  'token': 21434,\n",
       "  'token_str': 'tumors',\n",
       "  'sequence': 'some people have tumors that are diseased by viruses.'},\n",
       " {'score': 0.036154840141534805,\n",
       "  'token': 15245,\n",
       "  'token_str': 'infections',\n",
       "  'sequence': 'some people have infections that are diseased by viruses.'},\n",
       " {'score': 0.03473655879497528,\n",
       "  'token': 7870,\n",
       "  'token_str': 'diseases',\n",
       "  'sequence': 'some people have diseases that are diseased by viruses.'},\n",
       " {'score': 0.03452983498573303,\n",
       "  'token': 25409,\n",
       "  'token_str': 'cancers',\n",
       "  'sequence': 'some people have cancers that are diseased by viruses.'}]"
      ]
     },
     "execution_count": 11,
     "metadata": {},
     "output_type": "execute_result"
    }
   ],
   "source": [
    "unmasker = pipeline('fill-mask', model='distilbert-base-uncased')\n",
    "unmasker(\"Some people have [MASK] that are diseased by viruses.\")"
   ]
  },
  {
   "cell_type": "code",
   "execution_count": 14,
   "metadata": {},
   "outputs": [
    {
     "data": {
      "text/plain": [
       "[{'score': 0.14691618084907532,\n",
       "  'token': 2070,\n",
       "  'token_str': 'some',\n",
       "  'sequence': 'some people have lungs which require good care.'},\n",
       " {'score': 0.09397731721401215,\n",
       "  'token': 2116,\n",
       "  'token_str': 'many',\n",
       "  'sequence': 'many people have lungs which require good care.'},\n",
       " {'score': 0.09147515147924423,\n",
       "  'token': 9750,\n",
       "  'token_str': 'elderly',\n",
       "  'sequence': 'elderly people have lungs which require good care.'},\n",
       " {'score': 0.08165210485458374,\n",
       "  'token': 2087,\n",
       "  'token_str': 'most',\n",
       "  'sequence': 'most people have lungs which require good care.'},\n",
       " {'score': 0.04177016019821167,\n",
       "  'token': 12419,\n",
       "  'token_str': 'deaf',\n",
       "  'sequence': 'deaf people have lungs which require good care.'}]"
      ]
     },
     "execution_count": 14,
     "metadata": {},
     "output_type": "execute_result"
    }
   ],
   "source": [
    "unmasker = pipeline('fill-mask', model='distilbert-base-uncased')\n",
    "unmasker(\"[MASK] people have lungs which require good care.\")"
   ]
  },
  {
   "cell_type": "markdown",
   "metadata": {},
   "source": [
    "### dataset cw quantifier"
   ]
  },
  {
   "cell_type": "code",
   "execution_count": null,
   "metadata": {},
   "outputs": [],
   "source": [
    "#https://support.microsoft.com/en-us/office/combine-text-from-two-or-more-cells-into-one-cell-81ba0946-ce78-42ed-b3c3-21340eb164a6\n",
    "# then copy paste that column [value only]"
   ]
  },
  {
   "cell_type": "code",
   "execution_count": 45,
   "metadata": {},
   "outputs": [
    {
     "data": {
      "text/html": [
       "<div>\n",
       "<style scoped>\n",
       "    .dataframe tbody tr th:only-of-type {\n",
       "        vertical-align: middle;\n",
       "    }\n",
       "\n",
       "    .dataframe tbody tr th {\n",
       "        vertical-align: top;\n",
       "    }\n",
       "\n",
       "    .dataframe thead th {\n",
       "        text-align: right;\n",
       "    }\n",
       "</style>\n",
       "<table border=\"1\" class=\"dataframe\">\n",
       "  <thead>\n",
       "    <tr style=\"text-align: right;\">\n",
       "      <th></th>\n",
       "      <th>cw</th>\n",
       "      <th>post_cw</th>\n",
       "      <th>condition</th>\n",
       "      <th>prediction</th>\n",
       "      <th>sentence</th>\n",
       "    </tr>\n",
       "  </thead>\n",
       "  <tbody>\n",
       "    <tr>\n",
       "      <th>0</th>\n",
       "      <td>some</td>\n",
       "      <td>people have lungs that are diseased by viruses.</td>\n",
       "      <td>baseline</td>\n",
       "      <td>so-so</td>\n",
       "      <td>Some people have lungs that are diseased by vi...</td>\n",
       "    </tr>\n",
       "    <tr>\n",
       "      <th>1</th>\n",
       "      <td>some</td>\n",
       "      <td>people have pets that are diseased by viruses.</td>\n",
       "      <td>baseline</td>\n",
       "      <td>good</td>\n",
       "      <td>Some people have pets that are diseased by vir...</td>\n",
       "    </tr>\n",
       "    <tr>\n",
       "      <th>2</th>\n",
       "      <td>all</td>\n",
       "      <td>people have lungs which require good care.</td>\n",
       "      <td>experimental</td>\n",
       "      <td>bad</td>\n",
       "      <td>Some people have lungs which require good care.</td>\n",
       "    </tr>\n",
       "    <tr>\n",
       "      <th>3</th>\n",
       "      <td>some</td>\n",
       "      <td>people have pets which require good care.</td>\n",
       "      <td>experimental</td>\n",
       "      <td>good</td>\n",
       "      <td>Some people have pets which require good care.</td>\n",
       "    </tr>\n",
       "    <tr>\n",
       "      <th>4</th>\n",
       "      <td>some</td>\n",
       "      <td>houses have rooms that are filled with kid's t...</td>\n",
       "      <td>baseline</td>\n",
       "      <td>so-so</td>\n",
       "      <td>Some houses have rooms that are filled with ki...</td>\n",
       "    </tr>\n",
       "  </tbody>\n",
       "</table>\n",
       "</div>"
      ],
      "text/plain": [
       "     cw  ...                                           sentence\n",
       "0  some  ...  Some people have lungs that are diseased by vi...\n",
       "1  some  ...  Some people have pets that are diseased by vir...\n",
       "2   all  ...    Some people have lungs which require good care.\n",
       "3  some  ...     Some people have pets which require good care.\n",
       "4  some  ...  Some houses have rooms that are filled with ki...\n",
       "\n",
       "[5 rows x 5 columns]"
      ]
     },
     "execution_count": 45,
     "metadata": {},
     "output_type": "execute_result"
    }
   ],
   "source": [
    "new_qdf = pd.read_csv('/Users/yancong/Desktop/5 zili research/cogsci2022/data/SI_cw_quantifier.csv', index_col=0)\n",
    "new_qdf.head()"
   ]
  },
  {
   "cell_type": "code",
   "execution_count": 46,
   "metadata": {},
   "outputs": [
    {
     "name": "stderr",
     "output_type": "stream",
     "text": [
      "/var/folders/xl/6x4fjht11dq2blkl91wqmnkh0000gn/T/ipykernel_5787/3803522104.py:11: SettingWithCopyWarning: \n",
      "A value is trying to be set on a copy of a slice from a DataFrame\n",
      "\n",
      "See the caveats in the documentation: https://pandas.pydata.org/pandas-docs/stable/user_guide/indexing.html#returning-a-view-versus-a-copy\n",
      "  new_qdf['distillbert_top1'][i] = temp[0]['token_str']\n",
      "/var/folders/xl/6x4fjht11dq2blkl91wqmnkh0000gn/T/ipykernel_5787/3803522104.py:12: SettingWithCopyWarning: \n",
      "A value is trying to be set on a copy of a slice from a DataFrame\n",
      "\n",
      "See the caveats in the documentation: https://pandas.pydata.org/pandas-docs/stable/user_guide/indexing.html#returning-a-view-versus-a-copy\n",
      "  new_qdf['distillbert_top1_prob'][i] = temp[0]['score']\n",
      "/var/folders/xl/6x4fjht11dq2blkl91wqmnkh0000gn/T/ipykernel_5787/3803522104.py:16: SettingWithCopyWarning: \n",
      "A value is trying to be set on a copy of a slice from a DataFrame\n",
      "\n",
      "See the caveats in the documentation: https://pandas.pydata.org/pandas-docs/stable/user_guide/indexing.html#returning-a-view-versus-a-copy\n",
      "  new_qdf['distillbert_cw_prob'][i] = item['score']\n",
      "/var/folders/xl/6x4fjht11dq2blkl91wqmnkh0000gn/T/ipykernel_5787/3803522104.py:17: SettingWithCopyWarning: \n",
      "A value is trying to be set on a copy of a slice from a DataFrame\n",
      "\n",
      "See the caveats in the documentation: https://pandas.pydata.org/pandas-docs/stable/user_guide/indexing.html#returning-a-view-versus-a-copy\n",
      "  new_qdf['distillbert_cw_accuracy'][i] = 1\n"
     ]
    }
   ],
   "source": [
    "new_qdf['distillbert_cw_prob'] = ''\n",
    "new_qdf['distillbert_top1'] = ''\n",
    "new_qdf['distillbert_top1_prob'] = ''\n",
    "new_qdf['distillbert_cw_accuracy'] = 0\n",
    "\n",
    "unmasker = pipeline('fill-mask', model='distilbert-base-uncased')\n",
    "\n",
    "for i in new_qdf.index:\n",
    "    seq = \"[MASK] \" + new_qdf['post_cw'][i]\n",
    "    temp = unmasker(seq)\n",
    "    new_qdf['distillbert_top1'][i] = temp[0]['token_str']\n",
    "    new_qdf['distillbert_top1_prob'][i] = temp[0]['score']\n",
    "\n",
    "    for item in temp:\n",
    "        if item['token_str'] == new_qdf['cw'][i]:\n",
    "            new_qdf['distillbert_cw_prob'][i] = item['score']\n",
    "            new_qdf['distillbert_cw_accuracy'][i] = 1\n"
   ]
  },
  {
   "cell_type": "code",
   "execution_count": 47,
   "metadata": {},
   "outputs": [
    {
     "data": {
      "text/html": [
       "<div>\n",
       "<style scoped>\n",
       "    .dataframe tbody tr th:only-of-type {\n",
       "        vertical-align: middle;\n",
       "    }\n",
       "\n",
       "    .dataframe tbody tr th {\n",
       "        vertical-align: top;\n",
       "    }\n",
       "\n",
       "    .dataframe thead th {\n",
       "        text-align: right;\n",
       "    }\n",
       "</style>\n",
       "<table border=\"1\" class=\"dataframe\">\n",
       "  <thead>\n",
       "    <tr style=\"text-align: right;\">\n",
       "      <th></th>\n",
       "      <th>cw</th>\n",
       "      <th>post_cw</th>\n",
       "      <th>condition</th>\n",
       "      <th>prediction</th>\n",
       "      <th>sentence</th>\n",
       "      <th>distillbert_cw_prob</th>\n",
       "      <th>distillbert_top1</th>\n",
       "      <th>distillbert_top1_prob</th>\n",
       "      <th>distillbert_cw_accuracy</th>\n",
       "    </tr>\n",
       "  </thead>\n",
       "  <tbody>\n",
       "    <tr>\n",
       "      <th>0</th>\n",
       "      <td>some</td>\n",
       "      <td>people have lungs that are diseased by viruses.</td>\n",
       "      <td>baseline</td>\n",
       "      <td>so-so</td>\n",
       "      <td>Some people have lungs that are diseased by vi...</td>\n",
       "      <td>0.209061</td>\n",
       "      <td>some</td>\n",
       "      <td>0.209061</td>\n",
       "      <td>1</td>\n",
       "    </tr>\n",
       "    <tr>\n",
       "      <th>1</th>\n",
       "      <td>some</td>\n",
       "      <td>people have pets that are diseased by viruses.</td>\n",
       "      <td>baseline</td>\n",
       "      <td>good</td>\n",
       "      <td>Some people have pets that are diseased by vir...</td>\n",
       "      <td>0.289194</td>\n",
       "      <td>some</td>\n",
       "      <td>0.289194</td>\n",
       "      <td>1</td>\n",
       "    </tr>\n",
       "    <tr>\n",
       "      <th>2</th>\n",
       "      <td>all</td>\n",
       "      <td>people have lungs which require good care.</td>\n",
       "      <td>experimental</td>\n",
       "      <td>bad</td>\n",
       "      <td>Some people have lungs which require good care.</td>\n",
       "      <td></td>\n",
       "      <td>some</td>\n",
       "      <td>0.146916</td>\n",
       "      <td>0</td>\n",
       "    </tr>\n",
       "    <tr>\n",
       "      <th>3</th>\n",
       "      <td>some</td>\n",
       "      <td>people have pets which require good care.</td>\n",
       "      <td>experimental</td>\n",
       "      <td>good</td>\n",
       "      <td>Some people have pets which require good care.</td>\n",
       "      <td>0.228662</td>\n",
       "      <td>some</td>\n",
       "      <td>0.228662</td>\n",
       "      <td>1</td>\n",
       "    </tr>\n",
       "    <tr>\n",
       "      <th>4</th>\n",
       "      <td>some</td>\n",
       "      <td>houses have rooms that are filled with kid's t...</td>\n",
       "      <td>baseline</td>\n",
       "      <td>so-so</td>\n",
       "      <td>Some houses have rooms that are filled with ki...</td>\n",
       "      <td>0.037414</td>\n",
       "      <td>these</td>\n",
       "      <td>0.082235</td>\n",
       "      <td>1</td>\n",
       "    </tr>\n",
       "  </tbody>\n",
       "</table>\n",
       "</div>"
      ],
      "text/plain": [
       "     cw  ... distillbert_cw_accuracy\n",
       "0  some  ...                       1\n",
       "1  some  ...                       1\n",
       "2   all  ...                       0\n",
       "3  some  ...                       1\n",
       "4  some  ...                       1\n",
       "\n",
       "[5 rows x 9 columns]"
      ]
     },
     "execution_count": 47,
     "metadata": {},
     "output_type": "execute_result"
    }
   ],
   "source": [
    "new_qdf.head()"
   ]
  },
  {
   "cell_type": "markdown",
   "metadata": {},
   "source": [
    "## presupposition"
   ]
  },
  {
   "cell_type": "code",
   "execution_count": 4,
   "metadata": {},
   "outputs": [
    {
     "data": {
      "text/html": [
       "<div>\n",
       "<style scoped>\n",
       "    .dataframe tbody tr th:only-of-type {\n",
       "        vertical-align: middle;\n",
       "    }\n",
       "\n",
       "    .dataframe tbody tr th {\n",
       "        vertical-align: top;\n",
       "    }\n",
       "\n",
       "    .dataframe thead th {\n",
       "        text-align: right;\n",
       "    }\n",
       "</style>\n",
       "<table border=\"1\" class=\"dataframe\">\n",
       "  <thead>\n",
       "    <tr style=\"text-align: right;\">\n",
       "      <th></th>\n",
       "      <th>pre_cw</th>\n",
       "      <th>cw</th>\n",
       "      <th>post_cw</th>\n",
       "      <th>post_cw_trigger</th>\n",
       "      <th>condition</th>\n",
       "      <th>prediction</th>\n",
       "    </tr>\n",
       "  </thead>\n",
       "  <tbody>\n",
       "    <tr>\n",
       "      <th>0</th>\n",
       "      <td>Seth went to</td>\n",
       "      <td>jail</td>\n",
       "      <td>on Saturday night.</td>\n",
       "      <td>The guard spoke to him there for a while .</td>\n",
       "      <td>experimental</td>\n",
       "      <td>good</td>\n",
       "    </tr>\n",
       "    <tr>\n",
       "      <th>1</th>\n",
       "      <td>Seth went to a</td>\n",
       "      <td>restaurant</td>\n",
       "      <td>on Saturday night.</td>\n",
       "      <td>The guard spoke to him there for a while .</td>\n",
       "      <td>baseline</td>\n",
       "      <td>bad</td>\n",
       "    </tr>\n",
       "    <tr>\n",
       "      <th>2</th>\n",
       "      <td>Kristen went to a</td>\n",
       "      <td>restaurant</td>\n",
       "      <td>in the morning.</td>\n",
       "      <td>The waiter served her there quickly .</td>\n",
       "      <td>experimental</td>\n",
       "      <td>good</td>\n",
       "    </tr>\n",
       "    <tr>\n",
       "      <th>3</th>\n",
       "      <td>Kristen went to</td>\n",
       "      <td>jail</td>\n",
       "      <td>in the morning.</td>\n",
       "      <td>The waiter served her there quickly .</td>\n",
       "      <td>baseline</td>\n",
       "      <td>bad</td>\n",
       "    </tr>\n",
       "    <tr>\n",
       "      <th>4</th>\n",
       "      <td>Sue went to a</td>\n",
       "      <td>salon</td>\n",
       "      <td>in the fall.</td>\n",
       "      <td>The hairdresser addressed her there politely .</td>\n",
       "      <td>experimental</td>\n",
       "      <td>good</td>\n",
       "    </tr>\n",
       "  </tbody>\n",
       "</table>\n",
       "</div>"
      ],
      "text/plain": [
       "              pre_cw          cw             post_cw  \\\n",
       "0       Seth went to        jail  on Saturday night.   \n",
       "1     Seth went to a  restaurant  on Saturday night.   \n",
       "2  Kristen went to a  restaurant     in the morning.   \n",
       "3    Kristen went to        jail     in the morning.   \n",
       "4      Sue went to a       salon        in the fall.   \n",
       "\n",
       "                                  post_cw_trigger     condition prediction  \n",
       "0      The guard spoke to him there for a while .  experimental       good  \n",
       "1      The guard spoke to him there for a while .      baseline        bad  \n",
       "2           The waiter served her there quickly .  experimental       good  \n",
       "3           The waiter served her there quickly .      baseline        bad  \n",
       "4  The hairdresser addressed her there politely .  experimental       good  "
      ]
     },
     "execution_count": 4,
     "metadata": {},
     "output_type": "execute_result"
    }
   ],
   "source": [
    "df = pd.read_csv('/Users/yancong/Desktop/5 zili research/cogsci2022/data/Presp.csv', index_col=0)\n",
    "df.head()"
   ]
  },
  {
   "cell_type": "code",
   "execution_count": 5,
   "metadata": {},
   "outputs": [
    {
     "name": "stderr",
     "output_type": "stream",
     "text": [
      "<ipython-input-5-12f6037b417f>:11: SettingWithCopyWarning: \n",
      "A value is trying to be set on a copy of a slice from a DataFrame\n",
      "\n",
      "See the caveats in the documentation: https://pandas.pydata.org/pandas-docs/stable/user_guide/indexing.html#returning-a-view-versus-a-copy\n",
      "  df['distillbert_top1'][i] = temp[0]['token_str']\n",
      "<ipython-input-5-12f6037b417f>:12: SettingWithCopyWarning: \n",
      "A value is trying to be set on a copy of a slice from a DataFrame\n",
      "\n",
      "See the caveats in the documentation: https://pandas.pydata.org/pandas-docs/stable/user_guide/indexing.html#returning-a-view-versus-a-copy\n",
      "  df['distillbert_top1_prob'][i] = temp[0]['score']\n",
      "<ipython-input-5-12f6037b417f>:16: SettingWithCopyWarning: \n",
      "A value is trying to be set on a copy of a slice from a DataFrame\n",
      "\n",
      "See the caveats in the documentation: https://pandas.pydata.org/pandas-docs/stable/user_guide/indexing.html#returning-a-view-versus-a-copy\n",
      "  df['distillbert_cw_prob'][i] = item['score']\n",
      "<ipython-input-5-12f6037b417f>:17: SettingWithCopyWarning: \n",
      "A value is trying to be set on a copy of a slice from a DataFrame\n",
      "\n",
      "See the caveats in the documentation: https://pandas.pydata.org/pandas-docs/stable/user_guide/indexing.html#returning-a-view-versus-a-copy\n",
      "  df['distillbert_cw_accuracy'][i] = 1\n"
     ]
    }
   ],
   "source": [
    "df['distillbert_cw_prob'] = ''\n",
    "df['distillbert_top1'] = ''\n",
    "df['distillbert_top1_prob'] = ''\n",
    "df['distillbert_cw_accuracy'] = 0\n",
    "\n",
    "unmasker = pipeline('fill-mask', model='distilbert-base-uncased')\n",
    "\n",
    "for i in df.index:\n",
    "    seq = df['pre_cw'][i] + \" [MASK] \" + df['post_cw'][i] + ' ' + df['post_cw_trigger'][i]\n",
    "    temp = unmasker(seq)\n",
    "    df['distillbert_top1'][i] = temp[0]['token_str']\n",
    "    df['distillbert_top1_prob'][i] = temp[0]['score']\n",
    "\n",
    "    for item in temp:\n",
    "        if item['token_str'] == df['cw'][i]:\n",
    "            df['distillbert_cw_prob'][i] = item['score']\n",
    "            df['distillbert_cw_accuracy'][i] = 1"
   ]
  },
  {
   "cell_type": "markdown",
   "metadata": {},
   "source": [
    "# Fine-tuned distill-bert"
   ]
  },
  {
   "cell_type": "markdown",
   "metadata": {},
   "source": [
    "## quantifier"
   ]
  },
  {
   "cell_type": "markdown",
   "metadata": {},
   "source": [
    "### playground"
   ]
  },
  {
   "cell_type": "code",
   "execution_count": null,
   "metadata": {},
   "outputs": [],
   "source": [
    "unmasker = pipeline('fill-mask', model='distilbert-base-uncased-finetuned-quantifier')\n",
    "unmasker(\"[MASK] people have lungs that are diseased by viruses.\")"
   ]
  },
  {
   "cell_type": "code",
   "execution_count": 12,
   "metadata": {},
   "outputs": [
    {
     "data": {
      "text/plain": [
       "[{'score': 0.08351080864667892,\n",
       "  'token': 8860,\n",
       "  'token_str': 'libraries',\n",
       "  'sequence': 'some people have libraries that are diseased by viruses.'},\n",
       " {'score': 0.05673876032233238,\n",
       "  'token': 9941,\n",
       "  'token_str': 'museums',\n",
       "  'sequence': 'some people have museums that are diseased by viruses.'},\n",
       " {'score': 0.05336903780698776,\n",
       "  'token': 3765,\n",
       "  'token_str': 'cars',\n",
       "  'sequence': 'some people have cars that are diseased by viruses.'},\n",
       " {'score': 0.042930975556373596,\n",
       "  'token': 2816,\n",
       "  'token_str': 'schools',\n",
       "  'sequence': 'some people have schools that are diseased by viruses.'},\n",
       " {'score': 0.031352803111076355,\n",
       "  'token': 8870,\n",
       "  'token_str': 'cats',\n",
       "  'sequence': 'some people have cats that are diseased by viruses.'}]"
      ]
     },
     "execution_count": 12,
     "metadata": {},
     "output_type": "execute_result"
    }
   ],
   "source": [
    "unmasker = pipeline('fill-mask', model='distilbert-base-uncased-finetuned-quantifier')\n",
    "unmasker(\"Some people have [MASK] that are diseased by viruses.\")"
   ]
  },
  {
   "cell_type": "code",
   "execution_count": 17,
   "metadata": {},
   "outputs": [
    {
     "data": {
      "text/plain": [
       "[{'score': 0.32520872354507446,\n",
       "  'token': 2122,\n",
       "  'token_str': 'these',\n",
       "  'sequence': 'these people have lungs which require good care.'},\n",
       " {'score': 0.179448202252388,\n",
       "  'token': 2035,\n",
       "  'token_str': 'all',\n",
       "  'sequence': 'all people have lungs which require good care.'},\n",
       " {'score': 0.17357008159160614,\n",
       "  'token': 2070,\n",
       "  'token_str': 'some',\n",
       "  'sequence': 'some people have lungs which require good care.'},\n",
       " {'score': 0.06642021983861923,\n",
       "  'token': 2087,\n",
       "  'token_str': 'most',\n",
       "  'sequence': 'most people have lungs which require good care.'},\n",
       " {'score': 0.05995144322514534,\n",
       "  'token': 2116,\n",
       "  'token_str': 'many',\n",
       "  'sequence': 'many people have lungs which require good care.'}]"
      ]
     },
     "execution_count": 17,
     "metadata": {},
     "output_type": "execute_result"
    }
   ],
   "source": [
    "unmasker = pipeline('fill-mask', model='distilbert-base-uncased-finetuned-quantifier')\n",
    "unmasker(\"[MASK] people have lungs which require good care.\")"
   ]
  },
  {
   "cell_type": "markdown",
   "metadata": {},
   "source": [
    "### finetuned distill-bert on new SI dataset"
   ]
  },
  {
   "cell_type": "code",
   "execution_count": 13,
   "metadata": {},
   "outputs": [
    {
     "name": "stdout",
     "output_type": "stream",
     "text": [
      "'>>> DistilBERT number of parameters: 67M'\n",
      "'>>> BERT number of parameters: 110M'\n"
     ]
    }
   ],
   "source": [
    "from transformers import AutoTokenizer\n",
    "from transformers import AutoModelForMaskedLM\n",
    "\n",
    "model_checkpoint = \"distilbert-base-uncased-finetuned-quantifier\"\n",
    "model = AutoModelForMaskedLM.from_pretrained(model_checkpoint)\n",
    "\n",
    "tokenizer = AutoTokenizer.from_pretrained(model_checkpoint)\n",
    "tokenizer.save_pretrained('distilbert-base-uncased-finetuned-quantifier')\n",
    "\n",
    "distilbert_num_parameters = model.num_parameters() / 1_000_000\n",
    "print(f\"'>>> DistilBERT number of parameters: {round(distilbert_num_parameters)}M'\")\n",
    "print(f\"'>>> BERT number of parameters: 110M'\")"
   ]
  },
  {
   "cell_type": "code",
   "execution_count": 48,
   "metadata": {},
   "outputs": [
    {
     "name": "stderr",
     "output_type": "stream",
     "text": [
      "/var/folders/xl/6x4fjht11dq2blkl91wqmnkh0000gn/T/ipykernel_5787/1315934054.py:11: SettingWithCopyWarning: \n",
      "A value is trying to be set on a copy of a slice from a DataFrame\n",
      "\n",
      "See the caveats in the documentation: https://pandas.pydata.org/pandas-docs/stable/user_guide/indexing.html#returning-a-view-versus-a-copy\n",
      "  new_qdf['ft_distillbert_top1'][i] = temp[0]['token_str']\n",
      "/var/folders/xl/6x4fjht11dq2blkl91wqmnkh0000gn/T/ipykernel_5787/1315934054.py:12: SettingWithCopyWarning: \n",
      "A value is trying to be set on a copy of a slice from a DataFrame\n",
      "\n",
      "See the caveats in the documentation: https://pandas.pydata.org/pandas-docs/stable/user_guide/indexing.html#returning-a-view-versus-a-copy\n",
      "  new_qdf['ft_distillbert_top1_prob'][i] = temp[0]['score']\n",
      "/var/folders/xl/6x4fjht11dq2blkl91wqmnkh0000gn/T/ipykernel_5787/1315934054.py:16: SettingWithCopyWarning: \n",
      "A value is trying to be set on a copy of a slice from a DataFrame\n",
      "\n",
      "See the caveats in the documentation: https://pandas.pydata.org/pandas-docs/stable/user_guide/indexing.html#returning-a-view-versus-a-copy\n",
      "  new_qdf['ft_distillbert_cw_prob'][i] = item['score']\n",
      "/var/folders/xl/6x4fjht11dq2blkl91wqmnkh0000gn/T/ipykernel_5787/1315934054.py:17: SettingWithCopyWarning: \n",
      "A value is trying to be set on a copy of a slice from a DataFrame\n",
      "\n",
      "See the caveats in the documentation: https://pandas.pydata.org/pandas-docs/stable/user_guide/indexing.html#returning-a-view-versus-a-copy\n",
      "  new_qdf['ft_distillbert_accuracy'][i] = 1\n"
     ]
    }
   ],
   "source": [
    "new_qdf['ft_distillbert_cw_prob'] = ''\n",
    "new_qdf['ft_distillbert_top1'] = ''\n",
    "new_qdf['ft_distillbert_top1_prob'] = ''\n",
    "new_qdf['ft_distillbert_accuracy'] = 0\n",
    "\n",
    "unmasker = pipeline('fill-mask', model='distilbert-base-uncased-finetuned-quantifier')\n",
    "\n",
    "for i in new_qdf.index:\n",
    "    seq = \"[MASK] \" + new_qdf['post_cw'][i]\n",
    "    temp = unmasker(seq)\n",
    "    new_qdf['ft_distillbert_top1'][i] = temp[0]['token_str']\n",
    "    new_qdf['ft_distillbert_top1_prob'][i] = temp[0]['score']\n",
    "\n",
    "    for item in temp:\n",
    "        if item['token_str'] == new_qdf['cw'][i]:\n",
    "            new_qdf['ft_distillbert_cw_prob'][i] = item['score']\n",
    "            new_qdf['ft_distillbert_accuracy'][i] = 1"
   ]
  },
  {
   "cell_type": "code",
   "execution_count": 49,
   "metadata": {},
   "outputs": [
    {
     "data": {
      "text/html": [
       "<div>\n",
       "<style scoped>\n",
       "    .dataframe tbody tr th:only-of-type {\n",
       "        vertical-align: middle;\n",
       "    }\n",
       "\n",
       "    .dataframe tbody tr th {\n",
       "        vertical-align: top;\n",
       "    }\n",
       "\n",
       "    .dataframe thead th {\n",
       "        text-align: right;\n",
       "    }\n",
       "</style>\n",
       "<table border=\"1\" class=\"dataframe\">\n",
       "  <thead>\n",
       "    <tr style=\"text-align: right;\">\n",
       "      <th></th>\n",
       "      <th>cw</th>\n",
       "      <th>post_cw</th>\n",
       "      <th>condition</th>\n",
       "      <th>prediction</th>\n",
       "      <th>sentence</th>\n",
       "      <th>distillbert_cw_prob</th>\n",
       "      <th>distillbert_top1</th>\n",
       "      <th>distillbert_top1_prob</th>\n",
       "      <th>distillbert_cw_accuracy</th>\n",
       "      <th>ft_distillbert_cw_prob</th>\n",
       "      <th>ft_distillbert_top1</th>\n",
       "      <th>ft_distillbert_top1_prob</th>\n",
       "      <th>ft_distillbert_accuracy</th>\n",
       "    </tr>\n",
       "  </thead>\n",
       "  <tbody>\n",
       "    <tr>\n",
       "      <th>0</th>\n",
       "      <td>some</td>\n",
       "      <td>people have lungs that are diseased by viruses.</td>\n",
       "      <td>baseline</td>\n",
       "      <td>so-so</td>\n",
       "      <td>Some people have lungs that are diseased by vi...</td>\n",
       "      <td>0.209061</td>\n",
       "      <td>some</td>\n",
       "      <td>0.209061</td>\n",
       "      <td>1</td>\n",
       "      <td>0.191318</td>\n",
       "      <td>these</td>\n",
       "      <td>0.295243</td>\n",
       "      <td>1</td>\n",
       "    </tr>\n",
       "    <tr>\n",
       "      <th>1</th>\n",
       "      <td>some</td>\n",
       "      <td>people have pets that are diseased by viruses.</td>\n",
       "      <td>baseline</td>\n",
       "      <td>good</td>\n",
       "      <td>Some people have pets that are diseased by vir...</td>\n",
       "      <td>0.289194</td>\n",
       "      <td>some</td>\n",
       "      <td>0.289194</td>\n",
       "      <td>1</td>\n",
       "      <td>0.197293</td>\n",
       "      <td>these</td>\n",
       "      <td>0.343162</td>\n",
       "      <td>1</td>\n",
       "    </tr>\n",
       "    <tr>\n",
       "      <th>2</th>\n",
       "      <td>all</td>\n",
       "      <td>people have lungs which require good care.</td>\n",
       "      <td>experimental</td>\n",
       "      <td>bad</td>\n",
       "      <td>Some people have lungs which require good care.</td>\n",
       "      <td></td>\n",
       "      <td>some</td>\n",
       "      <td>0.146916</td>\n",
       "      <td>0</td>\n",
       "      <td>0.179448</td>\n",
       "      <td>these</td>\n",
       "      <td>0.325209</td>\n",
       "      <td>1</td>\n",
       "    </tr>\n",
       "    <tr>\n",
       "      <th>3</th>\n",
       "      <td>some</td>\n",
       "      <td>people have pets which require good care.</td>\n",
       "      <td>experimental</td>\n",
       "      <td>good</td>\n",
       "      <td>Some people have pets which require good care.</td>\n",
       "      <td>0.228662</td>\n",
       "      <td>some</td>\n",
       "      <td>0.228662</td>\n",
       "      <td>1</td>\n",
       "      <td>0.218351</td>\n",
       "      <td>these</td>\n",
       "      <td>0.292617</td>\n",
       "      <td>1</td>\n",
       "    </tr>\n",
       "    <tr>\n",
       "      <th>4</th>\n",
       "      <td>some</td>\n",
       "      <td>houses have rooms that are filled with kid's t...</td>\n",
       "      <td>baseline</td>\n",
       "      <td>so-so</td>\n",
       "      <td>Some houses have rooms that are filled with ki...</td>\n",
       "      <td>0.037414</td>\n",
       "      <td>these</td>\n",
       "      <td>0.082235</td>\n",
       "      <td>1</td>\n",
       "      <td>0.090154</td>\n",
       "      <td>these</td>\n",
       "      <td>0.553979</td>\n",
       "      <td>1</td>\n",
       "    </tr>\n",
       "  </tbody>\n",
       "</table>\n",
       "</div>"
      ],
      "text/plain": [
       "     cw  ... ft_distillbert_accuracy\n",
       "0  some  ...                       1\n",
       "1  some  ...                       1\n",
       "2   all  ...                       1\n",
       "3  some  ...                       1\n",
       "4  some  ...                       1\n",
       "\n",
       "[5 rows x 13 columns]"
      ]
     },
     "execution_count": 49,
     "metadata": {},
     "output_type": "execute_result"
    }
   ],
   "source": [
    "new_qdf.head()"
   ]
  },
  {
   "cell_type": "code",
   "execution_count": 50,
   "metadata": {},
   "outputs": [],
   "source": [
    "new_qdf.to_csv('/Users/yancong/Desktop/5 zili research/cogsci2022/data/SI_cw_quantifier.csv')"
   ]
  },
  {
   "cell_type": "markdown",
   "metadata": {},
   "source": [
    "## presupposition"
   ]
  },
  {
   "cell_type": "code",
   "execution_count": 6,
   "metadata": {},
   "outputs": [
    {
     "data": {
      "application/vnd.jupyter.widget-view+json": {
       "model_id": "a25c04e338f3495187f2c1952c15145a",
       "version_major": 2,
       "version_minor": 0
      },
      "text/plain": [
       "VBox(children=(HTML(value='<center>\\n<img src=https://huggingface.co/front/assets/huggingface_logo-noborder.sv…"
      ]
     },
     "metadata": {},
     "output_type": "display_data"
    }
   ],
   "source": [
    "from huggingface_hub import notebook_login\n",
    "\n",
    "notebook_login()"
   ]
  },
  {
   "cell_type": "code",
   "execution_count": 7,
   "metadata": {},
   "outputs": [],
   "source": [
    "use_auth_token=True"
   ]
  },
  {
   "cell_type": "code",
   "execution_count": 8,
   "metadata": {},
   "outputs": [
    {
     "name": "stdout",
     "output_type": "stream",
     "text": [
      "'>>> DistilBERT number of parameters: 67M'\n",
      "'>>> BERT number of parameters: 110M'\n"
     ]
    }
   ],
   "source": [
    "from transformers import AutoTokenizer\n",
    "from transformers import AutoModelForMaskedLM\n",
    "\n",
    "model_checkpoint = \"distilbert-base-uncased-finetuned-existence\"\n",
    "model = AutoModelForMaskedLM.from_pretrained(model_checkpoint)\n",
    "\n",
    "tokenizer = AutoTokenizer.from_pretrained(model_checkpoint)\n",
    "tokenizer.save_pretrained('distilbert-base-uncased-finetuned-existence')\n",
    "\n",
    "distilbert_num_parameters = model.num_parameters() / 1_000_000\n",
    "print(f\"'>>> DistilBERT number of parameters: {round(distilbert_num_parameters)}M'\")\n",
    "print(f\"'>>> BERT number of parameters: 110M'\")"
   ]
  },
  {
   "cell_type": "code",
   "execution_count": 9,
   "metadata": {},
   "outputs": [
    {
     "data": {
      "text/plain": [
       "[{'score': 0.5311275720596313,\n",
       "  'token': 2122,\n",
       "  'token_str': 'these',\n",
       "  'sequence': 'these people have lungs which require good care.'},\n",
       " {'score': 0.15924863517284393,\n",
       "  'token': 2116,\n",
       "  'token_str': 'many',\n",
       "  'sequence': 'many people have lungs which require good care.'},\n",
       " {'score': 0.05643483251333237,\n",
       "  'token': 2119,\n",
       "  'token_str': 'both',\n",
       "  'sequence': 'both people have lungs which require good care.'},\n",
       " {'score': 0.049704015254974365,\n",
       "  'token': 2216,\n",
       "  'token_str': 'those',\n",
       "  'sequence': 'those people have lungs which require good care.'},\n",
       " {'score': 0.04197145253419876,\n",
       "  'token': 2087,\n",
       "  'token_str': 'most',\n",
       "  'sequence': 'most people have lungs which require good care.'}]"
      ]
     },
     "execution_count": 9,
     "metadata": {},
     "output_type": "execute_result"
    }
   ],
   "source": [
    "unmasker = pipeline('fill-mask', model='distilbert-base-uncased-finetuned-existence')\n",
    "unmasker(\"[MASK] people have lungs which require good care.\")"
   ]
  },
  {
   "cell_type": "code",
   "execution_count": 10,
   "metadata": {},
   "outputs": [
    {
     "name": "stderr",
     "output_type": "stream",
     "text": [
      "<ipython-input-10-8c4cfe13be4e>:11: SettingWithCopyWarning: \n",
      "A value is trying to be set on a copy of a slice from a DataFrame\n",
      "\n",
      "See the caveats in the documentation: https://pandas.pydata.org/pandas-docs/stable/user_guide/indexing.html#returning-a-view-versus-a-copy\n",
      "  df['ft_distillbert_top1'][i] = temp[0]['token_str']\n",
      "<ipython-input-10-8c4cfe13be4e>:12: SettingWithCopyWarning: \n",
      "A value is trying to be set on a copy of a slice from a DataFrame\n",
      "\n",
      "See the caveats in the documentation: https://pandas.pydata.org/pandas-docs/stable/user_guide/indexing.html#returning-a-view-versus-a-copy\n",
      "  df['ft_distillbert_top1_prob'][i] = temp[0]['score']\n",
      "<ipython-input-10-8c4cfe13be4e>:16: SettingWithCopyWarning: \n",
      "A value is trying to be set on a copy of a slice from a DataFrame\n",
      "\n",
      "See the caveats in the documentation: https://pandas.pydata.org/pandas-docs/stable/user_guide/indexing.html#returning-a-view-versus-a-copy\n",
      "  df['ft_distillbert_cw_prob'][i] = item['score']\n",
      "<ipython-input-10-8c4cfe13be4e>:17: SettingWithCopyWarning: \n",
      "A value is trying to be set on a copy of a slice from a DataFrame\n",
      "\n",
      "See the caveats in the documentation: https://pandas.pydata.org/pandas-docs/stable/user_guide/indexing.html#returning-a-view-versus-a-copy\n",
      "  df['ft_distillbert_accuracy'][i] = 1\n"
     ]
    }
   ],
   "source": [
    "df['ft_distillbert_cw_prob'] = ''\n",
    "df['ft_distillbert_top1'] = ''\n",
    "df['ft_distillbert_top1_prob'] = ''\n",
    "df['ft_distillbert_accuracy'] = 0\n",
    "\n",
    "unmasker = pipeline('fill-mask', model='distilbert-base-uncased-finetuned-existence')\n",
    "\n",
    "for i in df.index:\n",
    "    seq = df['pre_cw'][i] + \" [MASK] \" + df['post_cw'][i] + ' ' + df['post_cw_trigger'][i]\n",
    "    temp = unmasker(seq)\n",
    "    df['ft_distillbert_top1'][i] = temp[0]['token_str']\n",
    "    df['ft_distillbert_top1_prob'][i] = temp[0]['score']\n",
    "\n",
    "    for item in temp:\n",
    "        if item['token_str'] == df['cw'][i]:\n",
    "            df['ft_distillbert_cw_prob'][i] = item['score']\n",
    "            df['ft_distillbert_accuracy'][i] = 1 # this is wrong, should be if bad, then 0; if good, then 1"
   ]
  },
  {
   "cell_type": "code",
   "execution_count": 11,
   "metadata": {},
   "outputs": [
    {
     "data": {
      "text/html": [
       "<div>\n",
       "<style scoped>\n",
       "    .dataframe tbody tr th:only-of-type {\n",
       "        vertical-align: middle;\n",
       "    }\n",
       "\n",
       "    .dataframe tbody tr th {\n",
       "        vertical-align: top;\n",
       "    }\n",
       "\n",
       "    .dataframe thead th {\n",
       "        text-align: right;\n",
       "    }\n",
       "</style>\n",
       "<table border=\"1\" class=\"dataframe\">\n",
       "  <thead>\n",
       "    <tr style=\"text-align: right;\">\n",
       "      <th></th>\n",
       "      <th>pre_cw</th>\n",
       "      <th>cw</th>\n",
       "      <th>post_cw</th>\n",
       "      <th>post_cw_trigger</th>\n",
       "      <th>condition</th>\n",
       "      <th>prediction</th>\n",
       "      <th>distillbert_cw_prob</th>\n",
       "      <th>distillbert_top1</th>\n",
       "      <th>distillbert_top1_prob</th>\n",
       "      <th>distillbert_cw_accuracy</th>\n",
       "      <th>ft_distillbert_cw_prob</th>\n",
       "      <th>ft_distillbert_top1</th>\n",
       "      <th>ft_distillbert_top1_prob</th>\n",
       "      <th>ft_distillbert_accuracy</th>\n",
       "    </tr>\n",
       "  </thead>\n",
       "  <tbody>\n",
       "    <tr>\n",
       "      <th>0</th>\n",
       "      <td>Seth went to</td>\n",
       "      <td>jail</td>\n",
       "      <td>on Saturday night.</td>\n",
       "      <td>The guard spoke to him there for a while .</td>\n",
       "      <td>experimental</td>\n",
       "      <td>good</td>\n",
       "      <td>0.038628</td>\n",
       "      <td>sleep</td>\n",
       "      <td>0.115822</td>\n",
       "      <td>1</td>\n",
       "      <td></td>\n",
       "      <td>school</td>\n",
       "      <td>0.082037</td>\n",
       "      <td>0</td>\n",
       "    </tr>\n",
       "    <tr>\n",
       "      <th>1</th>\n",
       "      <td>Seth went to a</td>\n",
       "      <td>restaurant</td>\n",
       "      <td>on Saturday night.</td>\n",
       "      <td>The guard spoke to him there for a while .</td>\n",
       "      <td>baseline</td>\n",
       "      <td>bad</td>\n",
       "      <td>0.064623</td>\n",
       "      <td>motel</td>\n",
       "      <td>0.137708</td>\n",
       "      <td>1</td>\n",
       "      <td>0.168983</td>\n",
       "      <td>restaurant</td>\n",
       "      <td>0.168983</td>\n",
       "      <td>1</td>\n",
       "    </tr>\n",
       "    <tr>\n",
       "      <th>2</th>\n",
       "      <td>Kristen went to a</td>\n",
       "      <td>restaurant</td>\n",
       "      <td>in the morning.</td>\n",
       "      <td>The waiter served her there quickly .</td>\n",
       "      <td>experimental</td>\n",
       "      <td>good</td>\n",
       "      <td>0.405458</td>\n",
       "      <td>restaurant</td>\n",
       "      <td>0.405458</td>\n",
       "      <td>1</td>\n",
       "      <td>0.57059</td>\n",
       "      <td>restaurant</td>\n",
       "      <td>0.57059</td>\n",
       "      <td>1</td>\n",
       "    </tr>\n",
       "    <tr>\n",
       "      <th>3</th>\n",
       "      <td>Kristen went to</td>\n",
       "      <td>jail</td>\n",
       "      <td>in the morning.</td>\n",
       "      <td>The waiter served her there quickly .</td>\n",
       "      <td>baseline</td>\n",
       "      <td>bad</td>\n",
       "      <td></td>\n",
       "      <td>work</td>\n",
       "      <td>0.29974</td>\n",
       "      <td>0</td>\n",
       "      <td></td>\n",
       "      <td>work</td>\n",
       "      <td>0.507694</td>\n",
       "      <td>0</td>\n",
       "    </tr>\n",
       "    <tr>\n",
       "      <th>4</th>\n",
       "      <td>Sue went to a</td>\n",
       "      <td>salon</td>\n",
       "      <td>in the fall.</td>\n",
       "      <td>The hairdresser addressed her there politely .</td>\n",
       "      <td>experimental</td>\n",
       "      <td>good</td>\n",
       "      <td>0.203876</td>\n",
       "      <td>salon</td>\n",
       "      <td>0.203876</td>\n",
       "      <td>1</td>\n",
       "      <td></td>\n",
       "      <td>restaurant</td>\n",
       "      <td>0.177635</td>\n",
       "      <td>0</td>\n",
       "    </tr>\n",
       "  </tbody>\n",
       "</table>\n",
       "</div>"
      ],
      "text/plain": [
       "              pre_cw          cw             post_cw  \\\n",
       "0       Seth went to        jail  on Saturday night.   \n",
       "1     Seth went to a  restaurant  on Saturday night.   \n",
       "2  Kristen went to a  restaurant     in the morning.   \n",
       "3    Kristen went to        jail     in the morning.   \n",
       "4      Sue went to a       salon        in the fall.   \n",
       "\n",
       "                                  post_cw_trigger     condition prediction  \\\n",
       "0      The guard spoke to him there for a while .  experimental       good   \n",
       "1      The guard spoke to him there for a while .      baseline        bad   \n",
       "2           The waiter served her there quickly .  experimental       good   \n",
       "3           The waiter served her there quickly .      baseline        bad   \n",
       "4  The hairdresser addressed her there politely .  experimental       good   \n",
       "\n",
       "  distillbert_cw_prob distillbert_top1 distillbert_top1_prob  \\\n",
       "0            0.038628            sleep              0.115822   \n",
       "1            0.064623            motel              0.137708   \n",
       "2            0.405458       restaurant              0.405458   \n",
       "3                                 work               0.29974   \n",
       "4            0.203876            salon              0.203876   \n",
       "\n",
       "   distillbert_cw_accuracy ft_distillbert_cw_prob ft_distillbert_top1  \\\n",
       "0                        1                                     school   \n",
       "1                        1               0.168983          restaurant   \n",
       "2                        1                0.57059          restaurant   \n",
       "3                        0                                       work   \n",
       "4                        1                                 restaurant   \n",
       "\n",
       "  ft_distillbert_top1_prob  ft_distillbert_accuracy  \n",
       "0                 0.082037                        0  \n",
       "1                 0.168983                        1  \n",
       "2                  0.57059                        1  \n",
       "3                 0.507694                        0  \n",
       "4                 0.177635                        0  "
      ]
     },
     "execution_count": 11,
     "metadata": {},
     "output_type": "execute_result"
    }
   ],
   "source": [
    "df.head()"
   ]
  },
  {
   "cell_type": "code",
   "execution_count": 12,
   "metadata": {},
   "outputs": [],
   "source": [
    "df.to_csv('/Users/yancong/Desktop/5 zili research/naacl2022_cong_shortPaper/data analysis/Presp_cw_bert.csv')"
   ]
  }
 ],
 "metadata": {
  "interpreter": {
   "hash": "c9bbc2a1c928760b171406dd0b75aa2bc786a11b1c33c4ac331981aff1f6a975"
  },
  "kernelspec": {
   "display_name": "Python 3.9.7 ('nlum1')",
   "language": "python",
   "name": "python3"
  },
  "language_info": {
   "codemirror_mode": {
    "name": "ipython",
    "version": 3
   },
   "file_extension": ".py",
   "mimetype": "text/x-python",
   "name": "python",
   "nbconvert_exporter": "python",
   "pygments_lexer": "ipython3",
   "version": "3.8.8"
  },
  "orig_nbformat": 4
 },
 "nbformat": 4,
 "nbformat_minor": 2
}
