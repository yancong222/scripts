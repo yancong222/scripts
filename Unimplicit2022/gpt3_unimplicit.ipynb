{
  "nbformat": 4,
  "nbformat_minor": 0,
  "metadata": {
    "colab": {
      "name": "gpt3_unimplicit.ipynb",
      "provenance": []
    },
    "kernelspec": {
      "name": "python3",
      "display_name": "Python 3"
    },
    "language_info": {
      "name": "python"
    }
  },
  "cells": [
    {
      "cell_type": "markdown",
      "source": [
        "**Load openai**"
      ],
      "metadata": {
        "id": "lYfVW3gbB2Xz"
      }
    },
    {
      "cell_type": "code",
      "source": [
        "!pip install openai"
      ],
      "metadata": {
        "colab": {
          "base_uri": "https://localhost:8080/"
        },
        "id": "eFFEIQC6nZvK",
        "outputId": "4812114f-7e56-4cb1-f127-1650ed03201f"
      },
      "execution_count": null,
      "outputs": [
        {
          "output_type": "stream",
          "name": "stdout",
          "text": [
            "Requirement already satisfied: openai in /usr/local/lib/python3.7/dist-packages (0.16.0)\n",
            "Requirement already satisfied: pandas-stubs>=1.1.0.11 in /usr/local/lib/python3.7/dist-packages (from openai) (1.2.0.56)\n",
            "Requirement already satisfied: requests>=2.20 in /usr/local/lib/python3.7/dist-packages (from openai) (2.23.0)\n",
            "Requirement already satisfied: openpyxl>=3.0.7 in /usr/local/lib/python3.7/dist-packages (from openai) (3.0.9)\n",
            "Requirement already satisfied: tqdm in /usr/local/lib/python3.7/dist-packages (from openai) (4.63.0)\n",
            "Requirement already satisfied: pandas>=1.2.3 in /usr/local/lib/python3.7/dist-packages (from openai) (1.3.5)\n",
            "Requirement already satisfied: et-xmlfile in /usr/local/lib/python3.7/dist-packages (from openpyxl>=3.0.7->openai) (1.1.0)\n",
            "Requirement already satisfied: pytz>=2017.3 in /usr/local/lib/python3.7/dist-packages (from pandas>=1.2.3->openai) (2018.9)\n",
            "Requirement already satisfied: numpy>=1.17.3 in /usr/local/lib/python3.7/dist-packages (from pandas>=1.2.3->openai) (1.21.5)\n",
            "Requirement already satisfied: python-dateutil>=2.7.3 in /usr/local/lib/python3.7/dist-packages (from pandas>=1.2.3->openai) (2.8.2)\n",
            "Requirement already satisfied: typing-extensions>=3.7.4.3 in /usr/local/lib/python3.7/dist-packages (from pandas-stubs>=1.1.0.11->openai) (3.10.0.2)\n",
            "Requirement already satisfied: six>=1.5 in /usr/local/lib/python3.7/dist-packages (from python-dateutil>=2.7.3->pandas>=1.2.3->openai) (1.15.0)\n",
            "Requirement already satisfied: urllib3!=1.25.0,!=1.25.1,<1.26,>=1.21.1 in /usr/local/lib/python3.7/dist-packages (from requests>=2.20->openai) (1.24.3)\n",
            "Requirement already satisfied: idna<3,>=2.5 in /usr/local/lib/python3.7/dist-packages (from requests>=2.20->openai) (2.10)\n",
            "Requirement already satisfied: chardet<4,>=3.0.2 in /usr/local/lib/python3.7/dist-packages (from requests>=2.20->openai) (3.0.4)\n",
            "Requirement already satisfied: certifi>=2017.4.17 in /usr/local/lib/python3.7/dist-packages (from requests>=2.20->openai) (2021.10.8)\n"
          ]
        }
      ]
    },
    {
      "cell_type": "code",
      "source": [
        "import openai\n",
        "import os\n",
        "openai.api_key = 'key here'"
      ],
      "metadata": {
        "id": "CCpmaGAtnTiS"
      },
      "execution_count": null,
      "outputs": []
    },
    {
      "cell_type": "markdown",
      "source": [
        "**Experiment trials**"
      ],
      "metadata": {
        "id": "VWJvBgweB7e2"
      }
    },
    {
      "cell_type": "code",
      "source": [
        "response = openai.Completion.create(\n",
        "  engine=\"text-davinci-001\",\n",
        "  prompt=\"What does the speaker imply by saying Alex is a good teacher? The speaker is pragmatically savvy.\",\n",
        "  temperature=0.9,\n",
        "  max_tokens=100,\n",
        "  top_p=1,\n",
        "  n = 5,\n",
        "  frequency_penalty=0,\n",
        "  presence_penalty=0.6\n",
        ")"
      ],
      "metadata": {
        "id": "z5WqJc-Tnk0y"
      },
      "execution_count": null,
      "outputs": []
    },
    {
      "cell_type": "code",
      "source": [
        "response"
      ],
      "metadata": {
        "colab": {
          "base_uri": "https://localhost:8080/"
        },
        "id": "xjabDddCqeEN",
        "outputId": "ade71f0b-666d-420b-8809-11d6e285873b"
      },
      "execution_count": null,
      "outputs": [
        {
          "output_type": "execute_result",
          "data": {
            "text/plain": [
              "<OpenAIObject text_completion id=cmpl-4tMQYrOYSKQjbnTTIAdTypxSXURV2 at 0x7f9b4b781a10> JSON: {\n",
              "  \"choices\": [\n",
              "    {\n",
              "      \"finish_reason\": \"stop\",\n",
              "      \"index\": 0,\n",
              "      \"logprobs\": null,\n",
              "      \"text\": \"\"\n",
              "    },\n",
              "    {\n",
              "      \"finish_reason\": \"stop\",\n",
              "      \"index\": 1,\n",
              "      \"logprobs\": null,\n",
              "      \"text\": \" Alex is an effective teacher. The speaker is flattering Alex.\"\n",
              "    },\n",
              "    {\n",
              "      \"finish_reason\": \"stop\",\n",
              "      \"index\": 2,\n",
              "      \"logprobs\": null,\n",
              "      \"text\": \"\\n\\nThe speaker implies that Alex is a good teacher because he is able to get his students to learn.\"\n",
              "    },\n",
              "    {\n",
              "      \"finish_reason\": \"stop\",\n",
              "      \"index\": 3,\n",
              "      \"logprobs\": null,\n",
              "      \"text\": \"\\n\\nThe speaker implies that Alex is a good teacher because he has a lot of knowledge and experience.\"\n",
              "    },\n",
              "    {\n",
              "      \"finish_reason\": \"stop\",\n",
              "      \"index\": 4,\n",
              "      \"logprobs\": null,\n",
              "      \"text\": \"\\n\\nThis is an ambiguous statement. It could mean that Alex is a good teacher in the sense that he knows a lot about the subject and can communicate it well, or it could mean that Alex is a good teacher in the sense that his students enjoy his classes and learn a lot from him.\"\n",
              "    }\n",
              "  ],\n",
              "  \"created\": 1649099598,\n",
              "  \"id\": \"cmpl-4tMQYrOYSKQjbnTTIAdTypxSXURV2\",\n",
              "  \"model\": \"text-davinci:001\",\n",
              "  \"object\": \"text_completion\"\n",
              "}"
            ]
          },
          "metadata": {},
          "execution_count": 43
        }
      ]
    },
    {
      "cell_type": "code",
      "source": [
        "type(response)"
      ],
      "metadata": {
        "colab": {
          "base_uri": "https://localhost:8080/"
        },
        "id": "bs_hB4J1uc83",
        "outputId": "71711c61-1afa-4f63-9842-013410f7c09f"
      },
      "execution_count": null,
      "outputs": [
        {
          "output_type": "execute_result",
          "data": {
            "text/plain": [
              "openai.openai_object.OpenAIObject"
            ]
          },
          "metadata": {},
          "execution_count": 44
        }
      ]
    },
    {
      "cell_type": "code",
      "source": [
        "import json\n",
        "temp = json.dumps(response) #outputs a string dict\n",
        "temp = json.loads(temp) #converts to dict\n",
        "print(temp)"
      ],
      "metadata": {
        "colab": {
          "base_uri": "https://localhost:8080/"
        },
        "id": "gNF0OZ9EsHII",
        "outputId": "7e2d8b21-1000-4a83-af48-fe13cc51e4b9"
      },
      "execution_count": null,
      "outputs": [
        {
          "output_type": "stream",
          "name": "stdout",
          "text": [
            "{'id': 'cmpl-4tMQYrOYSKQjbnTTIAdTypxSXURV2', 'object': 'text_completion', 'created': 1649099598, 'model': 'text-davinci:001', 'choices': [{'text': '', 'index': 0, 'logprobs': None, 'finish_reason': 'stop'}, {'text': ' Alex is an effective teacher. The speaker is flattering Alex.', 'index': 1, 'logprobs': None, 'finish_reason': 'stop'}, {'text': '\\n\\nThe speaker implies that Alex is a good teacher because he is able to get his students to learn.', 'index': 2, 'logprobs': None, 'finish_reason': 'stop'}, {'text': '\\n\\nThe speaker implies that Alex is a good teacher because he has a lot of knowledge and experience.', 'index': 3, 'logprobs': None, 'finish_reason': 'stop'}, {'text': '\\n\\nThis is an ambiguous statement. It could mean that Alex is a good teacher in the sense that he knows a lot about the subject and can communicate it well, or it could mean that Alex is a good teacher in the sense that his students enjoy his classes and learn a lot from him.', 'index': 4, 'logprobs': None, 'finish_reason': 'stop'}]}\n"
          ]
        }
      ]
    },
    {
      "cell_type": "code",
      "source": [
        "for text in temp['choices']:\n",
        "  res = ''.join(text['text']).strip('\\n\\n')\n",
        "res"
      ],
      "metadata": {
        "colab": {
          "base_uri": "https://localhost:8080/",
          "height": 71
        },
        "id": "Ga9kUeCztvye",
        "outputId": "129462d2-4c59-4fa2-ecfc-793f4b9ba25a"
      },
      "execution_count": null,
      "outputs": [
        {
          "output_type": "execute_result",
          "data": {
            "text/plain": [
              "'This is an ambiguous statement. It could mean that Alex is a good teacher in the sense that he knows a lot about the subject and can communicate it well, or it could mean that Alex is a good teacher in the sense that his students enjoy his classes and learn a lot from him.'"
            ],
            "application/vnd.google.colaboratory.intrinsic+json": {
              "type": "string"
            }
          },
          "metadata": {},
          "execution_count": 54
        }
      ]
    },
    {
      "cell_type": "markdown",
      "source": [
        "**Starting HERE: SI adj**"
      ],
      "metadata": {
        "id": "GVPFs2JoB_KB"
      }
    },
    {
      "cell_type": "code",
      "source": [
        "import json\n",
        "import pandas as pd\n",
        "import numpy as np"
      ],
      "metadata": {
        "id": "evgy4jBSESL-"
      },
      "execution_count": null,
      "outputs": []
    },
    {
      "cell_type": "code",
      "source": [
        "df = pd.read_csv('si_adj.csv', index_col=0)\n",
        "df.head()"
      ],
      "metadata": {
        "colab": {
          "base_uri": "https://localhost:8080/",
          "height": 363
        },
        "id": "hNs8DMicC7QH",
        "outputId": "7645c843-caad-456c-ffa4-383d573ab6a2"
      },
      "execution_count": null,
      "outputs": [
        {
          "output_type": "execute_result",
          "data": {
            "text/plain": [
              "  condtion target_adj              prediction  \\\n",
              "0       SI       good  not excellent; not bad   \n",
              "1       SI       warm       not hot; not cold   \n",
              "2       MI      short           Pete is short   \n",
              "\n",
              "                                       question_prag  \\\n",
              "0  What does the speaker imply by saying Alex is ...   \n",
              "1  What does the speaker imply by saying it's war...   \n",
              "2  What does the speaker imply by saying Alex is ...   \n",
              "\n",
              "                                        question_sem  \\\n",
              "0  What does the speaker mean by saying Alex is a...   \n",
              "1  What does the speaker mean by saying it's warm...   \n",
              "2  What does the speaker mean by saying Alex is a...   \n",
              "\n",
              "                          context_prag            context_sem  \\\n",
              "0  The speaker is pragmatically savvy.  The speaker is nerdy.   \n",
              "1  The speaker is pragmatically savvy.  The speaker is nerdy.   \n",
              "2  The speaker is pragmatically savvy.  The speaker is nerdy.   \n",
              "\n",
              "                                   answer_prag_macaw  \\\n",
              "0  he can teach other people. he has high expecta...   \n",
              "1  it warms your body. the temperature is rising....   \n",
              "2  he has equal height. he has more hair than pet...   \n",
              "\n",
              "                                    answer_sem_macaw  \\\n",
              "0  he's smart. he knows how to get the job done. ...   \n",
              "1  it's nicer than the air. it warms your hands. ...   \n",
              "2  they have the same height. he is shorter than ...   \n",
              "\n",
              "                                     answer_prag_gpt  \\\n",
              "0  The speaker implies that Alex is a good teache...   \n",
              "1  The speaker is implying that it's warm outside...   \n",
              "2  The speaker is implying that Alex is as short ...   \n",
              "\n",
              "                                      answer_sem_gpt  \n",
              "0  The speaker means that Alex is a good teacher ...  \n",
              "1  The speaker means that it is hot outside. The ...  \n",
              "2  The speaker means that Alex is as short as Pet...  "
            ],
            "text/html": [
              "\n",
              "  <div id=\"df-43aefbf7-a12b-4686-a1cd-b59172fadf08\">\n",
              "    <div class=\"colab-df-container\">\n",
              "      <div>\n",
              "<style scoped>\n",
              "    .dataframe tbody tr th:only-of-type {\n",
              "        vertical-align: middle;\n",
              "    }\n",
              "\n",
              "    .dataframe tbody tr th {\n",
              "        vertical-align: top;\n",
              "    }\n",
              "\n",
              "    .dataframe thead th {\n",
              "        text-align: right;\n",
              "    }\n",
              "</style>\n",
              "<table border=\"1\" class=\"dataframe\">\n",
              "  <thead>\n",
              "    <tr style=\"text-align: right;\">\n",
              "      <th></th>\n",
              "      <th>condtion</th>\n",
              "      <th>target_adj</th>\n",
              "      <th>prediction</th>\n",
              "      <th>question_prag</th>\n",
              "      <th>question_sem</th>\n",
              "      <th>context_prag</th>\n",
              "      <th>context_sem</th>\n",
              "      <th>answer_prag_macaw</th>\n",
              "      <th>answer_sem_macaw</th>\n",
              "      <th>answer_prag_gpt</th>\n",
              "      <th>answer_sem_gpt</th>\n",
              "    </tr>\n",
              "  </thead>\n",
              "  <tbody>\n",
              "    <tr>\n",
              "      <th>0</th>\n",
              "      <td>SI</td>\n",
              "      <td>good</td>\n",
              "      <td>not excellent; not bad</td>\n",
              "      <td>What does the speaker imply by saying Alex is ...</td>\n",
              "      <td>What does the speaker mean by saying Alex is a...</td>\n",
              "      <td>The speaker is pragmatically savvy.</td>\n",
              "      <td>The speaker is nerdy.</td>\n",
              "      <td>he can teach other people. he has high expecta...</td>\n",
              "      <td>he's smart. he knows how to get the job done. ...</td>\n",
              "      <td>The speaker implies that Alex is a good teache...</td>\n",
              "      <td>The speaker means that Alex is a good teacher ...</td>\n",
              "    </tr>\n",
              "    <tr>\n",
              "      <th>1</th>\n",
              "      <td>SI</td>\n",
              "      <td>warm</td>\n",
              "      <td>not hot; not cold</td>\n",
              "      <td>What does the speaker imply by saying it's war...</td>\n",
              "      <td>What does the speaker mean by saying it's warm...</td>\n",
              "      <td>The speaker is pragmatically savvy.</td>\n",
              "      <td>The speaker is nerdy.</td>\n",
              "      <td>it warms your body. the temperature is rising....</td>\n",
              "      <td>it's nicer than the air. it warms your hands. ...</td>\n",
              "      <td>The speaker is implying that it's warm outside...</td>\n",
              "      <td>The speaker means that it is hot outside. The ...</td>\n",
              "    </tr>\n",
              "    <tr>\n",
              "      <th>2</th>\n",
              "      <td>MI</td>\n",
              "      <td>short</td>\n",
              "      <td>Pete is short</td>\n",
              "      <td>What does the speaker imply by saying Alex is ...</td>\n",
              "      <td>What does the speaker mean by saying Alex is a...</td>\n",
              "      <td>The speaker is pragmatically savvy.</td>\n",
              "      <td>The speaker is nerdy.</td>\n",
              "      <td>he has equal height. he has more hair than pet...</td>\n",
              "      <td>they have the same height. he is shorter than ...</td>\n",
              "      <td>The speaker is implying that Alex is as short ...</td>\n",
              "      <td>The speaker means that Alex is as short as Pet...</td>\n",
              "    </tr>\n",
              "  </tbody>\n",
              "</table>\n",
              "</div>\n",
              "      <button class=\"colab-df-convert\" onclick=\"convertToInteractive('df-43aefbf7-a12b-4686-a1cd-b59172fadf08')\"\n",
              "              title=\"Convert this dataframe to an interactive table.\"\n",
              "              style=\"display:none;\">\n",
              "        \n",
              "  <svg xmlns=\"http://www.w3.org/2000/svg\" height=\"24px\"viewBox=\"0 0 24 24\"\n",
              "       width=\"24px\">\n",
              "    <path d=\"M0 0h24v24H0V0z\" fill=\"none\"/>\n",
              "    <path d=\"M18.56 5.44l.94 2.06.94-2.06 2.06-.94-2.06-.94-.94-2.06-.94 2.06-2.06.94zm-11 1L8.5 8.5l.94-2.06 2.06-.94-2.06-.94L8.5 2.5l-.94 2.06-2.06.94zm10 10l.94 2.06.94-2.06 2.06-.94-2.06-.94-.94-2.06-.94 2.06-2.06.94z\"/><path d=\"M17.41 7.96l-1.37-1.37c-.4-.4-.92-.59-1.43-.59-.52 0-1.04.2-1.43.59L10.3 9.45l-7.72 7.72c-.78.78-.78 2.05 0 2.83L4 21.41c.39.39.9.59 1.41.59.51 0 1.02-.2 1.41-.59l7.78-7.78 2.81-2.81c.8-.78.8-2.07 0-2.86zM5.41 20L4 18.59l7.72-7.72 1.47 1.35L5.41 20z\"/>\n",
              "  </svg>\n",
              "      </button>\n",
              "      \n",
              "  <style>\n",
              "    .colab-df-container {\n",
              "      display:flex;\n",
              "      flex-wrap:wrap;\n",
              "      gap: 12px;\n",
              "    }\n",
              "\n",
              "    .colab-df-convert {\n",
              "      background-color: #E8F0FE;\n",
              "      border: none;\n",
              "      border-radius: 50%;\n",
              "      cursor: pointer;\n",
              "      display: none;\n",
              "      fill: #1967D2;\n",
              "      height: 32px;\n",
              "      padding: 0 0 0 0;\n",
              "      width: 32px;\n",
              "    }\n",
              "\n",
              "    .colab-df-convert:hover {\n",
              "      background-color: #E2EBFA;\n",
              "      box-shadow: 0px 1px 2px rgba(60, 64, 67, 0.3), 0px 1px 3px 1px rgba(60, 64, 67, 0.15);\n",
              "      fill: #174EA6;\n",
              "    }\n",
              "\n",
              "    [theme=dark] .colab-df-convert {\n",
              "      background-color: #3B4455;\n",
              "      fill: #D2E3FC;\n",
              "    }\n",
              "\n",
              "    [theme=dark] .colab-df-convert:hover {\n",
              "      background-color: #434B5C;\n",
              "      box-shadow: 0px 1px 3px 1px rgba(0, 0, 0, 0.15);\n",
              "      filter: drop-shadow(0px 1px 2px rgba(0, 0, 0, 0.3));\n",
              "      fill: #FFFFFF;\n",
              "    }\n",
              "  </style>\n",
              "\n",
              "      <script>\n",
              "        const buttonEl =\n",
              "          document.querySelector('#df-43aefbf7-a12b-4686-a1cd-b59172fadf08 button.colab-df-convert');\n",
              "        buttonEl.style.display =\n",
              "          google.colab.kernel.accessAllowed ? 'block' : 'none';\n",
              "\n",
              "        async function convertToInteractive(key) {\n",
              "          const element = document.querySelector('#df-43aefbf7-a12b-4686-a1cd-b59172fadf08');\n",
              "          const dataTable =\n",
              "            await google.colab.kernel.invokeFunction('convertToInteractive',\n",
              "                                                     [key], {});\n",
              "          if (!dataTable) return;\n",
              "\n",
              "          const docLinkHtml = 'Like what you see? Visit the ' +\n",
              "            '<a target=\"_blank\" href=https://colab.research.google.com/notebooks/data_table.ipynb>data table notebook</a>'\n",
              "            + ' to learn more about interactive tables.';\n",
              "          element.innerHTML = '';\n",
              "          dataTable['output_type'] = 'display_data';\n",
              "          await google.colab.output.renderOutput(dataTable, element);\n",
              "          const docLink = document.createElement('div');\n",
              "          docLink.innerHTML = docLinkHtml;\n",
              "          element.appendChild(docLink);\n",
              "        }\n",
              "      </script>\n",
              "    </div>\n",
              "  </div>\n",
              "  "
            ]
          },
          "metadata": {},
          "execution_count": 108
        }
      ]
    },
    {
      "cell_type": "code",
      "source": [
        "def complete(question, context):\n",
        "  response = openai.Completion.create(\n",
        "    engine = \"text-davinci-001\",\n",
        "    prompt = question,\n",
        "    temperature=0.5,\n",
        "    max_tokens=100,\n",
        "    top_p=1,\n",
        "    n = 5,\n",
        "    frequency_penalty=0, #default\n",
        "    presence_penalty=0 #default\n",
        "  )\n",
        "  temp = json.dumps(response) #outputs a string dict\n",
        "  temp = json.loads(temp) #converts to dict\n",
        "  return temp"
      ],
      "metadata": {
        "id": "Wkd9v6avUAHV"
      },
      "execution_count": null,
      "outputs": []
    },
    {
      "cell_type": "code",
      "source": [
        "for i in df.index:\n",
        "  r_question = df['question_rett'][i]\n",
        "  r_temp = ''\n",
        "  r_res = complete(r_question)\n",
        "  for r_text in r_res['choices']:\n",
        "    r_temp += ''.join(r_text['text'].strip('\\n\\n')+ ' ')\n",
        "  df['answer_rett_gpt'][i] = r_temp.strip(' ')\n",
        "\n",
        "  p_question = df['question_prag'][i]\n",
        "  p_temp = ''\n",
        "  p_res = complete(p_question)\n",
        "  for p_text in p_res['choices']:\n",
        "    p_temp += ''.join(p_text['text'].strip('\\n\\n')+ ' ')\n",
        "  df['answer_prag_gpt'][i] = p_temp.strip(' ')\n",
        "\n",
        "  s_question = df['question_sem'][i]\n",
        "  s_temp = ''\n",
        "  s_res = complete(s_question)\n",
        "  for s_text in s_res['choices']:\n",
        "    s_temp += ''.join(s_text['text'].strip('\\n\\n') + ' ')\n",
        "  df['answer_sem_gpt'][i] = s_temp.strip(' ')\n",
        "\n",
        "df.head()"
      ],
      "metadata": {
        "colab": {
          "base_uri": "https://localhost:8080/",
          "height": 363
        },
        "id": "NeBef0pmBgu5",
        "outputId": "6ca5d364-c3c8-46f5-cca6-35e4c63e2195"
      },
      "execution_count": null,
      "outputs": [
        {
          "output_type": "execute_result",
          "data": {
            "text/plain": [
              "  condtion target_adj              prediction  \\\n",
              "0       SI       good  not excellent; not bad   \n",
              "1       SI       warm       not hot; not cold   \n",
              "2       MI      short           Pete is short   \n",
              "\n",
              "                                       question_prag  \\\n",
              "0  What does the speaker imply by saying Alex is ...   \n",
              "1  What does the speaker imply by saying it's war...   \n",
              "2  What does the speaker imply by saying Alex is ...   \n",
              "\n",
              "                                        question_sem  \\\n",
              "0  What does the speaker mean by saying Alex is a...   \n",
              "1  What does the speaker mean by saying it's warm...   \n",
              "2  What does the speaker mean by saying Alex is a...   \n",
              "\n",
              "                          context_prag            context_sem  \\\n",
              "0  The speaker is pragmatically savvy.  The speaker is nerdy.   \n",
              "1  The speaker is pragmatically savvy.  The speaker is nerdy.   \n",
              "2  The speaker is pragmatically savvy.  The speaker is nerdy.   \n",
              "\n",
              "                                   answer_prag_macaw  \\\n",
              "0  he can teach other people. he has high expecta...   \n",
              "1  it warms your body. the temperature is rising....   \n",
              "2  he has equal height. he has more hair than pet...   \n",
              "\n",
              "                                    answer_sem_macaw  \\\n",
              "0  he's smart. he knows how to get the job done. ...   \n",
              "1  it's nicer than the air. it warms your hands. ...   \n",
              "2  they have the same height. he is shorter than ...   \n",
              "\n",
              "                                     answer_prag_gpt  \\\n",
              "0  The speaker is implying that Alex is a good te...   \n",
              "1  The speaker implies that it is not cold outsid...   \n",
              "2  The speaker implies that Alex is as short as P...   \n",
              "\n",
              "                                      answer_sem_gpt  \n",
              "0  The speaker means that Alex is a good teacher ...  \n",
              "1  The speaker means that it is hot outside. The ...  \n",
              "2  Alex is as short as Pete means that Alex is as...  "
            ],
            "text/html": [
              "\n",
              "  <div id=\"df-433cf9ac-fc9f-4709-a9c6-3cd8d15bb922\">\n",
              "    <div class=\"colab-df-container\">\n",
              "      <div>\n",
              "<style scoped>\n",
              "    .dataframe tbody tr th:only-of-type {\n",
              "        vertical-align: middle;\n",
              "    }\n",
              "\n",
              "    .dataframe tbody tr th {\n",
              "        vertical-align: top;\n",
              "    }\n",
              "\n",
              "    .dataframe thead th {\n",
              "        text-align: right;\n",
              "    }\n",
              "</style>\n",
              "<table border=\"1\" class=\"dataframe\">\n",
              "  <thead>\n",
              "    <tr style=\"text-align: right;\">\n",
              "      <th></th>\n",
              "      <th>condtion</th>\n",
              "      <th>target_adj</th>\n",
              "      <th>prediction</th>\n",
              "      <th>question_prag</th>\n",
              "      <th>question_sem</th>\n",
              "      <th>context_prag</th>\n",
              "      <th>context_sem</th>\n",
              "      <th>answer_prag_macaw</th>\n",
              "      <th>answer_sem_macaw</th>\n",
              "      <th>answer_prag_gpt</th>\n",
              "      <th>answer_sem_gpt</th>\n",
              "    </tr>\n",
              "  </thead>\n",
              "  <tbody>\n",
              "    <tr>\n",
              "      <th>0</th>\n",
              "      <td>SI</td>\n",
              "      <td>good</td>\n",
              "      <td>not excellent; not bad</td>\n",
              "      <td>What does the speaker imply by saying Alex is ...</td>\n",
              "      <td>What does the speaker mean by saying Alex is a...</td>\n",
              "      <td>The speaker is pragmatically savvy.</td>\n",
              "      <td>The speaker is nerdy.</td>\n",
              "      <td>he can teach other people. he has high expecta...</td>\n",
              "      <td>he's smart. he knows how to get the job done. ...</td>\n",
              "      <td>The speaker is implying that Alex is a good te...</td>\n",
              "      <td>The speaker means that Alex is a good teacher ...</td>\n",
              "    </tr>\n",
              "    <tr>\n",
              "      <th>1</th>\n",
              "      <td>SI</td>\n",
              "      <td>warm</td>\n",
              "      <td>not hot; not cold</td>\n",
              "      <td>What does the speaker imply by saying it's war...</td>\n",
              "      <td>What does the speaker mean by saying it's warm...</td>\n",
              "      <td>The speaker is pragmatically savvy.</td>\n",
              "      <td>The speaker is nerdy.</td>\n",
              "      <td>it warms your body. the temperature is rising....</td>\n",
              "      <td>it's nicer than the air. it warms your hands. ...</td>\n",
              "      <td>The speaker implies that it is not cold outsid...</td>\n",
              "      <td>The speaker means that it is hot outside. The ...</td>\n",
              "    </tr>\n",
              "    <tr>\n",
              "      <th>2</th>\n",
              "      <td>MI</td>\n",
              "      <td>short</td>\n",
              "      <td>Pete is short</td>\n",
              "      <td>What does the speaker imply by saying Alex is ...</td>\n",
              "      <td>What does the speaker mean by saying Alex is a...</td>\n",
              "      <td>The speaker is pragmatically savvy.</td>\n",
              "      <td>The speaker is nerdy.</td>\n",
              "      <td>he has equal height. he has more hair than pet...</td>\n",
              "      <td>they have the same height. he is shorter than ...</td>\n",
              "      <td>The speaker implies that Alex is as short as P...</td>\n",
              "      <td>Alex is as short as Pete means that Alex is as...</td>\n",
              "    </tr>\n",
              "  </tbody>\n",
              "</table>\n",
              "</div>\n",
              "      <button class=\"colab-df-convert\" onclick=\"convertToInteractive('df-433cf9ac-fc9f-4709-a9c6-3cd8d15bb922')\"\n",
              "              title=\"Convert this dataframe to an interactive table.\"\n",
              "              style=\"display:none;\">\n",
              "        \n",
              "  <svg xmlns=\"http://www.w3.org/2000/svg\" height=\"24px\"viewBox=\"0 0 24 24\"\n",
              "       width=\"24px\">\n",
              "    <path d=\"M0 0h24v24H0V0z\" fill=\"none\"/>\n",
              "    <path d=\"M18.56 5.44l.94 2.06.94-2.06 2.06-.94-2.06-.94-.94-2.06-.94 2.06-2.06.94zm-11 1L8.5 8.5l.94-2.06 2.06-.94-2.06-.94L8.5 2.5l-.94 2.06-2.06.94zm10 10l.94 2.06.94-2.06 2.06-.94-2.06-.94-.94-2.06-.94 2.06-2.06.94z\"/><path d=\"M17.41 7.96l-1.37-1.37c-.4-.4-.92-.59-1.43-.59-.52 0-1.04.2-1.43.59L10.3 9.45l-7.72 7.72c-.78.78-.78 2.05 0 2.83L4 21.41c.39.39.9.59 1.41.59.51 0 1.02-.2 1.41-.59l7.78-7.78 2.81-2.81c.8-.78.8-2.07 0-2.86zM5.41 20L4 18.59l7.72-7.72 1.47 1.35L5.41 20z\"/>\n",
              "  </svg>\n",
              "      </button>\n",
              "      \n",
              "  <style>\n",
              "    .colab-df-container {\n",
              "      display:flex;\n",
              "      flex-wrap:wrap;\n",
              "      gap: 12px;\n",
              "    }\n",
              "\n",
              "    .colab-df-convert {\n",
              "      background-color: #E8F0FE;\n",
              "      border: none;\n",
              "      border-radius: 50%;\n",
              "      cursor: pointer;\n",
              "      display: none;\n",
              "      fill: #1967D2;\n",
              "      height: 32px;\n",
              "      padding: 0 0 0 0;\n",
              "      width: 32px;\n",
              "    }\n",
              "\n",
              "    .colab-df-convert:hover {\n",
              "      background-color: #E2EBFA;\n",
              "      box-shadow: 0px 1px 2px rgba(60, 64, 67, 0.3), 0px 1px 3px 1px rgba(60, 64, 67, 0.15);\n",
              "      fill: #174EA6;\n",
              "    }\n",
              "\n",
              "    [theme=dark] .colab-df-convert {\n",
              "      background-color: #3B4455;\n",
              "      fill: #D2E3FC;\n",
              "    }\n",
              "\n",
              "    [theme=dark] .colab-df-convert:hover {\n",
              "      background-color: #434B5C;\n",
              "      box-shadow: 0px 1px 3px 1px rgba(0, 0, 0, 0.15);\n",
              "      filter: drop-shadow(0px 1px 2px rgba(0, 0, 0, 0.3));\n",
              "      fill: #FFFFFF;\n",
              "    }\n",
              "  </style>\n",
              "\n",
              "      <script>\n",
              "        const buttonEl =\n",
              "          document.querySelector('#df-433cf9ac-fc9f-4709-a9c6-3cd8d15bb922 button.colab-df-convert');\n",
              "        buttonEl.style.display =\n",
              "          google.colab.kernel.accessAllowed ? 'block' : 'none';\n",
              "\n",
              "        async function convertToInteractive(key) {\n",
              "          const element = document.querySelector('#df-433cf9ac-fc9f-4709-a9c6-3cd8d15bb922');\n",
              "          const dataTable =\n",
              "            await google.colab.kernel.invokeFunction('convertToInteractive',\n",
              "                                                     [key], {});\n",
              "          if (!dataTable) return;\n",
              "\n",
              "          const docLinkHtml = 'Like what you see? Visit the ' +\n",
              "            '<a target=\"_blank\" href=https://colab.research.google.com/notebooks/data_table.ipynb>data table notebook</a>'\n",
              "            + ' to learn more about interactive tables.';\n",
              "          element.innerHTML = '';\n",
              "          dataTable['output_type'] = 'display_data';\n",
              "          await google.colab.output.renderOutput(dataTable, element);\n",
              "          const docLink = document.createElement('div');\n",
              "          docLink.innerHTML = docLinkHtml;\n",
              "          element.appendChild(docLink);\n",
              "        }\n",
              "      </script>\n",
              "    </div>\n",
              "  </div>\n",
              "  "
            ]
          },
          "metadata": {},
          "execution_count": 110
        }
      ]
    },
    {
      "cell_type": "code",
      "source": [
        "df['answer_prag_gpt'][0]"
      ],
      "metadata": {
        "colab": {
          "base_uri": "https://localhost:8080/",
          "height": 107
        },
        "id": "Q78tuQ2TSqCu",
        "outputId": "9115fbd9-bf88-4887-987d-8fa4a0531302"
      },
      "execution_count": null,
      "outputs": [
        {
          "output_type": "execute_result",
          "data": {
            "text/plain": [
              "'The speaker is implying that Alex is a good teacher because he is able to get his students to learn. The speaker implies that Alex is a good teacher because he is able to motivate his students. The speaker implies that Alex is a good teacher because he is able to help people learn. The speaker implies that Alex is a good teacher because he is able to get his students to learn. The speaker implies that Alex is a good teacher because he is able to get his students to learn.'"
            ],
            "application/vnd.google.colaboratory.intrinsic+json": {
              "type": "string"
            }
          },
          "metadata": {},
          "execution_count": 111
        }
      ]
    },
    {
      "cell_type": "code",
      "source": [
        "df['answer_prag_gpt'][2]"
      ],
      "metadata": {
        "colab": {
          "base_uri": "https://localhost:8080/",
          "height": 124
        },
        "id": "ntcKC6yIEJAu",
        "outputId": "e14bec48-ba2f-4a5f-d6ac-00fd5684e387"
      },
      "execution_count": null,
      "outputs": [
        {
          "output_type": "execute_result",
          "data": {
            "text/plain": [
              "'The speaker implies that Alex is as short as Pete by saying that \"everyone is as tall as their shortest friend.\" The speaker is implying that Alex is as short as Pete, which is not a very tall height. The speaker might be implying that Alex is as short as Pete in terms of physical stature, or that Alex is just as short as Pete when it comes to how much he knows. The speaker implies that Alex is as short as Pete by saying \"Alex is as short as Pete.\" This implies that Alex is not taller than Pete, which is most likely the case, as most people are not taller than Pete. The speaker implies that Alex is as short as Pete by saying that Alex is as short as Pete.'"
            ],
            "application/vnd.google.colaboratory.intrinsic+json": {
              "type": "string"
            }
          },
          "metadata": {},
          "execution_count": 112
        }
      ]
    },
    {
      "cell_type": "code",
      "source": [
        "df['answer_sem_gpt'][2]"
      ],
      "metadata": {
        "colab": {
          "base_uri": "https://localhost:8080/",
          "height": 89
        },
        "id": "GuQ1emveOoL2",
        "outputId": "8a69c0e3-cd1f-4a4a-e96e-8d04c03a8a8d"
      },
      "execution_count": null,
      "outputs": [
        {
          "output_type": "execute_result",
          "data": {
            "text/plain": [
              "'Alex is as short as Pete means that Alex is as short as Pete is, which is not very tall. The speaker means that Alex is as short as Pete when it comes to their height. The speaker means that Alex is as short as Pete when it comes to their height. The speaker means that Alex is as short as Pete is, which is not very tall. The speaker means that Alex is as short as Pete is, which is not very tall.'"
            ],
            "application/vnd.google.colaboratory.intrinsic+json": {
              "type": "string"
            }
          },
          "metadata": {},
          "execution_count": 113
        }
      ]
    },
    {
      "cell_type": "code",
      "source": [
        "df.to_csv('si_adj.csv')"
      ],
      "metadata": {
        "id": "orveAnOVUmu9"
      },
      "execution_count": null,
      "outputs": []
    }
  ]
}