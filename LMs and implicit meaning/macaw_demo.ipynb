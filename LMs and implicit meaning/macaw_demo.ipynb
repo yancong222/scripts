{
 "cells": [
  {
   "cell_type": "markdown",
   "metadata": {},
   "source": [
    "# Requirements"
   ]
  },
  {
   "cell_type": "code",
   "execution_count": null,
   "metadata": {},
   "outputs": [],
   "source": [
    "'''\n",
    "torch\n",
    "transformers\n",
    "sentencepiece\n",
    "protobuf\n",
    "\n",
    "# Extra packages needed to run demo code:\n",
    "streamlit\n",
    "flask\n",
    "'''"
   ]
  },
  {
   "cell_type": "markdown",
   "metadata": {},
   "source": [
    "# Library prep"
   ]
  },
  {
   "cell_type": "code",
   "execution_count": 1,
   "metadata": {},
   "outputs": [],
   "source": [
    "from datetime import datetime\n",
    "import json\n",
    "import math\n",
    "import os\n",
    "import sys"
   ]
  },
  {
   "cell_type": "code",
   "execution_count": 3,
   "metadata": {},
   "outputs": [
    {
     "name": "stdout",
     "output_type": "stream",
     "text": [
      "Collecting streamlit\n",
      "  Downloading streamlit-1.7.0-py2.py3-none-any.whl (9.9 MB)\n",
      "\u001b[K     |████████████████████████████████| 9.9 MB 4.7 MB/s eta 0:00:01\n",
      "\u001b[?25hCollecting pympler>=0.9\n",
      "  Downloading Pympler-1.0.1-py3-none-any.whl (164 kB)\n",
      "\u001b[K     |████████████████████████████████| 164 kB 7.7 MB/s eta 0:00:01\n",
      "\u001b[?25hRequirement already satisfied: protobuf!=3.11,>=3.6.0 in /Users/yancong/opt/anaconda3/envs/nlum1/lib/python3.9/site-packages (from streamlit) (3.19.4)\n",
      "Collecting cachetools>=4.0\n",
      "  Downloading cachetools-5.0.0-py3-none-any.whl (9.1 kB)\n",
      "Collecting gitpython!=3.1.19\n",
      "  Downloading GitPython-3.1.27-py3-none-any.whl (181 kB)\n",
      "\u001b[K     |████████████████████████████████| 181 kB 8.0 MB/s eta 0:00:01\n",
      "\u001b[?25hRequirement already satisfied: requests in /Users/yancong/opt/anaconda3/envs/nlum1/lib/python3.9/site-packages (from streamlit) (2.26.0)\n",
      "Collecting validators\n",
      "  Using cached validators-0.18.2-py3-none-any.whl (19 kB)\n",
      "Requirement already satisfied: importlib-metadata>=1.4 in /Users/yancong/opt/anaconda3/envs/nlum1/lib/python3.9/site-packages (from streamlit) (4.8.2)\n",
      "Requirement already satisfied: pillow>=6.2.0 in /Users/yancong/opt/anaconda3/envs/nlum1/lib/python3.9/site-packages (from streamlit) (8.4.0)\n",
      "Requirement already satisfied: python-dateutil in /Users/yancong/opt/anaconda3/envs/nlum1/lib/python3.9/site-packages (from streamlit) (2.8.2)\n",
      "Collecting semver\n",
      "  Downloading semver-2.13.0-py2.py3-none-any.whl (12 kB)\n",
      "Collecting base58\n",
      "  Downloading base58-2.1.1-py3-none-any.whl (5.6 kB)\n",
      "Requirement already satisfied: toml in /Users/yancong/opt/anaconda3/envs/nlum1/lib/python3.9/site-packages (from streamlit) (0.10.2)\n",
      "Requirement already satisfied: packaging in /Users/yancong/opt/anaconda3/envs/nlum1/lib/python3.9/site-packages (from streamlit) (21.3)\n",
      "Requirement already satisfied: click>=7.0 in /Users/yancong/opt/anaconda3/envs/nlum1/lib/python3.9/site-packages (from streamlit) (8.0.3)\n",
      "Collecting astor\n",
      "  Using cached astor-0.8.1-py2.py3-none-any.whl (27 kB)\n",
      "Requirement already satisfied: attrs in /Users/yancong/opt/anaconda3/envs/nlum1/lib/python3.9/site-packages (from streamlit) (21.2.0)\n",
      "Collecting pyarrow\n",
      "  Downloading pyarrow-7.0.0-cp39-cp39-macosx_10_13_x86_64.whl (20.2 MB)\n",
      "\u001b[K     |████████████████████████████████| 20.2 MB 8.5 MB/s eta 0:00:01\n",
      "\u001b[?25hCollecting tzlocal\n",
      "  Downloading tzlocal-4.1-py3-none-any.whl (19 kB)\n",
      "Requirement already satisfied: tornado>=5.0 in /Users/yancong/opt/anaconda3/envs/nlum1/lib/python3.9/site-packages (from streamlit) (6.1)\n",
      "Collecting blinker\n",
      "  Using cached blinker-1.4.tar.gz (111 kB)\n",
      "Requirement already satisfied: pandas>=0.21.0 in /Users/yancong/opt/anaconda3/envs/nlum1/lib/python3.9/site-packages (from streamlit) (1.3.4)\n",
      "Requirement already satisfied: numpy in /Users/yancong/opt/anaconda3/envs/nlum1/lib/python3.9/site-packages (from streamlit) (1.20.3)\n",
      "Collecting altair>=3.2.0\n",
      "  Downloading altair-4.2.0-py3-none-any.whl (812 kB)\n",
      "\u001b[K     |████████████████████████████████| 812 kB 21.5 MB/s eta 0:00:01\n",
      "\u001b[?25hCollecting pydeck>=0.1.dev5\n",
      "  Downloading pydeck-0.7.1-py2.py3-none-any.whl (4.3 MB)\n",
      "\u001b[K     |████████████████████████████████| 4.3 MB 21.3 MB/s eta 0:00:01\n",
      "\u001b[?25hRequirement already satisfied: toolz in /Users/yancong/opt/anaconda3/envs/nlum1/lib/python3.9/site-packages (from altair>=3.2.0->streamlit) (0.11.2)\n",
      "Requirement already satisfied: jinja2 in /Users/yancong/opt/anaconda3/envs/nlum1/lib/python3.9/site-packages (from altair>=3.2.0->streamlit) (2.11.3)\n",
      "Requirement already satisfied: entrypoints in /Users/yancong/opt/anaconda3/envs/nlum1/lib/python3.9/site-packages (from altair>=3.2.0->streamlit) (0.3)\n",
      "Requirement already satisfied: jsonschema>=3.0 in /Users/yancong/opt/anaconda3/envs/nlum1/lib/python3.9/site-packages (from altair>=3.2.0->streamlit) (3.2.0)\n",
      "Collecting gitdb<5,>=4.0.1\n",
      "  Downloading gitdb-4.0.9-py3-none-any.whl (63 kB)\n",
      "\u001b[K     |████████████████████████████████| 63 kB 6.4 MB/s  eta 0:00:01\n",
      "\u001b[?25hCollecting smmap<6,>=3.0.1\n",
      "  Downloading smmap-5.0.0-py3-none-any.whl (24 kB)\n",
      "Requirement already satisfied: zipp>=0.5 in /Users/yancong/opt/anaconda3/envs/nlum1/lib/python3.9/site-packages (from importlib-metadata>=1.4->streamlit) (3.6.0)\n",
      "Requirement already satisfied: setuptools in /Users/yancong/opt/anaconda3/envs/nlum1/lib/python3.9/site-packages (from jsonschema>=3.0->altair>=3.2.0->streamlit) (58.0.4)\n",
      "Requirement already satisfied: six>=1.11.0 in /Users/yancong/opt/anaconda3/envs/nlum1/lib/python3.9/site-packages (from jsonschema>=3.0->altair>=3.2.0->streamlit) (1.16.0)\n",
      "Requirement already satisfied: pyrsistent>=0.14.0 in /Users/yancong/opt/anaconda3/envs/nlum1/lib/python3.9/site-packages (from jsonschema>=3.0->altair>=3.2.0->streamlit) (0.18.0)\n",
      "Requirement already satisfied: pytz>=2017.3 in /Users/yancong/opt/anaconda3/envs/nlum1/lib/python3.9/site-packages (from pandas>=0.21.0->streamlit) (2021.3)\n",
      "Requirement already satisfied: ipywidgets>=7.0.0 in /Users/yancong/opt/anaconda3/envs/nlum1/lib/python3.9/site-packages (from pydeck>=0.1.dev5->streamlit) (7.6.5)\n",
      "Requirement already satisfied: traitlets>=4.3.2 in /Users/yancong/opt/anaconda3/envs/nlum1/lib/python3.9/site-packages (from pydeck>=0.1.dev5->streamlit) (5.1.1)\n",
      "Requirement already satisfied: ipykernel>=5.1.2 in /Users/yancong/opt/anaconda3/envs/nlum1/lib/python3.9/site-packages (from pydeck>=0.1.dev5->streamlit) (6.4.1)\n",
      "Requirement already satisfied: jupyter-client<8.0 in /Users/yancong/opt/anaconda3/envs/nlum1/lib/python3.9/site-packages (from ipykernel>=5.1.2->pydeck>=0.1.dev5->streamlit) (6.1.12)\n",
      "Requirement already satisfied: matplotlib-inline<0.2.0,>=0.1.0 in /Users/yancong/opt/anaconda3/envs/nlum1/lib/python3.9/site-packages (from ipykernel>=5.1.2->pydeck>=0.1.dev5->streamlit) (0.1.2)\n",
      "Requirement already satisfied: ipython-genutils in /Users/yancong/opt/anaconda3/envs/nlum1/lib/python3.9/site-packages (from ipykernel>=5.1.2->pydeck>=0.1.dev5->streamlit) (0.2.0)\n",
      "Requirement already satisfied: ipython<8.0,>=7.23.1 in /Users/yancong/opt/anaconda3/envs/nlum1/lib/python3.9/site-packages (from ipykernel>=5.1.2->pydeck>=0.1.dev5->streamlit) (7.29.0)\n",
      "Requirement already satisfied: debugpy<2.0,>=1.0.0 in /Users/yancong/opt/anaconda3/envs/nlum1/lib/python3.9/site-packages (from ipykernel>=5.1.2->pydeck>=0.1.dev5->streamlit) (1.5.1)\n",
      "Requirement already satisfied: appnope in /Users/yancong/opt/anaconda3/envs/nlum1/lib/python3.9/site-packages (from ipykernel>=5.1.2->pydeck>=0.1.dev5->streamlit) (0.1.2)\n",
      "Requirement already satisfied: pygments in /Users/yancong/opt/anaconda3/envs/nlum1/lib/python3.9/site-packages (from ipython<8.0,>=7.23.1->ipykernel>=5.1.2->pydeck>=0.1.dev5->streamlit) (2.10.0)\n",
      "Requirement already satisfied: pickleshare in /Users/yancong/opt/anaconda3/envs/nlum1/lib/python3.9/site-packages (from ipython<8.0,>=7.23.1->ipykernel>=5.1.2->pydeck>=0.1.dev5->streamlit) (0.7.5)\n",
      "Requirement already satisfied: jedi>=0.16 in /Users/yancong/opt/anaconda3/envs/nlum1/lib/python3.9/site-packages (from ipython<8.0,>=7.23.1->ipykernel>=5.1.2->pydeck>=0.1.dev5->streamlit) (0.18.0)\n",
      "Requirement already satisfied: backcall in /Users/yancong/opt/anaconda3/envs/nlum1/lib/python3.9/site-packages (from ipython<8.0,>=7.23.1->ipykernel>=5.1.2->pydeck>=0.1.dev5->streamlit) (0.2.0)\n",
      "Requirement already satisfied: pexpect>4.3 in /Users/yancong/opt/anaconda3/envs/nlum1/lib/python3.9/site-packages (from ipython<8.0,>=7.23.1->ipykernel>=5.1.2->pydeck>=0.1.dev5->streamlit) (4.8.0)\n",
      "Requirement already satisfied: decorator in /Users/yancong/opt/anaconda3/envs/nlum1/lib/python3.9/site-packages (from ipython<8.0,>=7.23.1->ipykernel>=5.1.2->pydeck>=0.1.dev5->streamlit) (5.1.0)\n",
      "Requirement already satisfied: prompt-toolkit!=3.0.0,!=3.0.1,<3.1.0,>=2.0.0 in /Users/yancong/opt/anaconda3/envs/nlum1/lib/python3.9/site-packages (from ipython<8.0,>=7.23.1->ipykernel>=5.1.2->pydeck>=0.1.dev5->streamlit) (3.0.20)\n",
      "Requirement already satisfied: nbformat>=4.2.0 in /Users/yancong/opt/anaconda3/envs/nlum1/lib/python3.9/site-packages (from ipywidgets>=7.0.0->pydeck>=0.1.dev5->streamlit) (5.1.3)\n",
      "Requirement already satisfied: jupyterlab-widgets>=1.0.0 in /Users/yancong/opt/anaconda3/envs/nlum1/lib/python3.9/site-packages (from ipywidgets>=7.0.0->pydeck>=0.1.dev5->streamlit) (1.0.0)\n",
      "Requirement already satisfied: widgetsnbextension~=3.5.0 in /Users/yancong/opt/anaconda3/envs/nlum1/lib/python3.9/site-packages (from ipywidgets>=7.0.0->pydeck>=0.1.dev5->streamlit) (3.5.1)\n",
      "Requirement already satisfied: parso<0.9.0,>=0.8.0 in /Users/yancong/opt/anaconda3/envs/nlum1/lib/python3.9/site-packages (from jedi>=0.16->ipython<8.0,>=7.23.1->ipykernel>=5.1.2->pydeck>=0.1.dev5->streamlit) (0.8.2)\n",
      "Requirement already satisfied: MarkupSafe>=0.23 in /Users/yancong/opt/anaconda3/envs/nlum1/lib/python3.9/site-packages (from jinja2->altair>=3.2.0->streamlit) (1.1.1)\n",
      "Requirement already satisfied: pyzmq>=13 in /Users/yancong/opt/anaconda3/envs/nlum1/lib/python3.9/site-packages (from jupyter-client<8.0->ipykernel>=5.1.2->pydeck>=0.1.dev5->streamlit) (22.3.0)\n",
      "Requirement already satisfied: jupyter-core>=4.6.0 in /Users/yancong/opt/anaconda3/envs/nlum1/lib/python3.9/site-packages (from jupyter-client<8.0->ipykernel>=5.1.2->pydeck>=0.1.dev5->streamlit) (4.9.1)\n",
      "Requirement already satisfied: ptyprocess>=0.5 in /Users/yancong/opt/anaconda3/envs/nlum1/lib/python3.9/site-packages (from pexpect>4.3->ipython<8.0,>=7.23.1->ipykernel>=5.1.2->pydeck>=0.1.dev5->streamlit) (0.7.0)\n",
      "Requirement already satisfied: wcwidth in /Users/yancong/opt/anaconda3/envs/nlum1/lib/python3.9/site-packages (from prompt-toolkit!=3.0.0,!=3.0.1,<3.1.0,>=2.0.0->ipython<8.0,>=7.23.1->ipykernel>=5.1.2->pydeck>=0.1.dev5->streamlit) (0.2.5)\n",
      "Requirement already satisfied: notebook>=4.4.1 in /Users/yancong/opt/anaconda3/envs/nlum1/lib/python3.9/site-packages (from widgetsnbextension~=3.5.0->ipywidgets>=7.0.0->pydeck>=0.1.dev5->streamlit) (6.4.6)\n",
      "Requirement already satisfied: nbconvert in /Users/yancong/opt/anaconda3/envs/nlum1/lib/python3.9/site-packages (from notebook>=4.4.1->widgetsnbextension~=3.5.0->ipywidgets>=7.0.0->pydeck>=0.1.dev5->streamlit) (6.1.0)\n",
      "Requirement already satisfied: argon2-cffi in /Users/yancong/opt/anaconda3/envs/nlum1/lib/python3.9/site-packages (from notebook>=4.4.1->widgetsnbextension~=3.5.0->ipywidgets>=7.0.0->pydeck>=0.1.dev5->streamlit) (20.1.0)\n",
      "Requirement already satisfied: nest-asyncio>=1.5 in /Users/yancong/opt/anaconda3/envs/nlum1/lib/python3.9/site-packages (from notebook>=4.4.1->widgetsnbextension~=3.5.0->ipywidgets>=7.0.0->pydeck>=0.1.dev5->streamlit) (1.5.1)\n",
      "Requirement already satisfied: prometheus-client in /Users/yancong/opt/anaconda3/envs/nlum1/lib/python3.9/site-packages (from notebook>=4.4.1->widgetsnbextension~=3.5.0->ipywidgets>=7.0.0->pydeck>=0.1.dev5->streamlit) (0.12.0)\n",
      "Requirement already satisfied: Send2Trash>=1.8.0 in /Users/yancong/opt/anaconda3/envs/nlum1/lib/python3.9/site-packages (from notebook>=4.4.1->widgetsnbextension~=3.5.0->ipywidgets>=7.0.0->pydeck>=0.1.dev5->streamlit) (1.8.0)\n",
      "Requirement already satisfied: terminado>=0.8.3 in /Users/yancong/opt/anaconda3/envs/nlum1/lib/python3.9/site-packages (from notebook>=4.4.1->widgetsnbextension~=3.5.0->ipywidgets>=7.0.0->pydeck>=0.1.dev5->streamlit) (0.9.4)\n",
      "Requirement already satisfied: cffi>=1.0.0 in /Users/yancong/opt/anaconda3/envs/nlum1/lib/python3.9/site-packages (from argon2-cffi->notebook>=4.4.1->widgetsnbextension~=3.5.0->ipywidgets>=7.0.0->pydeck>=0.1.dev5->streamlit) (1.14.6)\n",
      "Requirement already satisfied: pycparser in /Users/yancong/opt/anaconda3/envs/nlum1/lib/python3.9/site-packages (from cffi>=1.0.0->argon2-cffi->notebook>=4.4.1->widgetsnbextension~=3.5.0->ipywidgets>=7.0.0->pydeck>=0.1.dev5->streamlit) (2.21)\n",
      "Requirement already satisfied: defusedxml in /Users/yancong/opt/anaconda3/envs/nlum1/lib/python3.9/site-packages (from nbconvert->notebook>=4.4.1->widgetsnbextension~=3.5.0->ipywidgets>=7.0.0->pydeck>=0.1.dev5->streamlit) (0.7.1)\n",
      "Requirement already satisfied: testpath in /Users/yancong/opt/anaconda3/envs/nlum1/lib/python3.9/site-packages (from nbconvert->notebook>=4.4.1->widgetsnbextension~=3.5.0->ipywidgets>=7.0.0->pydeck>=0.1.dev5->streamlit) (0.5.0)\n",
      "Requirement already satisfied: jupyterlab-pygments in /Users/yancong/opt/anaconda3/envs/nlum1/lib/python3.9/site-packages (from nbconvert->notebook>=4.4.1->widgetsnbextension~=3.5.0->ipywidgets>=7.0.0->pydeck>=0.1.dev5->streamlit) (0.1.2)\n",
      "Requirement already satisfied: pandocfilters>=1.4.1 in /Users/yancong/opt/anaconda3/envs/nlum1/lib/python3.9/site-packages (from nbconvert->notebook>=4.4.1->widgetsnbextension~=3.5.0->ipywidgets>=7.0.0->pydeck>=0.1.dev5->streamlit) (1.4.3)\n",
      "Requirement already satisfied: mistune<2,>=0.8.1 in /Users/yancong/opt/anaconda3/envs/nlum1/lib/python3.9/site-packages (from nbconvert->notebook>=4.4.1->widgetsnbextension~=3.5.0->ipywidgets>=7.0.0->pydeck>=0.1.dev5->streamlit) (0.8.4)\n",
      "Requirement already satisfied: bleach in /Users/yancong/opt/anaconda3/envs/nlum1/lib/python3.9/site-packages (from nbconvert->notebook>=4.4.1->widgetsnbextension~=3.5.0->ipywidgets>=7.0.0->pydeck>=0.1.dev5->streamlit) (4.0.0)\n",
      "Requirement already satisfied: nbclient<0.6.0,>=0.5.0 in /Users/yancong/opt/anaconda3/envs/nlum1/lib/python3.9/site-packages (from nbconvert->notebook>=4.4.1->widgetsnbextension~=3.5.0->ipywidgets>=7.0.0->pydeck>=0.1.dev5->streamlit) (0.5.3)\n",
      "Requirement already satisfied: async-generator in /Users/yancong/opt/anaconda3/envs/nlum1/lib/python3.9/site-packages (from nbclient<0.6.0,>=0.5.0->nbconvert->notebook>=4.4.1->widgetsnbextension~=3.5.0->ipywidgets>=7.0.0->pydeck>=0.1.dev5->streamlit) (1.10)\n",
      "Requirement already satisfied: webencodings in /Users/yancong/opt/anaconda3/envs/nlum1/lib/python3.9/site-packages (from bleach->nbconvert->notebook>=4.4.1->widgetsnbextension~=3.5.0->ipywidgets>=7.0.0->pydeck>=0.1.dev5->streamlit) (0.5.1)\n",
      "Requirement already satisfied: pyparsing!=3.0.5,>=2.0.2 in /Users/yancong/opt/anaconda3/envs/nlum1/lib/python3.9/site-packages (from packaging->streamlit) (3.0.4)\n",
      "Requirement already satisfied: certifi>=2017.4.17 in /Users/yancong/opt/anaconda3/envs/nlum1/lib/python3.9/site-packages (from requests->streamlit) (2021.10.8)\n",
      "Requirement already satisfied: idna<4,>=2.5 in /Users/yancong/opt/anaconda3/envs/nlum1/lib/python3.9/site-packages (from requests->streamlit) (3.3)\n",
      "Requirement already satisfied: charset-normalizer~=2.0.0 in /Users/yancong/opt/anaconda3/envs/nlum1/lib/python3.9/site-packages (from requests->streamlit) (2.0.4)\n",
      "Requirement already satisfied: urllib3<1.27,>=1.21.1 in /Users/yancong/opt/anaconda3/envs/nlum1/lib/python3.9/site-packages (from requests->streamlit) (1.26.7)\n",
      "Collecting pytz-deprecation-shim\n",
      "  Downloading pytz_deprecation_shim-0.1.0.post0-py2.py3-none-any.whl (15 kB)\n",
      "Collecting tzdata\n",
      "  Downloading tzdata-2021.5-py2.py3-none-any.whl (339 kB)\n",
      "\u001b[K     |████████████████████████████████| 339 kB 13.7 MB/s eta 0:00:01\n",
      "\u001b[?25hBuilding wheels for collected packages: blinker\n",
      "  Building wheel for blinker (setup.py) ... \u001b[?25ldone\n",
      "\u001b[?25h  Created wheel for blinker: filename=blinker-1.4-py3-none-any.whl size=13478 sha256=e86d88892c0435930082c2acea687f9e33fd54ab5b2c20d84614419122a9966e\n",
      "  Stored in directory: /Users/yancong/Library/Caches/pip/wheels/50/93/f8/4f0a42a03a06626d675f13907b6982ad5ecff383530af5a900\n",
      "Successfully built blinker\n",
      "Installing collected packages: tzdata, smmap, pytz-deprecation-shim, gitdb, validators, tzlocal, semver, pympler, pydeck, pyarrow, gitpython, cachetools, blinker, base58, astor, altair, streamlit\n",
      "Successfully installed altair-4.2.0 astor-0.8.1 base58-2.1.1 blinker-1.4 cachetools-5.0.0 gitdb-4.0.9 gitpython-3.1.27 pyarrow-7.0.0 pydeck-0.7.1 pympler-1.0.1 pytz-deprecation-shim-0.1.0.post0 semver-2.13.0 smmap-5.0.0 streamlit-1.7.0 tzdata-2021.5 tzlocal-4.1 validators-0.18.2\n"
     ]
    }
   ],
   "source": [
    "!pip install streamlit"
   ]
  },
  {
   "cell_type": "code",
   "execution_count": 4,
   "metadata": {},
   "outputs": [
    {
     "name": "stdout",
     "output_type": "stream",
     "text": [
      "Requirement already satisfied: protobuf in /Users/yancong/opt/anaconda3/envs/nlum1/lib/python3.9/site-packages (3.19.4)\n"
     ]
    }
   ],
   "source": [
    "!pip install protobuf"
   ]
  },
  {
   "cell_type": "code",
   "execution_count": 5,
   "metadata": {},
   "outputs": [
    {
     "name": "stdout",
     "output_type": "stream",
     "text": [
      "Requirement already satisfied: sentencepiece in /Users/yancong/opt/anaconda3/envs/nlum1/lib/python3.9/site-packages (0.1.96)\n"
     ]
    }
   ],
   "source": [
    "!pip install sentencepiece"
   ]
  },
  {
   "cell_type": "code",
   "execution_count": 6,
   "metadata": {},
   "outputs": [
    {
     "name": "stdout",
     "output_type": "stream",
     "text": [
      "Requirement already satisfied: torch in /Users/yancong/opt/anaconda3/envs/nlum1/lib/python3.9/site-packages (1.10.2)\n",
      "Requirement already satisfied: typing-extensions in /Users/yancong/opt/anaconda3/envs/nlum1/lib/python3.9/site-packages (from torch) (3.10.0.2)\n"
     ]
    }
   ],
   "source": [
    "!pip install torch"
   ]
  },
  {
   "cell_type": "code",
   "execution_count": 7,
   "metadata": {},
   "outputs": [
    {
     "name": "stdout",
     "output_type": "stream",
     "text": [
      "Requirement already satisfied: flask in /Users/yancong/opt/anaconda3/envs/nlum1/lib/python3.9/site-packages (1.1.2)\n",
      "Requirement already satisfied: Werkzeug>=0.15 in /Users/yancong/opt/anaconda3/envs/nlum1/lib/python3.9/site-packages (from flask) (2.0.2)\n",
      "Requirement already satisfied: Jinja2>=2.10.1 in /Users/yancong/opt/anaconda3/envs/nlum1/lib/python3.9/site-packages (from flask) (2.11.3)\n",
      "Requirement already satisfied: itsdangerous>=0.24 in /Users/yancong/opt/anaconda3/envs/nlum1/lib/python3.9/site-packages (from flask) (2.0.1)\n",
      "Requirement already satisfied: click>=5.1 in /Users/yancong/opt/anaconda3/envs/nlum1/lib/python3.9/site-packages (from flask) (8.0.3)\n",
      "Requirement already satisfied: MarkupSafe>=0.23 in /Users/yancong/opt/anaconda3/envs/nlum1/lib/python3.9/site-packages (from Jinja2>=2.10.1->flask) (1.1.1)\n"
     ]
    }
   ],
   "source": [
    "!pip install flask"
   ]
  },
  {
   "cell_type": "code",
   "execution_count": 2,
   "metadata": {},
   "outputs": [
    {
     "name": "stderr",
     "output_type": "stream",
     "text": [
      "2022-03-06 13:39:19.178 INFO    numexpr.utils: NumExpr defaulting to 8 threads.\n"
     ]
    }
   ],
   "source": [
    "import streamlit as st\n",
    "from streamlit.legacy_caching.hashing import _CodeHasher\n",
    "from streamlit.script_run_context import add_script_run_ctx\n",
    "from streamlit.server.server import Server"
   ]
  },
  {
   "cell_type": "code",
   "execution_count": 3,
   "metadata": {},
   "outputs": [],
   "source": [
    "sys.path.append(os.path.join(os.getcwd()))"
   ]
  },
  {
   "cell_type": "code",
   "execution_count": 10,
   "metadata": {},
   "outputs": [
    {
     "name": "stdout",
     "output_type": "stream",
     "text": [
      "Requirement already satisfied: transformers in /Users/yancong/opt/anaconda3/envs/nlum1/lib/python3.9/site-packages (4.16.2)\n",
      "Requirement already satisfied: tokenizers!=0.11.3,>=0.10.1 in /Users/yancong/opt/anaconda3/envs/nlum1/lib/python3.9/site-packages (from transformers) (0.11.4)\n",
      "Requirement already satisfied: huggingface-hub<1.0,>=0.1.0 in /Users/yancong/opt/anaconda3/envs/nlum1/lib/python3.9/site-packages (from transformers) (0.4.0)\n",
      "Requirement already satisfied: regex!=2019.12.17 in /Users/yancong/opt/anaconda3/envs/nlum1/lib/python3.9/site-packages (from transformers) (2021.8.3)\n",
      "Requirement already satisfied: sacremoses in /Users/yancong/opt/anaconda3/envs/nlum1/lib/python3.9/site-packages (from transformers) (0.0.47)\n",
      "Requirement already satisfied: packaging>=20.0 in /Users/yancong/opt/anaconda3/envs/nlum1/lib/python3.9/site-packages (from transformers) (21.3)\n",
      "Requirement already satisfied: numpy>=1.17 in /Users/yancong/opt/anaconda3/envs/nlum1/lib/python3.9/site-packages (from transformers) (1.20.3)\n",
      "Requirement already satisfied: pyyaml>=5.1 in /Users/yancong/opt/anaconda3/envs/nlum1/lib/python3.9/site-packages (from transformers) (6.0)\n",
      "Requirement already satisfied: requests in /Users/yancong/opt/anaconda3/envs/nlum1/lib/python3.9/site-packages (from transformers) (2.26.0)\n",
      "Requirement already satisfied: tqdm>=4.27 in /Users/yancong/opt/anaconda3/envs/nlum1/lib/python3.9/site-packages (from transformers) (4.62.3)\n",
      "Requirement already satisfied: filelock in /Users/yancong/opt/anaconda3/envs/nlum1/lib/python3.9/site-packages (from transformers) (3.4.0)\n",
      "Requirement already satisfied: typing-extensions>=3.7.4.3 in /Users/yancong/opt/anaconda3/envs/nlum1/lib/python3.9/site-packages (from huggingface-hub<1.0,>=0.1.0->transformers) (3.10.0.2)\n",
      "Requirement already satisfied: pyparsing!=3.0.5,>=2.0.2 in /Users/yancong/opt/anaconda3/envs/nlum1/lib/python3.9/site-packages (from packaging>=20.0->transformers) (3.0.4)\n",
      "Requirement already satisfied: certifi>=2017.4.17 in /Users/yancong/opt/anaconda3/envs/nlum1/lib/python3.9/site-packages (from requests->transformers) (2021.10.8)\n",
      "Requirement already satisfied: idna<4,>=2.5 in /Users/yancong/opt/anaconda3/envs/nlum1/lib/python3.9/site-packages (from requests->transformers) (3.3)\n",
      "Requirement already satisfied: charset-normalizer~=2.0.0 in /Users/yancong/opt/anaconda3/envs/nlum1/lib/python3.9/site-packages (from requests->transformers) (2.0.4)\n",
      "Requirement already satisfied: urllib3<1.27,>=1.21.1 in /Users/yancong/opt/anaconda3/envs/nlum1/lib/python3.9/site-packages (from requests->transformers) (1.26.7)\n",
      "Requirement already satisfied: click in /Users/yancong/opt/anaconda3/envs/nlum1/lib/python3.9/site-packages (from sacremoses->transformers) (8.0.3)\n",
      "Requirement already satisfied: six in /Users/yancong/opt/anaconda3/envs/nlum1/lib/python3.9/site-packages (from sacremoses->transformers) (1.16.0)\n",
      "Requirement already satisfied: joblib in /Users/yancong/opt/anaconda3/envs/nlum1/lib/python3.9/site-packages (from sacremoses->transformers) (1.1.0)\n"
     ]
    }
   ],
   "source": [
    "!pip install transformers"
   ]
  },
  {
   "cell_type": "code",
   "execution_count": 4,
   "metadata": {},
   "outputs": [],
   "source": [
    "from transformers import AutoTokenizer, AutoModelForSeq2SeqLM, T5Tokenizer\n",
    "from transformers import logging as transformers_logging"
   ]
  },
  {
   "cell_type": "code",
   "execution_count": 12,
   "metadata": {},
   "outputs": [
    {
     "name": "stdout",
     "output_type": "stream",
     "text": [
      "Collecting utils\n",
      "  Downloading utils-1.0.1-py2.py3-none-any.whl (21 kB)\n",
      "Installing collected packages: utils\n",
      "Successfully installed utils-1.0.1\n"
     ]
    }
   ],
   "source": [
    "!pip install utils"
   ]
  },
  {
   "cell_type": "code",
   "execution_count": 5,
   "metadata": {},
   "outputs": [
    {
     "data": {
      "text/plain": [
       "['$answer$ = gray ; $mcoptions$ = (A) blue (B) white (C) grey (D) white']"
      ]
     },
     "execution_count": 5,
     "metadata": {},
     "output_type": "execute_result"
    }
   ],
   "source": [
    "from transformers import AutoTokenizer, AutoModelForSeq2SeqLM\n",
    "tokenizer = AutoTokenizer.from_pretrained(\"allenai/macaw-large\")\n",
    "model = AutoModelForSeq2SeqLM.from_pretrained(\"allenai/macaw-large\")\n",
    "input_string = \"$answer$ ; $mcoptions$ ; $question$ = What is the color of a cloudy sky?\"\n",
    "input_ids = tokenizer.encode(input_string, return_tensors=\"pt\")\n",
    "output = model.generate(input_ids, max_length=200)\n",
    "\n",
    "tokenizer.batch_decode(output, skip_special_tokens=True)"
   ]
  },
  {
   "cell_type": "markdown",
   "metadata": {},
   "source": [
    "# Use utils to get custom output"
   ]
  },
  {
   "cell_type": "code",
   "execution_count": 11,
   "metadata": {},
   "outputs": [],
   "source": [
    "# utils.py is in the same folder as macaw_demo.ipynb\n",
    "import utils\n",
    "from utils import SLOT_FROM_LC, GENERATOR_OPTIONS_DEFAULT, decompose_slots, get_raw_response, load_model, make_input_from_example, run_model, run_model_with_outputs"
   ]
  },
  {
   "cell_type": "code",
   "execution_count": 12,
   "metadata": {},
   "outputs": [
    {
     "name": "stdout",
     "output_type": "stream",
     "text": [
      "<module 'utils' from '/Users/yancong/Desktop/5 zili research/naacl2022_cong_shortPaper/utils.py'>\n"
     ]
    }
   ],
   "source": [
    "print(utils)"
   ]
  },
  {
   "cell_type": "code",
   "execution_count": 13,
   "metadata": {},
   "outputs": [
    {
     "name": "stderr",
     "output_type": "stream",
     "text": [
      "Downloading:   1%|          | 368M/42.1G [09:19<18:02:08, 691kB/s]\n"
     ]
    },
    {
     "name": "stdout",
     "output_type": "stream",
     "text": [
      "<generator object <genexpr> at 0x7fc3218394a0>\n"
     ]
    }
   ],
   "source": [
    "from utils import load_model, run_macaw\n",
    "model_dict = load_model(\"allenai/macaw-large\", cuda_devices = None) \n",
    "res1 = run_macaw(\"Q: Which force pulls objects to the ground?\\nA\\nE\", model_dict)\n",
    "# Alternate input syntax\n",
    "res2 = run_macaw({\"Q:\":\"Which force causes a compass needle to point north?\", \"A\":\"\"}, model_dict)\n",
    "# Add sampling options for the output\n",
    "res3 = run_macaw(\"Q: Which force pulls objects to the ground?\\nA\\nE\", model_dict, {\"do_sample\": True, \"temperature\": 2.0})\n"
   ]
  },
  {
   "cell_type": "code",
   "execution_count": 15,
   "metadata": {},
   "outputs": [
    {
     "data": {
      "text/plain": [
       "{'input_raw': '$answer$ ; $explanation$ ; $question$ = Which force pulls objects to the ground?',\n",
       " 'output_raw_list': ['$answer$ = gravity ; $explanation$ = Gravitational force causes objects that have mass to be pulled down on a planet.'],\n",
       " 'generator_options': {'min_length': 1,\n",
       "  'max_length': 128,\n",
       "  'num_beams': 1,\n",
       "  'num_return_sequences': 1,\n",
       "  'do_sample': False,\n",
       "  'top_k': 50,\n",
       "  'top_p': 1.0,\n",
       "  'temperature': 1.0,\n",
       "  'length_penalty': 1.0,\n",
       "  'repetition_penalty': 1.0},\n",
       " 'requested_angle': 'Q->AE',\n",
       " 'input_slots': {'Question': 'Which force pulls objects to the ground?'},\n",
       " 'output_slots_list': [{'answer': 'gravity',\n",
       "   'explanation': 'Gravitational force causes objects that have mass to be pulled down on a planet.'}]}"
      ]
     },
     "execution_count": 15,
     "metadata": {},
     "output_type": "execute_result"
    }
   ],
   "source": [
    "res1"
   ]
  },
  {
   "cell_type": "code",
   "execution_count": 16,
   "metadata": {},
   "outputs": [
    {
     "data": {
      "text/plain": [
       "{'input_raw': '$answer$ ; $q:$ = Which force causes a compass needle to point north?',\n",
       " 'output_raw_list': ['$answer$ = magnetic force'],\n",
       " 'generator_options': {'min_length': 1,\n",
       "  'max_length': 128,\n",
       "  'num_beams': 1,\n",
       "  'num_return_sequences': 1,\n",
       "  'do_sample': False,\n",
       "  'top_k': 50,\n",
       "  'top_p': 1.0,\n",
       "  'temperature': 1.0,\n",
       "  'length_penalty': 1.0,\n",
       "  'repetition_penalty': 1.0},\n",
       " 'requested_angle': 'Q->A',\n",
       " 'input_slots': {'Q:': 'Which force causes a compass needle to point north?'},\n",
       " 'output_slots_list': [{'answer': 'magnetic force'}]}"
      ]
     },
     "execution_count": 16,
     "metadata": {},
     "output_type": "execute_result"
    }
   ],
   "source": [
    "res2"
   ]
  },
  {
   "cell_type": "code",
   "execution_count": 17,
   "metadata": {},
   "outputs": [
    {
     "data": {
      "text/plain": [
       "{'input_raw': '$answer$ ; $explanation$ ; $question$ = Which force pulls objects to the ground?',\n",
       " 'output_raw_list': ['$answer$ = gravity being strong, the gravity on earth is always moving! gravity is a kind of force ; $explanation$ = Gravitational force causes objects that have mass to be pulled down on a planet.'],\n",
       " 'generator_options': {'min_length': 1,\n",
       "  'max_length': 128,\n",
       "  'num_beams': 1,\n",
       "  'num_return_sequences': 1,\n",
       "  'do_sample': True,\n",
       "  'top_k': 50,\n",
       "  'top_p': 1.0,\n",
       "  'temperature': 2.0,\n",
       "  'length_penalty': 1.0,\n",
       "  'repetition_penalty': 1.0},\n",
       " 'requested_angle': 'Q->AE',\n",
       " 'input_slots': {'Question': 'Which force pulls objects to the ground?'},\n",
       " 'output_slots_list': [{'answer': 'gravity being strong, the gravity on earth is always moving! gravity is a kind of force',\n",
       "   'explanation': 'Gravitational force causes objects that have mass to be pulled down on a planet.'}]}"
      ]
     },
     "execution_count": 17,
     "metadata": {},
     "output_type": "execute_result"
    }
   ],
   "source": [
    "res3"
   ]
  },
  {
   "cell_type": "code",
   "execution_count": 14,
   "metadata": {},
   "outputs": [
    {
     "name": "stdout",
     "output_type": "stream",
     "text": [
      "<generator object <genexpr> at 0x7fc3216c5900>\n"
     ]
    }
   ],
   "source": [
    "print(res[\"output_slots_list\"][0] for res in [res1, res2, res3])"
   ]
  },
  {
   "cell_type": "markdown",
   "metadata": {},
   "source": [
    "# Utils parameters"
   ]
  },
  {
   "cell_type": "code",
   "execution_count": 22,
   "metadata": {},
   "outputs": [
    {
     "data": {
      "text/plain": [
       "[{'answer': \"it can't be seen\",\n",
       "  'explanation': 'If an object is made of a material then that object has the properties of that material. Opacity means a substance cannot be seen.'},\n",
       " {'answer': \"it can't be seen\",\n",
       "  'explanation': \"If an object is made of a material then that object has the properties of that material. Being transparent means a material can't be seen.\"},\n",
       " {'answer': 'it will be observed',\n",
       "  'explanation': 'If something is transparent then that something is not visible to the observer. Visibility is a property of objects and includes ordered values of visible. Opacity is a property of something and includes ordered values of opaque.'},\n",
       " {'answer': 'less light',\n",
       "  'explanation': 'If something is transparent then that something will not be seen. Being able to see is a kind of advantage. Opacity is a property of a material and includes ordered values of opaque.'},\n",
       " {'answer': 'less light',\n",
       "  'explanation': 'If an object is made of a material then that object has the properties of that material. Being transparent means a material can not be seen. Opacity is a property of a material and includes ordered values of opaque.'}]"
      ]
     },
     "execution_count": 22,
     "metadata": {},
     "output_type": "execute_result"
    }
   ],
   "source": [
    "# Add more reqturn sequences\n",
    "res4 = run_macaw(\"Q: What is an implication of something being opaque?\\nA\\nE\", model_dict, {\"do_sample\": True, \"num_return_sequences\": 5})\n",
    "res4['output_slots_list']"
   ]
  },
  {
   "cell_type": "code",
   "execution_count": 26,
   "metadata": {},
   "outputs": [
    {
     "data": {
      "text/plain": [
       "[{'answer': 'it cannot be seen',\n",
       "  'explanation': 'If an object is made of something then the parts of that object are exposed to light. Being transparent means not being visible to others. Visibility in some environments decreases for example when using clear materials or stickers on objects, such as metal'},\n",
       " {'answer': \"it's hard to see through\",\n",
       "  'explanation': 'If an object is made of something then the parts of that object are covered with this material. Being transparent means not being visible in bright light. Visibility has no impact on anything except for image quality.'},\n",
       " {'answer': 'it can be seen without being covered',\n",
       "  'explanation': 'Being transparent has a positive impact on seeing. Transparency is the opposite of confidentiality. If an object is made from something then that material will remain opaque to everyone except those who are close to him or her.'},\n",
       " {'answer': 'it is hard to see through',\n",
       "  'explanation': 'If an object is made of something then the parts of that object are covered with visible material. Being transparent means not seeing thru small holes in things. Opacity has no impact on visibility.'},\n",
       " {'answer': \"it can't be seen\",\n",
       "  'explanation': 'If an object is made of something then the parts of that object are visible to the observer. Being transparent means not being observed by humans or animals.'}]"
      ]
     },
     "execution_count": 26,
     "metadata": {},
     "output_type": "execute_result"
    }
   ],
   "source": [
    "# Add more reqturn sequences and make the outputs less repetative\n",
    "res4 = run_macaw(\"Q: What is an implication of something being opaque?\\nA\\nE\", model_dict, \n",
    "{\"do_sample\": True, \"num_return_sequences\": 5, \"repetition_penalty\": 3.0})\n",
    "res4['output_slots_list']"
   ]
  },
  {
   "cell_type": "code",
   "execution_count": 28,
   "metadata": {},
   "outputs": [
    {
     "data": {
      "text/plain": [
       "[{'answer': 'there is no way to describe it ; #explanation#: If an object has the properties of something then that thing can be described as opaque. Opacity means amount and typeof light being blocked by material or structure changes over time, especially when new materials are added after they have been tried out'},\n",
       " {'answer': \"it can't be seen ; $11\"},\n",
       " {'answer': \"it can't be seen ; #explanation#: If an object is made of something then the parts of that object are covered with plastic. Being transparent means not being visible to others.\"},\n",
       " {'answer': \"it can't be seen\"},\n",
       " {'answer': \"it's hard to see through ; #explanation#: If an object is made of something then the parts are covered with that material. Opacity means total lack in visibility when observed on any surface or by anyone using magnifying glass for better vision. Shadowing can be used as protection against humans from seeing sight!\"},\n",
       " {'answer': 'it is less visible ; #explanation#: If an object has no transparent material then that object can not be seen. Being opaque causes something to appear as though its materials are very thin or extremely thick in order for themto exist without being observed by others'},\n",
       " {'answer': \"the elements cannot be separated ; #explanation#: If an object is made of something then its parts are visible to others. Being transparent means that objects can't see through other materials or processes because they lack transparency\"},\n",
       " {'answer': \"it's not really transparent ; #explanation#: If something is made of an material then that thing has the properties to be opaque.\"},\n",
       " {'answer': 'you cannot see through it ; #explanation#: If an object is made of something then the parts of that objects are covered with material. Being transparent means not being visible to others.'},\n",
       " {'answer': \"it's hard to see through ; #explanation#: If an object is made of something then the parts are exposed. Being transparent means not being visible in bright light!\"}]"
      ]
     },
     "execution_count": 28,
     "metadata": {},
     "output_type": "execute_result"
    }
   ],
   "source": [
    "# Add more reqturn sequences and make the outputs less repetative\n",
    "res4 = run_macaw(\"Q: What is an implication of something being opaque?\\nA\\nE\", model_dict, \n",
    "{\"do_sample\": True, \"num_return_sequences\": 10, \"repetition_penalty\": 5.0})\n",
    "res4['output_slots_list']"
   ]
  },
  {
   "cell_type": "markdown",
   "metadata": {},
   "source": [
    "# Start demo with \"streamlit run macaw/demo.py\""
   ]
  },
  {
   "cell_type": "markdown",
   "metadata": {},
   "source": [
    "## CONFIGURATION [change here]"
   ]
  },
  {
   "cell_type": "code",
   "execution_count": 16,
   "metadata": {},
   "outputs": [],
   "source": [
    "MODEL_NAME_OR_PATH = \"allenai/macaw-large\"  # Name or path to model\n",
    "CUDA_DEVICES = []   # List of available CUDA devices if any, e.g., [0] or [0, 2]\n",
    "LOG_FILE = \"macaw_demo.log\"  # Where to save a log\n",
    "REST_API_PORT = 8502 # Which port to use for API, set to None for no API"
   ]
  },
  {
   "cell_type": "markdown",
   "metadata": {},
   "source": [
    "## Model loading"
   ]
  },
  {
   "cell_type": "code",
   "execution_count": 17,
   "metadata": {},
   "outputs": [
    {
     "name": "stdout",
     "output_type": "stream",
     "text": [
      "2022-03-04 12:23:41.469713 Loading model...\n",
      "2022-03-04 12:24:09.586792 Model loaded!\n"
     ]
    }
   ],
   "source": [
    "####\n",
    "# If model hasn't loaded yet, this will load it (a single time, shared between requests)\n",
    "if not hasattr(st, 'MODEL'):\n",
    "    if MODEL_NAME_OR_PATH is None:  # For testing\n",
    "        st.MODEL = None\n",
    "        st.TOKENIZER = None\n",
    "        st.CUDA_DEVICE = None\n",
    "    else:\n",
    "        st.MODEL = \"Loading\"\n",
    "        print(f\"{datetime.now()} Loading model...\")\n",
    "        model_dict = load_model(MODEL_NAME_OR_PATH, CUDA_DEVICES)\n",
    "        st.MODEL, st.TOKENIZER, st.CUDA_DEVICE = model_dict['model'], model_dict['tokenizer'], model_dict['cuda_device']\n",
    "        print(f\"{datetime.now()} Model loaded!\")\n",
    "######"
   ]
  },
  {
   "cell_type": "code",
   "execution_count": 18,
   "metadata": {},
   "outputs": [],
   "source": [
    "# Run model in free generation mode\n",
    "def run_model_demo(input_string, **generator_options):\n",
    "    return run_model(st.MODEL, st.TOKENIZER, st.CUDA_DEVICE, input_string, generator_options)\n",
    "\n",
    "\n",
    "# Run model in forced generation mode, capturing each token probability\n",
    "def run_model_with_outputs_demo(input_string, output_strings):\n",
    "    return run_model_with_outputs(st.MODEL, st.TOKENIZER, st.CUDA_DEVICE, input_string, output_strings)\n",
    "\n",
    "\n",
    "def render_output_slots(state, index):\n",
    "    output_slots = state.output_slots[index]\n",
    "    if state.beam_scores and len(state.beam_scores) > index:\n",
    "        beam_score = math.exp(state.beam_scores[index])\n",
    "        beam_score = f\"(beam score = {beam_score:.4f})\"\n",
    "        st.write(f\"### Output rank {index + 1}: \", beam_score)\n",
    "    else:\n",
    "        st.write(f\"### Output rank {index + 1}: \")\n",
    "    str_out = \"\"\n",
    "    for slot, value in output_slots.items():\n",
    "        if slot in SLOT_FROM_LC:\n",
    "            str_out += \"**\" + SLOT_FROM_LC[slot] + \":** \" + value + \"  \\n\"\n",
    "    st.write(str_out)\n",
    "\n",
    "\n",
    "def render_explicit_output(state, index):\n",
    "    explicit_output = state.explicit_outputs[index]\n",
    "    prob = explicit_output.get('output_prob', -1.0)\n",
    "    str_out = f\"   {index+1}. ** {state.explicit_output_angle}:** {explicit_output['output_text']}  \"\n",
    "    str_out += f\"({prob:.4f})\"\n",
    "    st.write(str_out)"
   ]
  },
  {
   "cell_type": "code",
   "execution_count": 19,
   "metadata": {},
   "outputs": [],
   "source": [
    "def main():\n",
    "    state = _get_state()\n",
    "    pages = {\n",
    "        \"Main\": main_page,\n",
    "        \"Generator settings\": debug_page,\n",
    "    }\n",
    "\n",
    "    query_params = st.experimental_get_query_params()\n",
    "    if 'input' in query_params:\n",
    "        state.input = query_params['input'][0]\n",
    "\n",
    "    st.sidebar.title(\"Pages\")\n",
    "    page = st.sidebar.radio(\"Select page\", tuple(pages.keys()))\n",
    "\n",
    "    # Display the selected page with the session state\n",
    "    pages[page](state)\n",
    "\n",
    "    if state.num_beams is None:\n",
    "        initialize_generator_settings(state)\n",
    "\n",
    "    # Mandatory to avoid rollbacks with widgets, must be called at the end of your app\n",
    "    state.sync()"
   ]
  },
  {
   "cell_type": "code",
   "execution_count": 20,
   "metadata": {},
   "outputs": [],
   "source": [
    "def initialize_generator_settings(state):\n",
    "    state.num_beams = GENERATOR_OPTIONS_DEFAULT['num_beams']\n",
    "    state.num_return_sequences = GENERATOR_OPTIONS_DEFAULT['num_return_sequences']\n",
    "    state.do_sample = GENERATOR_OPTIONS_DEFAULT['do_sample']\n",
    "    state.top_k = GENERATOR_OPTIONS_DEFAULT['top_k']\n",
    "    state.top_p = GENERATOR_OPTIONS_DEFAULT['top_p']\n",
    "    state.temperature = GENERATOR_OPTIONS_DEFAULT['temperature']\n",
    "    state.length_penalty = GENERATOR_OPTIONS_DEFAULT['length_penalty']\n",
    "    state.repetition_penalty = GENERATOR_OPTIONS_DEFAULT['repetition_penalty']"
   ]
  },
  {
   "cell_type": "code",
   "execution_count": 21,
   "metadata": {},
   "outputs": [],
   "source": [
    "def debug_page(state):\n",
    "    st.title(\"Debug page\")\n",
    "    st.write(\"**Generator settings:** (see [here](https://huggingface.co/transformers/main_classes/model.html?highlight=generate#transformers.generation_utils.GenerationMixin.generate) for details)\")\n",
    "    state.num_beams = st.slider(\"Num beams\", min_value=1, max_value=10, value=state.num_beams or 1, step=1)\n",
    "    state.num_return_sequences = st.slider(\"Num return sequences\", min_value=1, max_value=10, value=state.num_return_sequences or 1, step=1)\n",
    "    state.do_sample = st.checkbox(\"Do Sample\", value=state.do_sample or False)\n",
    "    state.top_k = st.slider(\"Top K\", min_value=1, max_value=100, value=state.top_k or 50, step=1)\n",
    "    state.top_p = st.slider(\"Top P\", min_value=0.0, max_value=1.0, value=state.top_p or 1.0)\n",
    "    state.temperature = st.slider(\"Temperature\", min_value=0.0, max_value=10.0, value=state.temperature or 1.0)\n",
    "    state.length_penalty = st.slider(\"Length penalty\", min_value=0.0, max_value=10.0, value=state.length_penalty or 1.0)\n",
    "    state.repetition_penalty = st.slider(\"Repetition penalty\", min_value=0.0, max_value=10.0, value=state.repetition_penalty or 1.0)\n",
    "\n",
    "    st.write(\"---\")\n",
    "\n",
    "    st.write(\"Raw input:\")\n",
    "    st.text(state.raw_input)\n",
    "    st.write(\"Raw output:\")\n",
    "    if state.raw_output:\n",
    "        for raw_output in state.raw_output:\n",
    "            st.text(raw_output)\n",
    "    st.write(\"Token probabilities:\")\n",
    "    if state.token_probs:\n",
    "        for token_probs in state.token_probs:\n",
    "            st.text(token_probs)\n",
    "\n",
    "    # st.write(\"Full state:\",state._state['data'])\n",
    "    st.write(\"st server started:\", hasattr(st, 'already_started_server'))\n",
    "    if  hasattr(st, 'already_started_server'):\n",
    "        st.write(\"st server started value:\", st.already_started_server)"
   ]
  },
  {
   "cell_type": "markdown",
   "metadata": {},
   "source": [
    "# Examples"
   ]
  },
  {
   "cell_type": "code",
   "execution_count": null,
   "metadata": {},
   "outputs": [],
   "source": [
    "'''\n",
    "Q: Which characteristic of a cheetah is more likely to be learned rather than inherited?\n",
    "M: (A) speed (B) a spotted coat (C) hunting strategies (D) claws that do not retract\n",
    "A\n",
    "E\n",
    "'''"
   ]
  },
  {
   "cell_type": "code",
   "execution_count": 22,
   "metadata": {},
   "outputs": [],
   "source": [
    "EXAMPLES = [\n",
    "    {\"type\":\"DA-NoIR\",\"id\":\"ARCEZ_ACTAAP_2011_5_12\",\"angle\":\"Q->AE\",\"input\":\"$answer$ ; $explanation$ ; $question$ = There are many different processes that take place in plant and animal cells. Cellular respiration is one of those processes. What is the purpose of cellular respiration?\",\"output\":\"$explanation$ = Food contains carbohydrates. Cellular respiration is when a cell converts from oxygen and carbohydrates into carbon dioxide, water, and energy. Releasing energy is a kind of function. ; $answer$ = get energy for cells\"},\n",
    "    {\"type\":\"DA-NoIR\",\"id\":\"ARCEZ_CSZ20680\",\"angle\":\"EQ->A\",\"input\":\"$answer$ ; $explanation$ = A comet is often made of ice. If an object orbits a celestial object then that object is probably a celestial object as well. ; $question$ = An object composed mainly of ice is orbiting the Sun in an elliptical path. This object is most likely\",\"output\":\"$answer$ = comet\"},\n",
    "    {\"type\":\"DA-NoIR\",\"id\":\"ARCEZ_MEAP_2005_8_43\",\"angle\":\"QE->A\",\"input\":\"$answer$ ; $question$ = Astronauts weigh more on Earth than they do on the moon because ; $explanation$ = The earth has more mass than the moon. As the force of gravity increases, the weight of objects will increase. As mass of a celestial body increases, the force of gravity on that planet will increase.\",\"output\":\"$answer$ = the moon has lower gravity\"},\n",
    "    {\"type\":\"DA-NoIR\",\"id\":\"ARCEZ_Mercury_7040863\",\"angle\":\"Q->AE\",\"input\":\"$answer$ ; $explanation$ ; $question$ = What system helps the body defend itself against disease while maintaining the levels of body fluids?\",\"output\":\"$explanation$ = N\\/A ; $answer$ = lymphatic\"},\n",
    "    {\"type\":\"DA-NoIR\",\"id\":\"ARCCH_Mercury_SC_401663\",\"angle\":\"Q->AE\",\"input\":\"$answer$ ; $explanation$ ; $question$ = A student can conserve resources by placing which objects in a compost pile?\",\"output\":\"$answer$ = paper towels ; $explanation$ = Recycling nonrenewable resources has a positive impact on the conservation of those resources. A compost pile is used for recycling plants.\"},\n",
    "    {\"type\":\"DA-NoIR\",\"id\":\"ARCCH_Mercury_SC_408859\",\"angle\":\"Q->AE\",\"input\":\"$answer$ ; $explanation$ ; $question$ = American alligators are common in Florida wetlands. They are known to eat frogs, turtles, fish, mice, and birds. What role does an American alligator fill in its ecosystem?\",\"output\":\"$explanation$ = Consumers eat other organisms. In the food chain process an animal has the role of consumer which eats producers for food. Alligators eat birds. A role in the ecosystem is a role in the food chain process. ; $answer$ = consumer\"},\n",
    "    {\"type\":\"DA-NoIR\",\"id\":\"ARCCH_Mercury_180443\",\"angle\":\"QE->A\",\"input\":\"$answer$ ; $question$ = Which phase of the Moon occurs after a waxing gibbous? ; $explanation$ = A full moon occurs after a waxing gibbous moon.\",\"output\":\"$answer$ = full moon\"},\n",
    "    {\"type\":\"MC\",\"id\":\"ARCCH_Mercury_7032743\",\"angle\":\"QM->AE\",\"input\":\"$answer$ ; $explanation$ ; $question$ = Which characteristic of a cheetah is more likely to be learned rather than inherited? ; $mcoptions$ = (A) speed (B) a spotted coat (C) hunting strategies (D) claws that do not retract\",\"output\":\"$explanation$ = Hunting is a kind of skill. Skills are learned characteristics. ; $answer$ = hunting strategies\"},\n",
    "    {\"type\":\"MC\",\"id\":\"ARCCH_AIMS_2009_4_29\",\"angle\":\"EMQC->A\",\"input\":\"$answer$ ; $explanation$ = Humans move waste to a landfill for disposal. If a human discards an object then that object will become waste. Landfills have a negative impact on the environment. ; $mcoptions$ = (A) The electricity needed to keep food cold can be expensive. (B) If the electricity goes out, the food will spoil and make you sick. (C) Storing food longer reduces grocery store trips and gasoline use. (D) Old refrigerators contain chemicals and take up space in landfills. ; $question$ = A refrigerator uses electricity to create a cold place to store food. What negative impact does refrigerator use have on the environment? ; $context$ = A refrigerator that keeps food cold. Electricity used to power refrigerators used to store food samples for testing. Then, if you lose electricity for a short time, you can use these big \\\"ice cubes\\\" to keep food cold in your freezer or refrigerator. Laboratory-use refrigerators and cold rooms must not be used to store foods for consumption. Do not store food in a place used to store radioactive material such as a freezer or refrigerator. At The Grocery Store (1) Follow \\\"sell by\\\" and \\\"use by\\\" dates (2) Frozen food should be solid, refrigerated foods should be cold; Use food stored in the refrigerator quickly. Place NO FOOD labels on refrigerators used to store chemicals. Freeze water in plastic containers, if the electricity goes off you can use the ice to keep food cold in the refrigerator. A refrigerator uses electricity to create a cold place to store food.\",\"output\":\"$answer$ = Old refrigerators contain chemicals and take up space in landfills.\"},\n",
    "    {\"type\":\"MC\",\"id\":\"ARCCH_Mercury_SC_415491\",\"angle\":\"QMC->AE\",\"input\":\"$answer$ ; $explanation$ ; $question$ = Earth orbits the Sun once a year. About how many times does the moon orbit Earth in a year? ; $mcoptions$ = (A) 1 (B) 7 (C) 13 (D) 28 ; $context$ = The Moon takes about 28 days to orbit once around the Earth. Specifically, given that the Earth takes one year to orbit the sun, the time that it takes Venus to orbit the sun is 1.618 to the -1 years. This means that the distance between Earth and the Sun varies throughout the year and that the distance from the Earth to the Moon varies over each time it orbits us, which takes about 28 days. The moon's orbit around the earth once in about 28 days changes what portion of the moon is lighted by the sun and how much of that portion can be seen from the earth--the phases of the moon. In addition to orbiting around the Earth with respect to the background stars in a period of about 27 days 8 hours, the moon is part of the Earth-Moon duo orbiting the sun almost 1\\/13th of a year; Even though the Earth passes through the comet's orbit each year, the comet itself orbits the Sun once about every 6 1\\/2 years. Right now the Moon orbits the Earth roughly 12-13 times in a year; TRIVI A 1) How much farther from Earth does the moon's orbit move every year? The moon orbits Earth about 13 times per year. that the Earth orbits the Sun once each year, and that the Moon takes approximately 28 days to orbit the Earth.\",\"output\":\"$answer$ = 13 ; $explanation$ = The moon orbiting the Earth occurs approximately 13 times per year.\"},\n",
    "    {\"type\":\"MC\",\"id\":\"ARCCH_Mercury_7218750\",\"angle\":\"QMC->AE\",\"input\":\"$answer$ ; $explanation$ ; $question$ = Which type of water reservoir could always provide freshwater? ; $mcoptions$ = (A) inland lakes (B) river deltas (C) mountain glaciers (D) tropical seas ; $context$ = These sources have adversely affected both the coastal ponds region, other coastal embayments and inland freshwater lakes and ponds, including drinking water reservoirs. They are mainly inland birds found around freshwater lakes and reservoir. Cooling water is provided by Lake Bastrop, a 900 on freshwater reservoir. Cooling water is provided by Lake LBJ, a freshwater reservoir created by Wirtz Dam. or (b) into any waters of a lake or pond which are not inland freshwaters. Lake Assad, the Al Assad Reservoir, is the largest inland water body in Syria and provides its most important freshwater fishery. Glaciers are \\\"frozen freshwater reservoirs which release water during the drier summer months,\\\" Richard S. Williams Jr. of USGS wrote in a report. Know six different freshwater, sea-water or tropical fish and know what types of foods they  eat. The Director would first review the information that the new facility provided to validate the source water body type in which the cooling water intake structure is located (freshwater stream or river, lake or reservoir, estuary or tidal river, or ocean). Freshwater inland lakes and reservoirs provide our nation with 70% of its drinking water and supply water for industry, irrigation, and hydropower.\",\"output\":\"$explanation$ = The majority of freshwater is found in in glaciers. ; $answer$ = mountain glaciers\"},\n",
    "    {\"type\":\"MC\",\"id\":\"ARCEZ_Mercury_182665\",\"angle\":\"QMC->AE\",\"input\":\"$answer$ ; $explanation$ ; $question$ = Which characteristic is exclusive to chordates? ; $mcoptions$ = (A) digestive tract with two openings (B) dorsal hollow nerve tube (C) closed circulatory system (D) bony internal skeleton ; $context$ = dorsal hollow nerve tube Phylum Chordata Subphylum Urochordata This is one group of invertebrate chordates that provides clues to the origin of vertebrates. Chordates are also characterized by a hollow, dorsal nerve cord. The result is a dorsal, hollow nerve cord unique to chordates. In addition, you can now understand why we refer to a hollow dorsal nerve tube when we talk about the characteristics of chordates. Hemichordates also have a dorsal, hollow nerve cord probably equivalent to the dorsal, hollow nerve cord partially characteristic of the chordates. They share some of the fundamental characteristics of the chordates, which we'll review later, such as a dorsal hollow nerve cord and gill slits. These structures are openings of the upper digestive tube in chordates. Most chordates have an internal skeleton against which muscles work. Other chordate features Chordates also have a closed circulatory system, and most, but not all, chordates have a heart . The nerve cord of chordates develops dorsally in the body as a hollow tube above the notochord.\",\"output\":\"$answer$ = dorsal hollow nerve tube ; $explanation$ = N\\/A\"},\n",
    "    {\"type\":\"DA-IR-QStem\",\"id\":\"ARCCH_Mercury_412551\",\"angle\":\"QC->AE\",\"input\":\"$answer$ ; $explanation$ ; $question$ = Screech owls have two color variations: red and grey. What advantage does the grey screech owl have over the red screech owl in a habitat that is made up of trees with dark-colored bark? ; $context$ = Eastern screech owls have all red or grey feathers. Eastern Screech Owls have also been called the common screech Owl, Ghost Owl, Dusk Owl, Little-eared Owl, Spirit Owl, Little Dukelet, Texas Screech-Owl, whickering Owl, little grey Owl, mottled Owl, the red Owl, the mouse Owl, the cat Owl, the shivering Owl, and the little horned Owl. Screech Owls are noted for occuring in two distinct color phases, red and gray. The screech owl has two color phases, gray and red. There are actually two color forms of the Eastern Screech-Owl: red and gray. Team Colors The Screech Owls' colors are blue, with white and red trim. Otus, a gray phase screech-owl, and Tess, a red phase screech-owl, have been educating groups for years. Among them were screech owls of both color phases: red and gray. Eastern Screech Owl An encyclopedic biology of the Red Screech Owl. Thus, like many scops-owls and Eastern Screech-Owl O. asio, some owlet-nightjars have red and gray color morphs.\",\"output\":\"$explanation$ = N\\/A ; $answer$ = hiding\"},\n",
    "    {\"type\":\"DA-IR-QStem\",\"id\":\"ARCEZ_CSZ20680\",\"angle\":\"QC->AE\",\"input\":\"$answer$ ; $explanation$ ; $question$ = An object composed mainly of ice is orbiting the Sun in an elliptical path. This object is most likely ; $context$ = They are composed mostly of ice and dust, and are typically in very elliptical orbits around the Sun. The elliptical path of objects orbiting the sun comes about because of gravity. The object known as 2000 CR105 is one of the \\\"Trans-Neptunian Objects\\\" that orbit our sun on elliptical paths beyond Neptune's orbit. Answer: A comet is a small celestial body, composed mainly of ice and dust, in an elliptical orbit about the Sun. The object known as 2000 CR105 is one of the \\\"Trans Neptunian Objects (TNOs)\\\" that orbit our sun on elliptical paths beyond Neptune's orbit. Comets are chunks of rock and ice that orbit the Sun in elliptical Paths. ELLIPTICAL An object in an elliptical solar orbit. That point on the path of a sun-orbiting object most distant from the center of the sun. Comet - Comets are objects which orbit the Sun in very long elliptical orbits. Escape orbit Normally we think of orbits as circular or elliptical paths that planets and other objects follow around the Sun (or any other massive body).\",\"output\":\"$answer$ = a comet ; $explanation$ = A comet is often made of ice. If an object orbits a celestial object then that object is probably a celestial object as well.\"},\n",
    "    {\"type\":\"DA-IR-QStem\",\"id\":\"ARCEZ_MCAS_2013_5_17\",\"angle\":\"QC->AE\",\"input\":\"$answer$ ; $explanation$ ; $question$ = One type of animal hatches from an egg, breathes through gills when it is young, and mainly lives on land as an adult. Into which group is this animal classified? ; $context$ = the larva of tadpole living in water and breathing with gills develops into an adult animal which leaves the aquatic environment and breathes with lungs like a land animal. Tadpoles metamorphose from gilled animals into air-breathing adults that are able to live on land. when the larva or tadpole living in water and breathing with gills develops into an adult, it leaves  the aquatic environment and breathes with lungs like a land animal. The animals living here breathe through their gills, or skin. These eggs hatch and the emerging larva have gills through which they &quot;breathe&quot; oxygen from the water. AMPHIBIAN Amphibians (meaning \\\"double life\\\") are vertebrate animals that live in the water during their early life (breathing through gills), but usually live on land as adults (and breathe with lungs). AMPHIBIAN (pronounced am-FIB-ee-in) Amphibians (meaning \\\"double life\\\") are vertebrate animals that live in the water during their early life (breathing through gills), but usually live on land as adults (and breathe with lungs). The eggs hatch into larvae, breathe through gills, and are herbivorous. Its tadpole stage is passed inside the egg, from which it emerges to live as an adult without gills and without lungs -- breathing through its skin. An animal (such as frog, toad or salamander) that lives in the water and breathes through gills during its early life and which breathes by its lungs and through its skin as an adult and usually spends at least part of its time on land. X1014317280-00081-18174<\\/DOCNO> Glossary amphibian &#150;\",\"output\":\"$answer$ = amphibians ; $explanation$ = Amphibians hatch from eggs. Young amphibians breathe through gills. Adult amphibians live on land. An amphibian is a kind of animal.\"},\n",
    "    {\"type\":\"DA-IR-QStem\",\"id\":\"ARCEZ_MEAP_2005_8_43\",\"angle\":\"QC->AE\",\"input\":\"$answer$ ; $explanation$ ; $question$ = Astronauts weigh more on Earth than they do on the moon because ; $context$ = You weigh more on Earth than on the Moon because: a. On the moon the astronauts weigh less than they do on earth, why do you  think this is so ? The fingernail-sized moon rock, weighing barely more than a gram, was brought back to Earth by Apollo 17 astronauts in 1972. An object weighs more on the earth than it does on the moon because the earth has more mass than the moon.) On the Moon, the astronauts weighed about six times less than they did on the Earth. You do weigh more on Earth than you would on the moon. An astronaut walking on the Moon weighs one-sixth as much as on Earth because the net gravitational force on Earth is six times greater. On Earth, the suit weighs in at about 250 pounds, which for the astronauts would equate to wrapping themselves in something that weighs more than they do. For comparison, the astronauts on the Moon weighed 1\\/6 what they weighed on Earth. (yes,y,yup,yeah,ooh yes) Do things weigh more or less on the Moon than they do on Earth?\",\"output\":\"$explanation$ = The earth has more mass than the moon. As the force of gravity increases, the weight of objects will increase. As mass of a celestial body increases, the force of gravity on that planet will increase. ; $answer$ = the moon has less gravity than earth\"},\n",
    "    {\"type\":\"DA-IR-QStem\",\"id\":\"ARCEZ_Mercury_178728\",\"angle\":\"EQC->A\",\"input\":\"$answer$ ; $explanation$ = As some subatomic particles split, nuclear energy will be released. ; $question$ = When some subatomic particles split from each other, energy is released. What kind of energy is this? ; $context$ = A subatomic particle of energy charge. From this and other discoveries, scientists rapidly built up the theory that every kind of atom is made up of the same subatomic particles ( see Nuclear Energy ). That means that every single electron and subatomic particle of energy effects every other electron and subatomic particle of energy. This material decays spontaneously and releases subatomic particles and electromagnetic energy . radioactive An unstable isotope that decays spontaneously and releases subatomic particles or units of energy. When chlorophyll P680 absorbs sunlight, what subatomic particle actually has a change in energy content? The detector is designed to stop as many as possible of the subatomic particles created from energy released by colliding proton\\/antiproton beams. When the nuclei change in  structure, energy and\\/or subatomic particles are given off. When the particles are made to collide an electron and its anti-particle, the positron, annihilate each other releasing a high energy burst. At the subatomic level these subatomic particles are not made of energy, but they are themselves energy.\",\"output\":\"$answer$ = nuclear\"},\n",
    "    {\"type\":\"DA-IR-QStem\",\"id\":\"ARCEZ_MCAS_2002_8_2\",\"angle\":\"AC->Q\",\"input\":\"$question$ ; $answer$ = primary consumers ; $context$ = Animals eat plants, and some eat other animals in the food chain. Animals that eat only plants are herbivores and, on the food chain, are called primary consumers. Food chain - consists of a series of animals that eat plants and other animals Food web - a food web consists of many food chains within an ecosystem. a. Plant and animal remains are the source of organic matter in the decomposer food chain; This sequence starts with a plant-eating animal which is the source of food for the animal(s) above it in the food chain. While being food for animals higher in the food chain, these animals may eat other animals or plants to survive. A series of animals feeding on other animals or plants and protists is called a food chain . Animals low on the food chain eat plants. Carbon-14 moves up the food chain as animals eat plants and as predators eat other animals. Other food chains are based on decomposers--organisms that feed on dead plants and animals.\",\"output\":\"$question$ = In a food chain, living organisms that eat plants and are a food source for other animals are called\"},\n",
    "    {\"type\":\"DA-IR-QStem\",\"id\":\"ARCEZ_MEAP_2005_8_43\",\"angle\":\"QAC->E\",\"input\":\"$explanation$ ; $question$ = Astronauts weigh more on Earth than they do on the moon because ; $answer$ = the moon has less gravity than earth ; $context$ = You weigh more on Earth than on the Moon because: a. On the moon the astronauts weigh less than they do on earth, why do you  think this is so ? The fingernail-sized moon rock, weighing barely more than a gram, was brought back to Earth by Apollo 17 astronauts in 1972. An object weighs more on the earth than it does on the moon because the earth has more mass than the moon.) On the Moon, the astronauts weighed about six times less than they did on the Earth. You do weigh more on Earth than you would on the moon. An astronaut walking on the Moon weighs one-sixth as much as on Earth because the net gravitational force on Earth is six times greater. On Earth, the suit weighs in at about 250 pounds, which for the astronauts would equate to wrapping themselves in something that weighs more than they do. For comparison, the astronauts on the Moon weighed 1\\/6 what they weighed on Earth. (yes,y,yup,yeah,ooh yes) Do things weigh more or less on the Moon than they do on Earth?\",\"output\":\"$explanation$ = The earth has more mass than the moon. As the force of gravity increases, the weight of objects will increase. As mass of a celestial body increases, the force of gravity on that planet will increase.\"}\n",
    "]"
   ]
  },
  {
   "cell_type": "code",
   "execution_count": 23,
   "metadata": {},
   "outputs": [],
   "source": [
    "MAX_LEN_EXAMPLE_TEXT = 30\n",
    "EXAMPLES_PRETTY = [\"\"]\n",
    "for e in EXAMPLES:\n",
    "    prefix = f\"[{e['angle']}] ({e['type']})\"\n",
    "    slots = decompose_slots(e['input'])\n",
    "    for field in ['question', 'explanation', 'answer', 'context']:\n",
    "        if field in slots and slots[field] != '':\n",
    "            value = slots[field]\n",
    "            if len(value) > MAX_LEN_EXAMPLE_TEXT:\n",
    "                value = value[:MAX_LEN_EXAMPLE_TEXT-3] + \"...\"\n",
    "            prefix += f\" {field[0].upper()}: {value}\"\n",
    "            break\n",
    "    EXAMPLES_PRETTY.append(f\"{prefix} ({e['id']})\")"
   ]
  },
  {
   "cell_type": "code",
   "execution_count": 24,
   "metadata": {},
   "outputs": [],
   "source": [
    "def main_page(state):\n",
    "    st.title(\"Macaw demo\")\n",
    "    st.write(\"Macaw (**M**ulti-**A**ngle **c**(q)uestion **a**ns**w**ering) - for details, see \"\n",
    "             \"[github.com/allenai/macaw](https://github.com/allenai/macaw).\")\n",
    "    state.example = st.selectbox(\"Select example:\", EXAMPLES_PRETTY, EXAMPLES_PRETTY.index(state.example) if state.example else 0)\n",
    "\n",
    "    state.input = st.text_area(\"Give input by starting each line with a slot initial followed by colon. \"\n",
    "                               \"Requested output slots are given on separate lines. \"\n",
    "                               \"(C=Context, Q=Question, M=MCOptions, A=Answer, E=Explanation)\", state.input or \"\",\n",
    "                               height=150)\n",
    "\n",
    "    if st.button(\"Get response!\"):\n",
    "        st.experimental_set_query_params(**{\"input\": state.input})\n",
    "        get_response(state)\n",
    "\n",
    "    # st.write(\"## Top output:\")\n",
    "    if state.output_slots and len(state.output_slots) > 0:\n",
    "        render_output_slots(state, 0)\n",
    "\n",
    "    if state.output_slots and len(state.output_slots) > 1:\n",
    "        for index, output_slots in enumerate(state.output_slots[1:]):\n",
    "            render_output_slots(state, index + 1)\n",
    "\n",
    "    if state.explicit_outputs and len(state.explicit_outputs) > 0:\n",
    "        st.write(\"### Explicit outputs ranked:\")\n",
    "        for index, explicit_output in enumerate(state.explicit_outputs):\n",
    "            render_explicit_output(state, index)\n",
    "\n",
    "    st.write(\"### Input:\")\n",
    "    if state.input_slots:\n",
    "        st.write(\"**Requested angle:**\", state.angle)\n",
    "        for slot, value in state.input_slots.items():\n",
    "            st.write(\"**\"+slot+\":**\", value)\n",
    "\n",
    "    if st.button(\"Clear all\"):\n",
    "        state.clear()"
   ]
  },
  {
   "cell_type": "code",
   "execution_count": 25,
   "metadata": {},
   "outputs": [],
   "source": [
    "@st.cache\n",
    "def compute_answer(raw_input, generator_options, random_tickle=1, output_strings=None):\n",
    "    return_probs = {}\n",
    "    if MODEL_NAME_OR_PATH is not None:\n",
    "        res = run_model_demo(raw_input, **return_probs, **generator_options)\n",
    "    else:\n",
    "        res = {\"input_raw\": raw_input,\n",
    "               \"output_raw_list\": [EXAMPLES[0]['output']]}\n",
    "    res['generator_options'] = generator_options\n",
    "    if output_strings is not None:\n",
    "        res['explicit_outputs'] = run_model_with_outputs_demo(raw_input, output_strings)\n",
    "        res['explicit_outputs'].sort(key=lambda x: -x['score'])\n",
    "    log_data = res.copy()\n",
    "    log_data['time'] = str(datetime.now())\n",
    "    with open(LOG_FILE, 'a') as file:\n",
    "        file.write(json.dumps(log_data)+\"\\n\")\n",
    "    return res"
   ]
  },
  {
   "cell_type": "code",
   "execution_count": 26,
   "metadata": {},
   "outputs": [],
   "source": [
    "def api_compute(state_dict):\n",
    "    return get_raw_response(state_dict, compute_answer_fn=compute_answer)\n",
    "\n",
    "\n",
    "def get_response(state):\n",
    "    state_dict = state._state[\"data\"]\n",
    "    output = get_raw_response(state_dict, compute_answer_fn=compute_answer)\n",
    "    if 'input_raw' not in output:\n",
    "        return None\n",
    "    state.raw_input = output['input_raw']\n",
    "    state.angle = output['requested_angle']\n",
    "    state.raw_output = output['output_raw_list']\n",
    "    state.input_slots = output['input_slots']\n",
    "    state.output_slots = output['output_slots_list']\n",
    "    state.beam_scores = output.get('beam_scores')\n",
    "    state.token_probs = output.get('token_probs')\n",
    "    state.explicit_outputs = output.get('explicit_outputs')\n",
    "    state.explicit_output_angle = output.get('explicit_output_angle')\n",
    "\n",
    "\n",
    "def side_effect_setters(state, item, value):\n",
    "    if item == 'example':\n",
    "        index = EXAMPLES_PRETTY.index(value)\n",
    "        if index > 0:\n",
    "            ex = EXAMPLES[index-1]\n",
    "            state[\"data\"][\"input\"] = make_input_from_example(ex['input'])"
   ]
  },
  {
   "cell_type": "code",
   "execution_count": 27,
   "metadata": {},
   "outputs": [],
   "source": [
    "# Code borrowed from https://gist.github.com/okld/0aba4869ba6fdc8d49132e6974e2e662, in newer\n",
    "# streamlit versions, better approaches are available\n",
    "class _SessionState:\n",
    "\n",
    "    def __init__(self, session, hash_funcs):\n",
    "        \"\"\"Initialize SessionState instance.\"\"\"\n",
    "        self.__dict__[\"_state\"] = {\n",
    "            \"data\": {},\n",
    "            \"hash\": None,\n",
    "            \"hasher\": _CodeHasher(hash_funcs),\n",
    "            \"is_rerun\": False,\n",
    "            \"session\": session,\n",
    "        }\n",
    "\n",
    "    def __call__(self, **kwargs):\n",
    "        \"\"\"Initialize state data once.\"\"\"\n",
    "        for item, value in kwargs.items():\n",
    "            if item not in self._state[\"data\"]:\n",
    "                self._state[\"data\"][item] = value\n",
    "\n",
    "    def __getitem__(self, item):\n",
    "        \"\"\"Return a saved state value, None if item is undefined.\"\"\"\n",
    "        return self._state[\"data\"].get(item, None)\n",
    "\n",
    "    def __getattr__(self, item):\n",
    "        \"\"\"Return a saved state value, None if item is undefined.\"\"\"\n",
    "        return self._state[\"data\"].get(item, None)\n",
    "\n",
    "    def __setitem__(self, item, value):\n",
    "        \"\"\"Set state value.\"\"\"\n",
    "        side_effect_setters(self._state, item, value)\n",
    "        self._state[\"data\"][item] = value\n",
    "\n",
    "    def __setattr__(self, item, value):\n",
    "        \"\"\"Set state value.\"\"\"\n",
    "        side_effect_setters(self._state, item, value)\n",
    "        self._state[\"data\"][item] = value\n",
    "\n",
    "    def rerun(self):\n",
    "        self._state[\"session\"].request_rerun(None)\n",
    "\n",
    "    def clear(self):\n",
    "        \"\"\"Clear session state and request a rerun.\"\"\"\n",
    "        self._state[\"data\"].clear()\n",
    "        self._state[\"session\"].request_rerun(None)\n",
    "\n",
    "    def sync(self):\n",
    "        \"\"\"Rerun the app with all state values up to date from the beginning to fix rollbacks.\"\"\"\n",
    "\n",
    "        # Ensure to rerun only once to avoid infinite loops\n",
    "        # caused by a constantly changing state value at each run.\n",
    "        #\n",
    "        # Example: state.value += 1\n",
    "        if self._state[\"is_rerun\"]:\n",
    "            self._state[\"is_rerun\"] = False\n",
    "\n",
    "        elif self._state[\"hash\"] is not None:\n",
    "            if self._state[\"hash\"] != self._state[\"hasher\"].to_bytes(self._state[\"data\"], None):\n",
    "                self._state[\"is_rerun\"] = True\n",
    "                self._state[\"session\"].request_rerun(None)\n",
    "\n",
    "        self._state[\"hash\"] = self._state[\"hasher\"].to_bytes(self._state[\"data\"], None)\n"
   ]
  },
  {
   "cell_type": "code",
   "execution_count": 28,
   "metadata": {},
   "outputs": [],
   "source": [
    "def _get_session():\n",
    "    session_id = get_report_ctx().session_id\n",
    "    session_info = Server.get_current()._get_session_info(session_id)\n",
    "\n",
    "    if session_info is None:\n",
    "        raise RuntimeError(\"Couldn't get your Streamlit Session object.\")\n",
    "\n",
    "    return session_info.session\n",
    "\n",
    "\n",
    "def _get_state(hash_funcs=None):\n",
    "    session = _get_session()\n",
    "\n",
    "    if not hasattr(session, \"_custom_session_state\"):\n",
    "        session._custom_session_state = _SessionState(session, hash_funcs)\n",
    "\n",
    "    return session._custom_session_state"
   ]
  },
  {
   "cell_type": "markdown",
   "metadata": {},
   "source": [
    "# Setting up Flask app for REST api. This is very hacky!"
   ]
  },
  {
   "cell_type": "code",
   "execution_count": 29,
   "metadata": {},
   "outputs": [
    {
     "name": "stdout",
     "output_type": "stream",
     "text": [
      "Starting Flask server...\n",
      " * Serving Flask app \"MultiAngle\" (lazy loading)\n",
      " * Environment: production\n",
      "\u001b[31m   WARNING: This is a development server. Do not use it in a production deployment.\u001b[0m\n",
      "\u001b[2m   Use a production WSGI server instead.\u001b[0m\n",
      " * Debug mode: off\n"
     ]
    },
    {
     "name": "stderr",
     "output_type": "stream",
     "text": [
      "2022-03-04 12:38:38.196 WARNING werkzeug:  * Running on all addresses.\n",
      "   WARNING: This is a development server. Do not use it in a production deployment.\n",
      "2022-03-04 12:38:38.198 INFO    werkzeug:  * Running on http://192.168.1.67:8502/ (Press CTRL+C to quit)\n",
      "2022-03-04 12:40:58.846 \n",
      "  \u001b[33m\u001b[1mWarning:\u001b[0m to view this Streamlit app on a browser, run it with the following\n",
      "  command:\n",
      "\n",
      "    streamlit run /Users/yancong/opt/anaconda3/envs/nlum1/lib/python3.9/site-packages/ipykernel_launcher.py [ARGUMENTS]\n"
     ]
    },
    {
     "ename": "NameError",
     "evalue": "name 'get_report_ctx' is not defined",
     "output_type": "error",
     "traceback": [
      "\u001b[0;31m---------------------------------------------------------------------------\u001b[0m",
      "\u001b[0;31mNameError\u001b[0m                                 Traceback (most recent call last)",
      "\u001b[0;32m/var/folders/xl/6x4fjht11dq2blkl91wqmnkh0000gn/T/ipykernel_7147/908558575.py\u001b[0m in \u001b[0;36m<module>\u001b[0;34m\u001b[0m\n\u001b[1;32m     28\u001b[0m \u001b[0;34m\u001b[0m\u001b[0m\n\u001b[1;32m     29\u001b[0m \u001b[0;32mif\u001b[0m \u001b[0m__name__\u001b[0m \u001b[0;34m==\u001b[0m \u001b[0;34m\"__main__\"\u001b[0m\u001b[0;34m:\u001b[0m\u001b[0;34m\u001b[0m\u001b[0;34m\u001b[0m\u001b[0m\n\u001b[0;32m---> 30\u001b[0;31m     \u001b[0mmain\u001b[0m\u001b[0;34m(\u001b[0m\u001b[0;34m)\u001b[0m\u001b[0;34m\u001b[0m\u001b[0;34m\u001b[0m\u001b[0m\n\u001b[0m",
      "\u001b[0;32m/var/folders/xl/6x4fjht11dq2blkl91wqmnkh0000gn/T/ipykernel_7147/3210712607.py\u001b[0m in \u001b[0;36mmain\u001b[0;34m()\u001b[0m\n\u001b[1;32m      1\u001b[0m \u001b[0;32mdef\u001b[0m \u001b[0mmain\u001b[0m\u001b[0;34m(\u001b[0m\u001b[0;34m)\u001b[0m\u001b[0;34m:\u001b[0m\u001b[0;34m\u001b[0m\u001b[0;34m\u001b[0m\u001b[0m\n\u001b[0;32m----> 2\u001b[0;31m     \u001b[0mstate\u001b[0m \u001b[0;34m=\u001b[0m \u001b[0m_get_state\u001b[0m\u001b[0;34m(\u001b[0m\u001b[0;34m)\u001b[0m\u001b[0;34m\u001b[0m\u001b[0;34m\u001b[0m\u001b[0m\n\u001b[0m\u001b[1;32m      3\u001b[0m     pages = {\n\u001b[1;32m      4\u001b[0m         \u001b[0;34m\"Main\"\u001b[0m\u001b[0;34m:\u001b[0m \u001b[0mmain_page\u001b[0m\u001b[0;34m,\u001b[0m\u001b[0;34m\u001b[0m\u001b[0;34m\u001b[0m\u001b[0m\n\u001b[1;32m      5\u001b[0m         \u001b[0;34m\"Generator settings\"\u001b[0m\u001b[0;34m:\u001b[0m \u001b[0mdebug_page\u001b[0m\u001b[0;34m,\u001b[0m\u001b[0;34m\u001b[0m\u001b[0;34m\u001b[0m\u001b[0m\n",
      "\u001b[0;32m/var/folders/xl/6x4fjht11dq2blkl91wqmnkh0000gn/T/ipykernel_7147/3556523994.py\u001b[0m in \u001b[0;36m_get_state\u001b[0;34m(hash_funcs)\u001b[0m\n\u001b[1;32m     10\u001b[0m \u001b[0;34m\u001b[0m\u001b[0m\n\u001b[1;32m     11\u001b[0m \u001b[0;32mdef\u001b[0m \u001b[0m_get_state\u001b[0m\u001b[0;34m(\u001b[0m\u001b[0mhash_funcs\u001b[0m\u001b[0;34m=\u001b[0m\u001b[0;32mNone\u001b[0m\u001b[0;34m)\u001b[0m\u001b[0;34m:\u001b[0m\u001b[0;34m\u001b[0m\u001b[0;34m\u001b[0m\u001b[0m\n\u001b[0;32m---> 12\u001b[0;31m     \u001b[0msession\u001b[0m \u001b[0;34m=\u001b[0m \u001b[0m_get_session\u001b[0m\u001b[0;34m(\u001b[0m\u001b[0;34m)\u001b[0m\u001b[0;34m\u001b[0m\u001b[0;34m\u001b[0m\u001b[0m\n\u001b[0m\u001b[1;32m     13\u001b[0m \u001b[0;34m\u001b[0m\u001b[0m\n\u001b[1;32m     14\u001b[0m     \u001b[0;32mif\u001b[0m \u001b[0;32mnot\u001b[0m \u001b[0mhasattr\u001b[0m\u001b[0;34m(\u001b[0m\u001b[0msession\u001b[0m\u001b[0;34m,\u001b[0m \u001b[0;34m\"_custom_session_state\"\u001b[0m\u001b[0;34m)\u001b[0m\u001b[0;34m:\u001b[0m\u001b[0;34m\u001b[0m\u001b[0;34m\u001b[0m\u001b[0m\n",
      "\u001b[0;32m/var/folders/xl/6x4fjht11dq2blkl91wqmnkh0000gn/T/ipykernel_7147/3556523994.py\u001b[0m in \u001b[0;36m_get_session\u001b[0;34m()\u001b[0m\n\u001b[1;32m      1\u001b[0m \u001b[0;32mdef\u001b[0m \u001b[0m_get_session\u001b[0m\u001b[0;34m(\u001b[0m\u001b[0;34m)\u001b[0m\u001b[0;34m:\u001b[0m\u001b[0;34m\u001b[0m\u001b[0;34m\u001b[0m\u001b[0m\n\u001b[0;32m----> 2\u001b[0;31m     \u001b[0msession_id\u001b[0m \u001b[0;34m=\u001b[0m \u001b[0mget_report_ctx\u001b[0m\u001b[0;34m(\u001b[0m\u001b[0;34m)\u001b[0m\u001b[0;34m.\u001b[0m\u001b[0msession_id\u001b[0m\u001b[0;34m\u001b[0m\u001b[0;34m\u001b[0m\u001b[0m\n\u001b[0m\u001b[1;32m      3\u001b[0m     \u001b[0msession_info\u001b[0m \u001b[0;34m=\u001b[0m \u001b[0mServer\u001b[0m\u001b[0;34m.\u001b[0m\u001b[0mget_current\u001b[0m\u001b[0;34m(\u001b[0m\u001b[0;34m)\u001b[0m\u001b[0;34m.\u001b[0m\u001b[0m_get_session_info\u001b[0m\u001b[0;34m(\u001b[0m\u001b[0msession_id\u001b[0m\u001b[0;34m)\u001b[0m\u001b[0;34m\u001b[0m\u001b[0;34m\u001b[0m\u001b[0m\n\u001b[1;32m      4\u001b[0m \u001b[0;34m\u001b[0m\u001b[0m\n\u001b[1;32m      5\u001b[0m     \u001b[0;32mif\u001b[0m \u001b[0msession_info\u001b[0m \u001b[0;32mis\u001b[0m \u001b[0;32mNone\u001b[0m\u001b[0;34m:\u001b[0m\u001b[0;34m\u001b[0m\u001b[0;34m\u001b[0m\u001b[0m\n",
      "\u001b[0;31mNameError\u001b[0m: name 'get_report_ctx' is not defined"
     ]
    }
   ],
   "source": [
    "\n",
    "if REST_API_PORT is not None and (not hasattr(st, 'already_started_server') or st.already_started_server != \"Started\"):\n",
    "    # Use the fact that Python modules (like st) only load once to\n",
    "    # keep track of whether this function already ran.\n",
    "    st.already_started_server = \"Started\"\n",
    "\n",
    "    from flask import Flask, request\n",
    "\n",
    "    app = Flask(\"MultiAngle\")\n",
    "    @app.route('/api')\n",
    "    def compute():\n",
    "        state_dict = request.args.copy()\n",
    "        return api_compute(state_dict)\n",
    "\n",
    "    print(\"Starting Flask server...\")\n",
    "    app.run(host='0.0.0.0', port=REST_API_PORT)\n",
    "    # The following should be before app.run, but for some reason it causes things to hang\n",
    "    st.write('''\n",
    "        The first time this script executes it will run forever because it's\n",
    "        running a Flask server.\n",
    "\n",
    "        Just close this browser tab and open a new one to see your Streamlit\n",
    "        app.\n",
    "    ''')\n",
    "    #app.run(host='0.0.0.0', port=REST_API_PORT)\n",
    "\n",
    "####\n",
    "\n",
    "\n",
    "if __name__ == \"__main__\":\n",
    "    main()"
   ]
  },
  {
   "cell_type": "code",
   "execution_count": null,
   "metadata": {},
   "outputs": [],
   "source": []
  },
  {
   "cell_type": "code",
   "execution_count": null,
   "metadata": {},
   "outputs": [],
   "source": []
  }
 ],
 "metadata": {
  "interpreter": {
   "hash": "a427daaa2819ce086300a38f7f2f087a1c29849f8455e213bfda40f0b94a2c0d"
  },
  "kernelspec": {
   "display_name": "Python 3.8.8 64-bit ('nluintel': conda)",
   "language": "python",
   "name": "python3"
  },
  "language_info": {
   "codemirror_mode": {
    "name": "ipython",
    "version": 3
   },
   "file_extension": ".py",
   "mimetype": "text/x-python",
   "name": "python",
   "nbconvert_exporter": "python",
   "pygments_lexer": "ipython3",
   "version": "3.9.7"
  },
  "orig_nbformat": 4
 },
 "nbformat": 4,
 "nbformat_minor": 2
}
