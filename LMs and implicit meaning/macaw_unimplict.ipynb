{
  "nbformat": 4,
  "nbformat_minor": 0,
  "metadata": {
    "colab": {
      "name": "macaw_unimplict.ipynb",
      "provenance": [],
      "collapsed_sections": []
    },
    "kernelspec": {
      "name": "python3",
      "display_name": "Python 3"
    },
    "language_info": {
      "name": "python"
    },
    "widgets": {
      "application/vnd.jupyter.widget-state+json": {
        "47a8ae4ca4724951b83c0db8b4287187": {
          "model_module": "@jupyter-widgets/controls",
          "model_name": "HBoxModel",
          "model_module_version": "1.5.0",
          "state": {
            "_dom_classes": [],
            "_model_module": "@jupyter-widgets/controls",
            "_model_module_version": "1.5.0",
            "_model_name": "HBoxModel",
            "_view_count": null,
            "_view_module": "@jupyter-widgets/controls",
            "_view_module_version": "1.5.0",
            "_view_name": "HBoxView",
            "box_style": "",
            "children": [
              "IPY_MODEL_28c3fa7a93784e88ba3d304cb0b174e9",
              "IPY_MODEL_17a2aba8f18f4b80b53d9b1144bebafa",
              "IPY_MODEL_1efe165dd48846e7b03ae1bb498aeec1"
            ],
            "layout": "IPY_MODEL_5d3bf889843a41bcad59c775d2252f29"
          }
        },
        "28c3fa7a93784e88ba3d304cb0b174e9": {
          "model_module": "@jupyter-widgets/controls",
          "model_name": "HTMLModel",
          "model_module_version": "1.5.0",
          "state": {
            "_dom_classes": [],
            "_model_module": "@jupyter-widgets/controls",
            "_model_module_version": "1.5.0",
            "_model_name": "HTMLModel",
            "_view_count": null,
            "_view_module": "@jupyter-widgets/controls",
            "_view_module_version": "1.5.0",
            "_view_name": "HTMLView",
            "description": "",
            "description_tooltip": null,
            "layout": "IPY_MODEL_ce29fb1f9d504447afc6a84a7d33eac8",
            "placeholder": "​",
            "style": "IPY_MODEL_daf49d19d0f34c008e42f0eedf6678b2",
            "value": "Downloading: 100%"
          }
        },
        "17a2aba8f18f4b80b53d9b1144bebafa": {
          "model_module": "@jupyter-widgets/controls",
          "model_name": "FloatProgressModel",
          "model_module_version": "1.5.0",
          "state": {
            "_dom_classes": [],
            "_model_module": "@jupyter-widgets/controls",
            "_model_module_version": "1.5.0",
            "_model_name": "FloatProgressModel",
            "_view_count": null,
            "_view_module": "@jupyter-widgets/controls",
            "_view_module_version": "1.5.0",
            "_view_name": "ProgressView",
            "bar_style": "success",
            "description": "",
            "description_tooltip": null,
            "layout": "IPY_MODEL_8b6967b3c67c4767b910d9c4cc86dd50",
            "max": 2950913179,
            "min": 0,
            "orientation": "horizontal",
            "style": "IPY_MODEL_77a8a03975d4416b8a9055ea2e1df765",
            "value": 2950913179
          }
        },
        "1efe165dd48846e7b03ae1bb498aeec1": {
          "model_module": "@jupyter-widgets/controls",
          "model_name": "HTMLModel",
          "model_module_version": "1.5.0",
          "state": {
            "_dom_classes": [],
            "_model_module": "@jupyter-widgets/controls",
            "_model_module_version": "1.5.0",
            "_model_name": "HTMLModel",
            "_view_count": null,
            "_view_module": "@jupyter-widgets/controls",
            "_view_module_version": "1.5.0",
            "_view_name": "HTMLView",
            "description": "",
            "description_tooltip": null,
            "layout": "IPY_MODEL_debff4ba2f3b45189bad5b3bdd1be197",
            "placeholder": "​",
            "style": "IPY_MODEL_b7dd621d2c3f4013b118988a6cc999e3",
            "value": " 2.75G/2.75G [01:27&lt;00:00, 42.5MB/s]"
          }
        },
        "5d3bf889843a41bcad59c775d2252f29": {
          "model_module": "@jupyter-widgets/base",
          "model_name": "LayoutModel",
          "model_module_version": "1.2.0",
          "state": {
            "_model_module": "@jupyter-widgets/base",
            "_model_module_version": "1.2.0",
            "_model_name": "LayoutModel",
            "_view_count": null,
            "_view_module": "@jupyter-widgets/base",
            "_view_module_version": "1.2.0",
            "_view_name": "LayoutView",
            "align_content": null,
            "align_items": null,
            "align_self": null,
            "border": null,
            "bottom": null,
            "display": null,
            "flex": null,
            "flex_flow": null,
            "grid_area": null,
            "grid_auto_columns": null,
            "grid_auto_flow": null,
            "grid_auto_rows": null,
            "grid_column": null,
            "grid_gap": null,
            "grid_row": null,
            "grid_template_areas": null,
            "grid_template_columns": null,
            "grid_template_rows": null,
            "height": null,
            "justify_content": null,
            "justify_items": null,
            "left": null,
            "margin": null,
            "max_height": null,
            "max_width": null,
            "min_height": null,
            "min_width": null,
            "object_fit": null,
            "object_position": null,
            "order": null,
            "overflow": null,
            "overflow_x": null,
            "overflow_y": null,
            "padding": null,
            "right": null,
            "top": null,
            "visibility": null,
            "width": null
          }
        },
        "ce29fb1f9d504447afc6a84a7d33eac8": {
          "model_module": "@jupyter-widgets/base",
          "model_name": "LayoutModel",
          "model_module_version": "1.2.0",
          "state": {
            "_model_module": "@jupyter-widgets/base",
            "_model_module_version": "1.2.0",
            "_model_name": "LayoutModel",
            "_view_count": null,
            "_view_module": "@jupyter-widgets/base",
            "_view_module_version": "1.2.0",
            "_view_name": "LayoutView",
            "align_content": null,
            "align_items": null,
            "align_self": null,
            "border": null,
            "bottom": null,
            "display": null,
            "flex": null,
            "flex_flow": null,
            "grid_area": null,
            "grid_auto_columns": null,
            "grid_auto_flow": null,
            "grid_auto_rows": null,
            "grid_column": null,
            "grid_gap": null,
            "grid_row": null,
            "grid_template_areas": null,
            "grid_template_columns": null,
            "grid_template_rows": null,
            "height": null,
            "justify_content": null,
            "justify_items": null,
            "left": null,
            "margin": null,
            "max_height": null,
            "max_width": null,
            "min_height": null,
            "min_width": null,
            "object_fit": null,
            "object_position": null,
            "order": null,
            "overflow": null,
            "overflow_x": null,
            "overflow_y": null,
            "padding": null,
            "right": null,
            "top": null,
            "visibility": null,
            "width": null
          }
        },
        "daf49d19d0f34c008e42f0eedf6678b2": {
          "model_module": "@jupyter-widgets/controls",
          "model_name": "DescriptionStyleModel",
          "model_module_version": "1.5.0",
          "state": {
            "_model_module": "@jupyter-widgets/controls",
            "_model_module_version": "1.5.0",
            "_model_name": "DescriptionStyleModel",
            "_view_count": null,
            "_view_module": "@jupyter-widgets/base",
            "_view_module_version": "1.2.0",
            "_view_name": "StyleView",
            "description_width": ""
          }
        },
        "8b6967b3c67c4767b910d9c4cc86dd50": {
          "model_module": "@jupyter-widgets/base",
          "model_name": "LayoutModel",
          "model_module_version": "1.2.0",
          "state": {
            "_model_module": "@jupyter-widgets/base",
            "_model_module_version": "1.2.0",
            "_model_name": "LayoutModel",
            "_view_count": null,
            "_view_module": "@jupyter-widgets/base",
            "_view_module_version": "1.2.0",
            "_view_name": "LayoutView",
            "align_content": null,
            "align_items": null,
            "align_self": null,
            "border": null,
            "bottom": null,
            "display": null,
            "flex": null,
            "flex_flow": null,
            "grid_area": null,
            "grid_auto_columns": null,
            "grid_auto_flow": null,
            "grid_auto_rows": null,
            "grid_column": null,
            "grid_gap": null,
            "grid_row": null,
            "grid_template_areas": null,
            "grid_template_columns": null,
            "grid_template_rows": null,
            "height": null,
            "justify_content": null,
            "justify_items": null,
            "left": null,
            "margin": null,
            "max_height": null,
            "max_width": null,
            "min_height": null,
            "min_width": null,
            "object_fit": null,
            "object_position": null,
            "order": null,
            "overflow": null,
            "overflow_x": null,
            "overflow_y": null,
            "padding": null,
            "right": null,
            "top": null,
            "visibility": null,
            "width": null
          }
        },
        "77a8a03975d4416b8a9055ea2e1df765": {
          "model_module": "@jupyter-widgets/controls",
          "model_name": "ProgressStyleModel",
          "model_module_version": "1.5.0",
          "state": {
            "_model_module": "@jupyter-widgets/controls",
            "_model_module_version": "1.5.0",
            "_model_name": "ProgressStyleModel",
            "_view_count": null,
            "_view_module": "@jupyter-widgets/base",
            "_view_module_version": "1.2.0",
            "_view_name": "StyleView",
            "bar_color": null,
            "description_width": ""
          }
        },
        "debff4ba2f3b45189bad5b3bdd1be197": {
          "model_module": "@jupyter-widgets/base",
          "model_name": "LayoutModel",
          "model_module_version": "1.2.0",
          "state": {
            "_model_module": "@jupyter-widgets/base",
            "_model_module_version": "1.2.0",
            "_model_name": "LayoutModel",
            "_view_count": null,
            "_view_module": "@jupyter-widgets/base",
            "_view_module_version": "1.2.0",
            "_view_name": "LayoutView",
            "align_content": null,
            "align_items": null,
            "align_self": null,
            "border": null,
            "bottom": null,
            "display": null,
            "flex": null,
            "flex_flow": null,
            "grid_area": null,
            "grid_auto_columns": null,
            "grid_auto_flow": null,
            "grid_auto_rows": null,
            "grid_column": null,
            "grid_gap": null,
            "grid_row": null,
            "grid_template_areas": null,
            "grid_template_columns": null,
            "grid_template_rows": null,
            "height": null,
            "justify_content": null,
            "justify_items": null,
            "left": null,
            "margin": null,
            "max_height": null,
            "max_width": null,
            "min_height": null,
            "min_width": null,
            "object_fit": null,
            "object_position": null,
            "order": null,
            "overflow": null,
            "overflow_x": null,
            "overflow_y": null,
            "padding": null,
            "right": null,
            "top": null,
            "visibility": null,
            "width": null
          }
        },
        "b7dd621d2c3f4013b118988a6cc999e3": {
          "model_module": "@jupyter-widgets/controls",
          "model_name": "DescriptionStyleModel",
          "model_module_version": "1.5.0",
          "state": {
            "_model_module": "@jupyter-widgets/controls",
            "_model_module_version": "1.5.0",
            "_model_name": "DescriptionStyleModel",
            "_view_count": null,
            "_view_module": "@jupyter-widgets/base",
            "_view_module_version": "1.2.0",
            "_view_name": "StyleView",
            "description_width": ""
          }
        }
      }
    }
  },
  "cells": [
    {
      "cell_type": "markdown",
      "source": [
        "**Load utils and lib**"
      ],
      "metadata": {
        "id": "5rtuhQQZSYRE"
      }
    },
    {
      "cell_type": "code",
      "source": [
        "import pandas as pd\n",
        "import numpy as np\n",
        "import math\n",
        "import string\n",
        "import os, sys\n",
        "import json"
      ],
      "metadata": {
        "id": "oIfCtDCca2pQ"
      },
      "execution_count": 52,
      "outputs": []
    },
    {
      "cell_type": "code",
      "source": [
        "!pip install transformers"
      ],
      "metadata": {
        "colab": {
          "base_uri": "https://localhost:8080/"
        },
        "id": "i27RSamIPeQR",
        "outputId": "12307785-0e91-4ca4-f660-6fafb4ffdde5"
      },
      "execution_count": 2,
      "outputs": [
        {
          "output_type": "stream",
          "name": "stdout",
          "text": [
            "Collecting transformers\n",
            "  Downloading transformers-4.17.0-py3-none-any.whl (3.8 MB)\n",
            "\u001b[K     |████████████████████████████████| 3.8 MB 5.1 MB/s \n",
            "\u001b[?25hRequirement already satisfied: requests in /usr/local/lib/python3.7/dist-packages (from transformers) (2.23.0)\n",
            "Collecting tokenizers!=0.11.3,>=0.11.1\n",
            "  Downloading tokenizers-0.11.6-cp37-cp37m-manylinux_2_12_x86_64.manylinux2010_x86_64.whl (6.5 MB)\n",
            "\u001b[K     |████████████████████████████████| 6.5 MB 34.4 MB/s \n",
            "\u001b[?25hRequirement already satisfied: regex!=2019.12.17 in /usr/local/lib/python3.7/dist-packages (from transformers) (2019.12.20)\n",
            "Requirement already satisfied: filelock in /usr/local/lib/python3.7/dist-packages (from transformers) (3.6.0)\n",
            "Collecting sacremoses\n",
            "  Downloading sacremoses-0.0.49-py3-none-any.whl (895 kB)\n",
            "\u001b[K     |████████████████████████████████| 895 kB 57.6 MB/s \n",
            "\u001b[?25hRequirement already satisfied: tqdm>=4.27 in /usr/local/lib/python3.7/dist-packages (from transformers) (4.63.0)\n",
            "Requirement already satisfied: importlib-metadata in /usr/local/lib/python3.7/dist-packages (from transformers) (4.11.3)\n",
            "Collecting huggingface-hub<1.0,>=0.1.0\n",
            "  Downloading huggingface_hub-0.4.0-py3-none-any.whl (67 kB)\n",
            "\u001b[K     |████████████████████████████████| 67 kB 4.9 MB/s \n",
            "\u001b[?25hRequirement already satisfied: numpy>=1.17 in /usr/local/lib/python3.7/dist-packages (from transformers) (1.21.5)\n",
            "Requirement already satisfied: packaging>=20.0 in /usr/local/lib/python3.7/dist-packages (from transformers) (21.3)\n",
            "Collecting pyyaml>=5.1\n",
            "  Downloading PyYAML-6.0-cp37-cp37m-manylinux_2_5_x86_64.manylinux1_x86_64.manylinux_2_12_x86_64.manylinux2010_x86_64.whl (596 kB)\n",
            "\u001b[K     |████████████████████████████████| 596 kB 54.0 MB/s \n",
            "\u001b[?25hRequirement already satisfied: typing-extensions>=3.7.4.3 in /usr/local/lib/python3.7/dist-packages (from huggingface-hub<1.0,>=0.1.0->transformers) (3.10.0.2)\n",
            "Requirement already satisfied: pyparsing!=3.0.5,>=2.0.2 in /usr/local/lib/python3.7/dist-packages (from packaging>=20.0->transformers) (3.0.7)\n",
            "Requirement already satisfied: zipp>=0.5 in /usr/local/lib/python3.7/dist-packages (from importlib-metadata->transformers) (3.7.0)\n",
            "Requirement already satisfied: certifi>=2017.4.17 in /usr/local/lib/python3.7/dist-packages (from requests->transformers) (2021.10.8)\n",
            "Requirement already satisfied: urllib3!=1.25.0,!=1.25.1,<1.26,>=1.21.1 in /usr/local/lib/python3.7/dist-packages (from requests->transformers) (1.24.3)\n",
            "Requirement already satisfied: chardet<4,>=3.0.2 in /usr/local/lib/python3.7/dist-packages (from requests->transformers) (3.0.4)\n",
            "Requirement already satisfied: idna<3,>=2.5 in /usr/local/lib/python3.7/dist-packages (from requests->transformers) (2.10)\n",
            "Requirement already satisfied: six in /usr/local/lib/python3.7/dist-packages (from sacremoses->transformers) (1.15.0)\n",
            "Requirement already satisfied: joblib in /usr/local/lib/python3.7/dist-packages (from sacremoses->transformers) (1.1.0)\n",
            "Requirement already satisfied: click in /usr/local/lib/python3.7/dist-packages (from sacremoses->transformers) (7.1.2)\n",
            "Installing collected packages: pyyaml, tokenizers, sacremoses, huggingface-hub, transformers\n",
            "  Attempting uninstall: pyyaml\n",
            "    Found existing installation: PyYAML 3.13\n",
            "    Uninstalling PyYAML-3.13:\n",
            "      Successfully uninstalled PyYAML-3.13\n",
            "Successfully installed huggingface-hub-0.4.0 pyyaml-6.0 sacremoses-0.0.49 tokenizers-0.11.6 transformers-4.17.0\n"
          ]
        }
      ]
    },
    {
      "cell_type": "code",
      "source": [
        "!pip install sentencepiece"
      ],
      "metadata": {
        "colab": {
          "base_uri": "https://localhost:8080/"
        },
        "id": "iBAdJl_QPsBg",
        "outputId": "68599e41-15c0-4eee-c0da-d3d9fb6730ea"
      },
      "execution_count": 12,
      "outputs": [
        {
          "output_type": "stream",
          "name": "stdout",
          "text": [
            "Requirement already satisfied: sentencepiece in /usr/local/lib/python3.7/dist-packages (0.1.96)\n"
          ]
        }
      ]
    },
    {
      "cell_type": "code",
      "source": [
        "# after installing sentencepiece, need to restart kernel\n",
        "from transformers import AutoTokenizer, AutoModelForSeq2SeqLM, T5Tokenizer\n",
        "from transformers import logging as transformers_logging\n",
        "tokenizer = AutoTokenizer.from_pretrained(\"allenai/macaw-large\")\n",
        "model = AutoModelForSeq2SeqLM.from_pretrained(\"allenai/macaw-large\")\n",
        "input_string = \"$answer$ ; $mcoptions$ ; $question$ = What is the color of a cloudy sky?\"\n",
        "input_ids = tokenizer.encode(input_string, return_tensors=\"pt\")\n",
        "output = model.generate(input_ids, max_length=200)\n",
        "\n",
        "tokenizer.batch_decode(output, skip_special_tokens=True)"
      ],
      "metadata": {
        "colab": {
          "base_uri": "https://localhost:8080/",
          "height": 67,
          "referenced_widgets": [
            "47a8ae4ca4724951b83c0db8b4287187",
            "28c3fa7a93784e88ba3d304cb0b174e9",
            "17a2aba8f18f4b80b53d9b1144bebafa",
            "1efe165dd48846e7b03ae1bb498aeec1",
            "5d3bf889843a41bcad59c775d2252f29",
            "ce29fb1f9d504447afc6a84a7d33eac8",
            "daf49d19d0f34c008e42f0eedf6678b2",
            "8b6967b3c67c4767b910d9c4cc86dd50",
            "77a8a03975d4416b8a9055ea2e1df765",
            "debff4ba2f3b45189bad5b3bdd1be197",
            "b7dd621d2c3f4013b118988a6cc999e3"
          ]
        },
        "id": "dcFMTPDVQPWO",
        "outputId": "361c3e3d-c514-4d76-dc2f-2255ebca9d53"
      },
      "execution_count": 1,
      "outputs": [
        {
          "output_type": "display_data",
          "data": {
            "text/plain": [
              "Downloading:   0%|          | 0.00/2.75G [00:00<?, ?B/s]"
            ],
            "application/vnd.jupyter.widget-view+json": {
              "version_major": 2,
              "version_minor": 0,
              "model_id": "47a8ae4ca4724951b83c0db8b4287187"
            }
          },
          "metadata": {}
        },
        {
          "output_type": "execute_result",
          "data": {
            "text/plain": [
              "['$answer$ = gray ; $mcoptions$ = (A) blue (B) white (C) grey (D) white']"
            ]
          },
          "metadata": {},
          "execution_count": 1
        }
      ]
    },
    {
      "cell_type": "code",
      "execution_count": null,
      "metadata": {
        "id": "iFEZd7IqPGPe"
      },
      "outputs": [],
      "source": [
        "# first upload utils.py to /content/\n",
        "import utils\n",
        "from utils import load_model,run_macaw\n",
        "\n",
        "model_dict = load_model(\"allenai/macaw-large\", cuda_devices=None) "
      ]
    },
    {
      "cell_type": "code",
      "source": [
        "print(utils)"
      ],
      "metadata": {
        "colab": {
          "base_uri": "https://localhost:8080/"
        },
        "id": "QFG_Lv_CR0wJ",
        "outputId": "2a356ce6-2ecb-4c11-c653-f81b60b2cfc1"
      },
      "execution_count": 3,
      "outputs": [
        {
          "output_type": "stream",
          "name": "stdout",
          "text": [
            "<module 'utils' from '/content/utils.py'>\n"
          ]
        }
      ]
    },
    {
      "cell_type": "markdown",
      "source": [
        "**Experiment trial**"
      ],
      "metadata": {
        "id": "BjLh-YfsSqwp"
      }
    },
    {
      "cell_type": "code",
      "source": [
        "res = run_macaw(\"Q: James went camping in the woods, but forgot to bring a hammer to bang the tent pegs in. What else might he use?\\nA\", model_dict)\n",
        "res['output_slots_list'][0]"
      ],
      "metadata": {
        "colab": {
          "base_uri": "https://localhost:8080/"
        },
        "id": "vKWsacpTSrIn",
        "outputId": "7990e3df-a77e-4fb0-fe7f-80b10818da8a"
      },
      "execution_count": 4,
      "outputs": [
        {
          "output_type": "execute_result",
          "data": {
            "text/plain": [
              "{'answer': 'a chisel'}"
            ]
          },
          "metadata": {},
          "execution_count": 4
        }
      ]
    },
    {
      "cell_type": "code",
      "source": [
        "# Add more reqturn sequences and make the outputs less repetative\n",
        "good = run_macaw(\"Q: What dose speaker imply when he says that Alex is a good teacher?\\nA\\nE\", model_dict, \n",
        "{\"do_sample\": True, \"top_k\": 10, \"num_return_sequences\": 5, \"repetition_penalty\": 3.0})\n",
        "\n",
        "good['output_slots_list']"
      ],
      "metadata": {
        "colab": {
          "base_uri": "https://localhost:8080/"
        },
        "id": "6E0gLq6oSvvj",
        "outputId": "0b62ab7d-dc98-4d46-8e9e-65ec3de1eb5f"
      },
      "execution_count": 5,
      "outputs": [
        {
          "output_type": "execute_result",
          "data": {
            "text/plain": [
              "[{'answer': 'the speaker is implying that alex has much to teach others through example and communication with them, not just from his own experience as an athlete but also from being around other athletes.'},\n",
              " {'answer': \"the speaker is implying that alex has good knowledge of math and science, but doesn't know much about language arts or education.\"},\n",
              " {'answer': \"that he has high expectations for his students and does not expect much from them, but is very kind and patient with her student's needs. this statement implies the speaker think Alex can do well in school because of how hard she worked to make it happen so quickly! these statements suggest an assumption made by the speaker which may be incorrect? (A) That teacher knows many things about math; #explanation#: If something requires something else then that something allows that something else.\"},\n",
              " {'answer': 'he thinks alex is smart, but not very smart.'},\n",
              " {'answer': 'the speaker is implying that alex has a good teaching style, which suggests it can be used in all classes by anyone with basic math skills.'}]"
            ]
          },
          "metadata": {},
          "execution_count": 5
        }
      ]
    },
    {
      "cell_type": "markdown",
      "source": [
        "**Define functions**"
      ],
      "metadata": {
        "id": "0g8K9_bwWyzp"
      }
    },
    {
      "cell_type": "code",
      "source": [
        "df = pd.read_csv('si_adj.csv')\n",
        "df.head()"
      ],
      "metadata": {
        "colab": {
          "base_uri": "https://localhost:8080/",
          "height": 156
        },
        "id": "le9apgbceQ4z",
        "outputId": "65cf7e6d-ee4a-4ee7-976b-1ff11336bd38"
      },
      "execution_count": 28,
      "outputs": [
        {
          "output_type": "execute_result",
          "data": {
            "text/plain": [
              "  condtion target_adj         prediction  \\\n",
              "0       SI       good      not excellent   \n",
              "1       SI       warm  not hot; not cold   \n",
              "\n",
              "                                            question  \\\n",
              "0  What does the speaker imply by saying Alex is ...   \n",
              "1  What does the speaker imply by saying it's war...   \n",
              "\n",
              "                               context  answer  \n",
              "0  The speaker is pragmatically savvy.     NaN  \n",
              "1  The speaker is pragmatically savvy.     NaN  "
            ],
            "text/html": [
              "\n",
              "  <div id=\"df-8af8782f-87c1-44bf-b292-cefb2e9d5979\">\n",
              "    <div class=\"colab-df-container\">\n",
              "      <div>\n",
              "<style scoped>\n",
              "    .dataframe tbody tr th:only-of-type {\n",
              "        vertical-align: middle;\n",
              "    }\n",
              "\n",
              "    .dataframe tbody tr th {\n",
              "        vertical-align: top;\n",
              "    }\n",
              "\n",
              "    .dataframe thead th {\n",
              "        text-align: right;\n",
              "    }\n",
              "</style>\n",
              "<table border=\"1\" class=\"dataframe\">\n",
              "  <thead>\n",
              "    <tr style=\"text-align: right;\">\n",
              "      <th></th>\n",
              "      <th>condtion</th>\n",
              "      <th>target_adj</th>\n",
              "      <th>prediction</th>\n",
              "      <th>question</th>\n",
              "      <th>context</th>\n",
              "      <th>answer</th>\n",
              "    </tr>\n",
              "  </thead>\n",
              "  <tbody>\n",
              "    <tr>\n",
              "      <th>0</th>\n",
              "      <td>SI</td>\n",
              "      <td>good</td>\n",
              "      <td>not excellent</td>\n",
              "      <td>What does the speaker imply by saying Alex is ...</td>\n",
              "      <td>The speaker is pragmatically savvy.</td>\n",
              "      <td>NaN</td>\n",
              "    </tr>\n",
              "    <tr>\n",
              "      <th>1</th>\n",
              "      <td>SI</td>\n",
              "      <td>warm</td>\n",
              "      <td>not hot; not cold</td>\n",
              "      <td>What does the speaker imply by saying it's war...</td>\n",
              "      <td>The speaker is pragmatically savvy.</td>\n",
              "      <td>NaN</td>\n",
              "    </tr>\n",
              "  </tbody>\n",
              "</table>\n",
              "</div>\n",
              "      <button class=\"colab-df-convert\" onclick=\"convertToInteractive('df-8af8782f-87c1-44bf-b292-cefb2e9d5979')\"\n",
              "              title=\"Convert this dataframe to an interactive table.\"\n",
              "              style=\"display:none;\">\n",
              "        \n",
              "  <svg xmlns=\"http://www.w3.org/2000/svg\" height=\"24px\"viewBox=\"0 0 24 24\"\n",
              "       width=\"24px\">\n",
              "    <path d=\"M0 0h24v24H0V0z\" fill=\"none\"/>\n",
              "    <path d=\"M18.56 5.44l.94 2.06.94-2.06 2.06-.94-2.06-.94-.94-2.06-.94 2.06-2.06.94zm-11 1L8.5 8.5l.94-2.06 2.06-.94-2.06-.94L8.5 2.5l-.94 2.06-2.06.94zm10 10l.94 2.06.94-2.06 2.06-.94-2.06-.94-.94-2.06-.94 2.06-2.06.94z\"/><path d=\"M17.41 7.96l-1.37-1.37c-.4-.4-.92-.59-1.43-.59-.52 0-1.04.2-1.43.59L10.3 9.45l-7.72 7.72c-.78.78-.78 2.05 0 2.83L4 21.41c.39.39.9.59 1.41.59.51 0 1.02-.2 1.41-.59l7.78-7.78 2.81-2.81c.8-.78.8-2.07 0-2.86zM5.41 20L4 18.59l7.72-7.72 1.47 1.35L5.41 20z\"/>\n",
              "  </svg>\n",
              "      </button>\n",
              "      \n",
              "  <style>\n",
              "    .colab-df-container {\n",
              "      display:flex;\n",
              "      flex-wrap:wrap;\n",
              "      gap: 12px;\n",
              "    }\n",
              "\n",
              "    .colab-df-convert {\n",
              "      background-color: #E8F0FE;\n",
              "      border: none;\n",
              "      border-radius: 50%;\n",
              "      cursor: pointer;\n",
              "      display: none;\n",
              "      fill: #1967D2;\n",
              "      height: 32px;\n",
              "      padding: 0 0 0 0;\n",
              "      width: 32px;\n",
              "    }\n",
              "\n",
              "    .colab-df-convert:hover {\n",
              "      background-color: #E2EBFA;\n",
              "      box-shadow: 0px 1px 2px rgba(60, 64, 67, 0.3), 0px 1px 3px 1px rgba(60, 64, 67, 0.15);\n",
              "      fill: #174EA6;\n",
              "    }\n",
              "\n",
              "    [theme=dark] .colab-df-convert {\n",
              "      background-color: #3B4455;\n",
              "      fill: #D2E3FC;\n",
              "    }\n",
              "\n",
              "    [theme=dark] .colab-df-convert:hover {\n",
              "      background-color: #434B5C;\n",
              "      box-shadow: 0px 1px 3px 1px rgba(0, 0, 0, 0.15);\n",
              "      filter: drop-shadow(0px 1px 2px rgba(0, 0, 0, 0.3));\n",
              "      fill: #FFFFFF;\n",
              "    }\n",
              "  </style>\n",
              "\n",
              "      <script>\n",
              "        const buttonEl =\n",
              "          document.querySelector('#df-8af8782f-87c1-44bf-b292-cefb2e9d5979 button.colab-df-convert');\n",
              "        buttonEl.style.display =\n",
              "          google.colab.kernel.accessAllowed ? 'block' : 'none';\n",
              "\n",
              "        async function convertToInteractive(key) {\n",
              "          const element = document.querySelector('#df-8af8782f-87c1-44bf-b292-cefb2e9d5979');\n",
              "          const dataTable =\n",
              "            await google.colab.kernel.invokeFunction('convertToInteractive',\n",
              "                                                     [key], {});\n",
              "          if (!dataTable) return;\n",
              "\n",
              "          const docLinkHtml = 'Like what you see? Visit the ' +\n",
              "            '<a target=\"_blank\" href=https://colab.research.google.com/notebooks/data_table.ipynb>data table notebook</a>'\n",
              "            + ' to learn more about interactive tables.';\n",
              "          element.innerHTML = '';\n",
              "          dataTable['output_type'] = 'display_data';\n",
              "          await google.colab.output.renderOutput(dataTable, element);\n",
              "          const docLink = document.createElement('div');\n",
              "          docLink.innerHTML = docLinkHtml;\n",
              "          element.appendChild(docLink);\n",
              "        }\n",
              "      </script>\n",
              "    </div>\n",
              "  </div>\n",
              "  "
            ]
          },
          "metadata": {},
          "execution_count": 28
        }
      ]
    },
    {
      "cell_type": "code",
      "source": [
        "def question(question_str, context = \"\"):\n",
        "  res = run_macaw(\"Q: \"+question_str+\"\\nC: \"+context+\" \\nA\", model_dict,\n",
        "                  {\"do_sample\": True, 'max_length': 100,\n",
        "                   \"top_k\": 5, \"num_return_sequences\": 5, \"repetition_penalty\": 3.0})\n",
        "  return res"
      ],
      "metadata": {
        "id": "-ZNZw_D7Vw34"
      },
      "execution_count": 41,
      "outputs": []
    },
    {
      "cell_type": "code",
      "source": [
        "res1 = question(\"What does the speaker imply by saying Alex ate some of the cookies?\", \n",
        "                \"The speaker is pragmatically savvy.\")"
      ],
      "metadata": {
        "colab": {
          "base_uri": "https://localhost:8080/"
        },
        "id": "WcbFy0vqWwEs",
        "outputId": "9450bce6-cf84-42b4-adeb-7eb5957852a7"
      },
      "execution_count": 17,
      "outputs": [
        {
          "output_type": "stream",
          "name": "stdout",
          "text": [
            "{'input_raw': '$answer$ ; $explanation$ ; $question$ = What does the speaker imply by saying Alex ate some of the cookies? ; $context$ = The speaker is pragmatically savvy.', 'output_raw_list': ['$answer$ = ate the cookies', '$answer$ = he must have enjoyed them. dessert tasted good, though it was cold outside; implies that the cookie had some nutritional value to its owner when she baked it', '$answer$ = was a cheater and stole the cookies from his friend', '$answer$ = he overate them and put some in his mouth to finish the sentence.', \"$answer$ = the cookies were harmed by his mother's carelessness and negligence, which led to him not being able to finish them all. rather than sweep up their footprints in an accident\"], 'generator_options': {'min_length': 1, 'max_length': 128, 'num_beams': 1, 'num_return_sequences': 5, 'do_sample': True, 'top_k': 10, 'top_p': 1.0, 'temperature': 1.0, 'length_penalty': 1.0, 'repetition_penalty': 3.0}, 'requested_angle': 'QC->AE', 'input_slots': {'Question': 'What does the speaker imply by saying Alex ate some of the cookies?', 'Context': 'The speaker is pragmatically savvy.'}, 'output_slots_list': [{'answer': 'ate the cookies'}, {'answer': 'he must have enjoyed them. dessert tasted good, though it was cold outside; implies that the cookie had some nutritional value to its owner when she baked it'}, {'answer': 'was a cheater and stole the cookies from his friend'}, {'answer': 'he overate them and put some in his mouth to finish the sentence.'}, {'answer': \"the cookies were harmed by his mother's carelessness and negligence, which led to him not being able to finish them all. rather than sweep up their footprints in an accident\"}]}\n"
          ]
        }
      ]
    },
    {
      "cell_type": "code",
      "source": [
        "'''\n",
        "{'input_raw': '$answer$ ; $explanation$ ; \n",
        "$question$ = What does the speaker imply by saying Alex ate some of the cookies? ; \n",
        "$context$ = The speaker is pragmatically savvy.', \n",
        "'output_raw_list': \n",
        "['$answer$ = ate the cookies', \n",
        "'$answer$ = he must have enjoyed them. dessert tasted good, though it was cold outside; implies that the cookie had some nutritional value to its owner when she baked it', \n",
        "'$answer$ = was a cheater and stole the cookies from his friend', \n",
        "'$answer$ = he overate them and put some in his mouth to finish the sentence.', \n",
        "\"$answer$ = the cookies were harmed by his mother's carelessness and negligence, which led to him not being able to finish them all. rather than sweep up their footprints in an accident\"], \n",
        "\n",
        "'generator_options': {'min_length': 1, 'max_length': 128, 'num_beams': 1, 'num_return_sequences': 5, 'do_sample': True, 'top_k': 10, 'top_p': 1.0, 'temperature': 1.0, 'length_penalty': 1.0, 'repetition_penalty': 3.0}, 'requested_angle': 'QC->AE', \n",
        "\n",
        "'input_slots': {'Question': 'What does the speaker imply by saying Alex ate some of the cookies?', \n",
        "'Context': 'The speaker is pragmatically savvy.'}, \n",
        "\n",
        "'output_slots_list': [{'answer': 'ate the cookies'}, \n",
        "{'answer': 'he must have enjoyed them. dessert tasted good, though it was cold outside; implies that the cookie had some nutritional value to its owner when she baked it'}, \n",
        "{'answer': 'was a cheater and stole the cookies from his friend'}, \n",
        "{'answer': 'he overate them and put some in his mouth to finish the sentence.'}, \n",
        "{'answer': \"the cookies were harmed by his mother's carelessness and negligence, which led to him not being able to finish them all. rather than sweep up their footprints in an accident\"}]}\n",
        "'''"
      ],
      "metadata": {
        "id": "6aq0ySjNZCDM"
      },
      "execution_count": null,
      "outputs": []
    },
    {
      "cell_type": "code",
      "source": [
        "for i in df.index:\n",
        "  q = df['question'][i]\n",
        "  print('q: ', q)\n",
        "  c = df['context'][i]\n",
        "  print('c: ', c)\n",
        "  results = question(q,c)\n",
        "  df['answer'][i] = results['output_slots_list']"
      ],
      "metadata": {
        "colab": {
          "base_uri": "https://localhost:8080/"
        },
        "id": "ggzBPWCHdF9L",
        "outputId": "d9cbed5d-4bbb-42cd-8f92-a59ba0e4f645"
      },
      "execution_count": 42,
      "outputs": [
        {
          "output_type": "stream",
          "name": "stdout",
          "text": [
            "q:  What does the speaker imply by saying Alex is a good teacher?\n",
            "c:  The speaker is pragmatically savvy.\n",
            "q:  What does the speaker imply by saying it's warm outside?\n",
            "c:  The speaker is pragmatically savvy.\n"
          ]
        }
      ]
    },
    {
      "cell_type": "code",
      "source": [
        "df.head()"
      ],
      "metadata": {
        "colab": {
          "base_uri": "https://localhost:8080/",
          "height": 191
        },
        "id": "2ceReSBedXIK",
        "outputId": "18b38a22-24a5-404a-bd86-cc410ffdce2b"
      },
      "execution_count": 43,
      "outputs": [
        {
          "output_type": "execute_result",
          "data": {
            "text/plain": [
              "  condtion target_adj         prediction  \\\n",
              "0       SI       good      not excellent   \n",
              "1       SI       warm  not hot; not cold   \n",
              "\n",
              "                                            question  \\\n",
              "0  What does the speaker imply by saying Alex is ...   \n",
              "1  What does the speaker imply by saying it's war...   \n",
              "\n",
              "                               context  \\\n",
              "0  The speaker is pragmatically savvy.   \n",
              "1  The speaker is pragmatically savvy.   \n",
              "\n",
              "                                              answer  \n",
              "0  [{'answer': 'she thinks so'}, {'answer': 'he k...  \n",
              "1  [{'answer': 'it warms your heart'}, {'answer':...  "
            ],
            "text/html": [
              "\n",
              "  <div id=\"df-82df895e-3331-44ec-8b3b-230e50600d86\">\n",
              "    <div class=\"colab-df-container\">\n",
              "      <div>\n",
              "<style scoped>\n",
              "    .dataframe tbody tr th:only-of-type {\n",
              "        vertical-align: middle;\n",
              "    }\n",
              "\n",
              "    .dataframe tbody tr th {\n",
              "        vertical-align: top;\n",
              "    }\n",
              "\n",
              "    .dataframe thead th {\n",
              "        text-align: right;\n",
              "    }\n",
              "</style>\n",
              "<table border=\"1\" class=\"dataframe\">\n",
              "  <thead>\n",
              "    <tr style=\"text-align: right;\">\n",
              "      <th></th>\n",
              "      <th>condtion</th>\n",
              "      <th>target_adj</th>\n",
              "      <th>prediction</th>\n",
              "      <th>question</th>\n",
              "      <th>context</th>\n",
              "      <th>answer</th>\n",
              "    </tr>\n",
              "  </thead>\n",
              "  <tbody>\n",
              "    <tr>\n",
              "      <th>0</th>\n",
              "      <td>SI</td>\n",
              "      <td>good</td>\n",
              "      <td>not excellent</td>\n",
              "      <td>What does the speaker imply by saying Alex is ...</td>\n",
              "      <td>The speaker is pragmatically savvy.</td>\n",
              "      <td>[{'answer': 'she thinks so'}, {'answer': 'he k...</td>\n",
              "    </tr>\n",
              "    <tr>\n",
              "      <th>1</th>\n",
              "      <td>SI</td>\n",
              "      <td>warm</td>\n",
              "      <td>not hot; not cold</td>\n",
              "      <td>What does the speaker imply by saying it's war...</td>\n",
              "      <td>The speaker is pragmatically savvy.</td>\n",
              "      <td>[{'answer': 'it warms your heart'}, {'answer':...</td>\n",
              "    </tr>\n",
              "  </tbody>\n",
              "</table>\n",
              "</div>\n",
              "      <button class=\"colab-df-convert\" onclick=\"convertToInteractive('df-82df895e-3331-44ec-8b3b-230e50600d86')\"\n",
              "              title=\"Convert this dataframe to an interactive table.\"\n",
              "              style=\"display:none;\">\n",
              "        \n",
              "  <svg xmlns=\"http://www.w3.org/2000/svg\" height=\"24px\"viewBox=\"0 0 24 24\"\n",
              "       width=\"24px\">\n",
              "    <path d=\"M0 0h24v24H0V0z\" fill=\"none\"/>\n",
              "    <path d=\"M18.56 5.44l.94 2.06.94-2.06 2.06-.94-2.06-.94-.94-2.06-.94 2.06-2.06.94zm-11 1L8.5 8.5l.94-2.06 2.06-.94-2.06-.94L8.5 2.5l-.94 2.06-2.06.94zm10 10l.94 2.06.94-2.06 2.06-.94-2.06-.94-.94-2.06-.94 2.06-2.06.94z\"/><path d=\"M17.41 7.96l-1.37-1.37c-.4-.4-.92-.59-1.43-.59-.52 0-1.04.2-1.43.59L10.3 9.45l-7.72 7.72c-.78.78-.78 2.05 0 2.83L4 21.41c.39.39.9.59 1.41.59.51 0 1.02-.2 1.41-.59l7.78-7.78 2.81-2.81c.8-.78.8-2.07 0-2.86zM5.41 20L4 18.59l7.72-7.72 1.47 1.35L5.41 20z\"/>\n",
              "  </svg>\n",
              "      </button>\n",
              "      \n",
              "  <style>\n",
              "    .colab-df-container {\n",
              "      display:flex;\n",
              "      flex-wrap:wrap;\n",
              "      gap: 12px;\n",
              "    }\n",
              "\n",
              "    .colab-df-convert {\n",
              "      background-color: #E8F0FE;\n",
              "      border: none;\n",
              "      border-radius: 50%;\n",
              "      cursor: pointer;\n",
              "      display: none;\n",
              "      fill: #1967D2;\n",
              "      height: 32px;\n",
              "      padding: 0 0 0 0;\n",
              "      width: 32px;\n",
              "    }\n",
              "\n",
              "    .colab-df-convert:hover {\n",
              "      background-color: #E2EBFA;\n",
              "      box-shadow: 0px 1px 2px rgba(60, 64, 67, 0.3), 0px 1px 3px 1px rgba(60, 64, 67, 0.15);\n",
              "      fill: #174EA6;\n",
              "    }\n",
              "\n",
              "    [theme=dark] .colab-df-convert {\n",
              "      background-color: #3B4455;\n",
              "      fill: #D2E3FC;\n",
              "    }\n",
              "\n",
              "    [theme=dark] .colab-df-convert:hover {\n",
              "      background-color: #434B5C;\n",
              "      box-shadow: 0px 1px 3px 1px rgba(0, 0, 0, 0.15);\n",
              "      filter: drop-shadow(0px 1px 2px rgba(0, 0, 0, 0.3));\n",
              "      fill: #FFFFFF;\n",
              "    }\n",
              "  </style>\n",
              "\n",
              "      <script>\n",
              "        const buttonEl =\n",
              "          document.querySelector('#df-82df895e-3331-44ec-8b3b-230e50600d86 button.colab-df-convert');\n",
              "        buttonEl.style.display =\n",
              "          google.colab.kernel.accessAllowed ? 'block' : 'none';\n",
              "\n",
              "        async function convertToInteractive(key) {\n",
              "          const element = document.querySelector('#df-82df895e-3331-44ec-8b3b-230e50600d86');\n",
              "          const dataTable =\n",
              "            await google.colab.kernel.invokeFunction('convertToInteractive',\n",
              "                                                     [key], {});\n",
              "          if (!dataTable) return;\n",
              "\n",
              "          const docLinkHtml = 'Like what you see? Visit the ' +\n",
              "            '<a target=\"_blank\" href=https://colab.research.google.com/notebooks/data_table.ipynb>data table notebook</a>'\n",
              "            + ' to learn more about interactive tables.';\n",
              "          element.innerHTML = '';\n",
              "          dataTable['output_type'] = 'display_data';\n",
              "          await google.colab.output.renderOutput(dataTable, element);\n",
              "          const docLink = document.createElement('div');\n",
              "          docLink.innerHTML = docLinkHtml;\n",
              "          element.appendChild(docLink);\n",
              "        }\n",
              "      </script>\n",
              "    </div>\n",
              "  </div>\n",
              "  "
            ]
          },
          "metadata": {},
          "execution_count": 43
        }
      ]
    },
    {
      "cell_type": "code",
      "source": [
        "df['answer'][0]"
      ],
      "metadata": {
        "colab": {
          "base_uri": "https://localhost:8080/"
        },
        "id": "sj9KqPkAhSZT",
        "outputId": "a51fb13b-2ebd-4f5e-9c51-8beb6685ad41"
      },
      "execution_count": 44,
      "outputs": [
        {
          "output_type": "execute_result",
          "data": {
            "text/plain": [
              "[{'answer': 'she thinks so'},\n",
              " {'answer': 'he knows how to teach'},\n",
              " {'answer': 'he is good at explaining things'},\n",
              " {'answer': 'he is knowledgeable about math'},\n",
              " {'answer': 'that he is knowledgeable about math'}]"
            ]
          },
          "metadata": {},
          "execution_count": 44
        }
      ]
    },
    {
      "cell_type": "code",
      "source": [
        "df.to_csv('si_adj.csv')"
      ],
      "metadata": {
        "id": "8YTsIUZaiQD4"
      },
      "execution_count": 46,
      "outputs": []
    },
    {
      "cell_type": "markdown",
      "source": [
        "**Starting HERE: SI gradable adj**"
      ],
      "metadata": {
        "id": "4Pdm0HvySxYt"
      }
    },
    {
      "cell_type": "code",
      "source": [
        "df = pd.read_csv('si_adj.csv', index_col = 0)\n",
        "df.head()"
      ],
      "metadata": {
        "colab": {
          "base_uri": "https://localhost:8080/",
          "height": 363
        },
        "id": "71Dd8dnziOIL",
        "outputId": "381e1dd5-c7c9-41ee-ca9b-77e8a8afba80"
      },
      "execution_count": 64,
      "outputs": [
        {
          "output_type": "execute_result",
          "data": {
            "text/plain": [
              "  condtion target_adj              prediction  \\\n",
              "0       SI       good  not excellent; not bad   \n",
              "1       SI       warm       not hot; not cold   \n",
              "2       MI      short           Pete is short   \n",
              "\n",
              "                                       question_prag  \\\n",
              "0  What does the speaker imply by saying Alex is ...   \n",
              "1  What does the speaker imply by saying it's war...   \n",
              "2  What does the speaker imply by saying Alex is ...   \n",
              "\n",
              "                                        question_sem  \\\n",
              "0  What does the speaker mean by saying Alex is a...   \n",
              "1  What does the speaker mean by saying it's warm...   \n",
              "2  What does the speaker mean by saying Alex is a...   \n",
              "\n",
              "                          context_prag            context_sem  \\\n",
              "0  The speaker is pragmatically savvy.  The speaker is nerdy.   \n",
              "1  The speaker is pragmatically savvy.  The speaker is nerdy.   \n",
              "2  The speaker is pragmatically savvy.  The speaker is nerdy.   \n",
              "\n",
              "                                   answer_prag_macaw  \\\n",
              "0  he has high expectations for his students. he ...   \n",
              "1  it helps to warm the body. it warms your body....   \n",
              "2  they have similar heights. he's as short for t...   \n",
              "\n",
              "                                    answer_sem_macaw  \\\n",
              "0  the class grew as Alex's knowledge of science ...   \n",
              "1  the air temperature is higher than usual. it h...   \n",
              "2  the two men are alike in size. they have simil...   \n",
              "\n",
              "                                     answer_prag_gpt  \\\n",
              "0  The speaker implies that Alex is a good teache...   \n",
              "1  The speaker is implying that it's warm outside...   \n",
              "2  The speaker is implying that Alex is as short ...   \n",
              "\n",
              "                                      answer_sem_gpt  \n",
              "0  The speaker is implying that Alex is a good te...  \n",
              "1  The speaker is implying that it's warm outside...  \n",
              "2  The speaker implies that Alex is as short as P...  "
            ],
            "text/html": [
              "\n",
              "  <div id=\"df-90452394-4cb3-4adf-aed4-850ddfbeacc8\">\n",
              "    <div class=\"colab-df-container\">\n",
              "      <div>\n",
              "<style scoped>\n",
              "    .dataframe tbody tr th:only-of-type {\n",
              "        vertical-align: middle;\n",
              "    }\n",
              "\n",
              "    .dataframe tbody tr th {\n",
              "        vertical-align: top;\n",
              "    }\n",
              "\n",
              "    .dataframe thead th {\n",
              "        text-align: right;\n",
              "    }\n",
              "</style>\n",
              "<table border=\"1\" class=\"dataframe\">\n",
              "  <thead>\n",
              "    <tr style=\"text-align: right;\">\n",
              "      <th></th>\n",
              "      <th>condtion</th>\n",
              "      <th>target_adj</th>\n",
              "      <th>prediction</th>\n",
              "      <th>question_prag</th>\n",
              "      <th>question_sem</th>\n",
              "      <th>context_prag</th>\n",
              "      <th>context_sem</th>\n",
              "      <th>answer_prag_macaw</th>\n",
              "      <th>answer_sem_macaw</th>\n",
              "      <th>answer_prag_gpt</th>\n",
              "      <th>answer_sem_gpt</th>\n",
              "    </tr>\n",
              "  </thead>\n",
              "  <tbody>\n",
              "    <tr>\n",
              "      <th>0</th>\n",
              "      <td>SI</td>\n",
              "      <td>good</td>\n",
              "      <td>not excellent; not bad</td>\n",
              "      <td>What does the speaker imply by saying Alex is ...</td>\n",
              "      <td>What does the speaker mean by saying Alex is a...</td>\n",
              "      <td>The speaker is pragmatically savvy.</td>\n",
              "      <td>The speaker is nerdy.</td>\n",
              "      <td>he has high expectations for his students. he ...</td>\n",
              "      <td>the class grew as Alex's knowledge of science ...</td>\n",
              "      <td>The speaker implies that Alex is a good teache...</td>\n",
              "      <td>The speaker is implying that Alex is a good te...</td>\n",
              "    </tr>\n",
              "    <tr>\n",
              "      <th>1</th>\n",
              "      <td>SI</td>\n",
              "      <td>warm</td>\n",
              "      <td>not hot; not cold</td>\n",
              "      <td>What does the speaker imply by saying it's war...</td>\n",
              "      <td>What does the speaker mean by saying it's warm...</td>\n",
              "      <td>The speaker is pragmatically savvy.</td>\n",
              "      <td>The speaker is nerdy.</td>\n",
              "      <td>it helps to warm the body. it warms your body....</td>\n",
              "      <td>the air temperature is higher than usual. it h...</td>\n",
              "      <td>The speaker is implying that it's warm outside...</td>\n",
              "      <td>The speaker is implying that it's warm outside...</td>\n",
              "    </tr>\n",
              "    <tr>\n",
              "      <th>2</th>\n",
              "      <td>MI</td>\n",
              "      <td>short</td>\n",
              "      <td>Pete is short</td>\n",
              "      <td>What does the speaker imply by saying Alex is ...</td>\n",
              "      <td>What does the speaker mean by saying Alex is a...</td>\n",
              "      <td>The speaker is pragmatically savvy.</td>\n",
              "      <td>The speaker is nerdy.</td>\n",
              "      <td>they have similar heights. he's as short for t...</td>\n",
              "      <td>the two men are alike in size. they have simil...</td>\n",
              "      <td>The speaker is implying that Alex is as short ...</td>\n",
              "      <td>The speaker implies that Alex is as short as P...</td>\n",
              "    </tr>\n",
              "  </tbody>\n",
              "</table>\n",
              "</div>\n",
              "      <button class=\"colab-df-convert\" onclick=\"convertToInteractive('df-90452394-4cb3-4adf-aed4-850ddfbeacc8')\"\n",
              "              title=\"Convert this dataframe to an interactive table.\"\n",
              "              style=\"display:none;\">\n",
              "        \n",
              "  <svg xmlns=\"http://www.w3.org/2000/svg\" height=\"24px\"viewBox=\"0 0 24 24\"\n",
              "       width=\"24px\">\n",
              "    <path d=\"M0 0h24v24H0V0z\" fill=\"none\"/>\n",
              "    <path d=\"M18.56 5.44l.94 2.06.94-2.06 2.06-.94-2.06-.94-.94-2.06-.94 2.06-2.06.94zm-11 1L8.5 8.5l.94-2.06 2.06-.94-2.06-.94L8.5 2.5l-.94 2.06-2.06.94zm10 10l.94 2.06.94-2.06 2.06-.94-2.06-.94-.94-2.06-.94 2.06-2.06.94z\"/><path d=\"M17.41 7.96l-1.37-1.37c-.4-.4-.92-.59-1.43-.59-.52 0-1.04.2-1.43.59L10.3 9.45l-7.72 7.72c-.78.78-.78 2.05 0 2.83L4 21.41c.39.39.9.59 1.41.59.51 0 1.02-.2 1.41-.59l7.78-7.78 2.81-2.81c.8-.78.8-2.07 0-2.86zM5.41 20L4 18.59l7.72-7.72 1.47 1.35L5.41 20z\"/>\n",
              "  </svg>\n",
              "      </button>\n",
              "      \n",
              "  <style>\n",
              "    .colab-df-container {\n",
              "      display:flex;\n",
              "      flex-wrap:wrap;\n",
              "      gap: 12px;\n",
              "    }\n",
              "\n",
              "    .colab-df-convert {\n",
              "      background-color: #E8F0FE;\n",
              "      border: none;\n",
              "      border-radius: 50%;\n",
              "      cursor: pointer;\n",
              "      display: none;\n",
              "      fill: #1967D2;\n",
              "      height: 32px;\n",
              "      padding: 0 0 0 0;\n",
              "      width: 32px;\n",
              "    }\n",
              "\n",
              "    .colab-df-convert:hover {\n",
              "      background-color: #E2EBFA;\n",
              "      box-shadow: 0px 1px 2px rgba(60, 64, 67, 0.3), 0px 1px 3px 1px rgba(60, 64, 67, 0.15);\n",
              "      fill: #174EA6;\n",
              "    }\n",
              "\n",
              "    [theme=dark] .colab-df-convert {\n",
              "      background-color: #3B4455;\n",
              "      fill: #D2E3FC;\n",
              "    }\n",
              "\n",
              "    [theme=dark] .colab-df-convert:hover {\n",
              "      background-color: #434B5C;\n",
              "      box-shadow: 0px 1px 3px 1px rgba(0, 0, 0, 0.15);\n",
              "      filter: drop-shadow(0px 1px 2px rgba(0, 0, 0, 0.3));\n",
              "      fill: #FFFFFF;\n",
              "    }\n",
              "  </style>\n",
              "\n",
              "      <script>\n",
              "        const buttonEl =\n",
              "          document.querySelector('#df-90452394-4cb3-4adf-aed4-850ddfbeacc8 button.colab-df-convert');\n",
              "        buttonEl.style.display =\n",
              "          google.colab.kernel.accessAllowed ? 'block' : 'none';\n",
              "\n",
              "        async function convertToInteractive(key) {\n",
              "          const element = document.querySelector('#df-90452394-4cb3-4adf-aed4-850ddfbeacc8');\n",
              "          const dataTable =\n",
              "            await google.colab.kernel.invokeFunction('convertToInteractive',\n",
              "                                                     [key], {});\n",
              "          if (!dataTable) return;\n",
              "\n",
              "          const docLinkHtml = 'Like what you see? Visit the ' +\n",
              "            '<a target=\"_blank\" href=https://colab.research.google.com/notebooks/data_table.ipynb>data table notebook</a>'\n",
              "            + ' to learn more about interactive tables.';\n",
              "          element.innerHTML = '';\n",
              "          dataTable['output_type'] = 'display_data';\n",
              "          await google.colab.output.renderOutput(dataTable, element);\n",
              "          const docLink = document.createElement('div');\n",
              "          docLink.innerHTML = docLinkHtml;\n",
              "          element.appendChild(docLink);\n",
              "        }\n",
              "      </script>\n",
              "    </div>\n",
              "  </div>\n",
              "  "
            ]
          },
          "metadata": {},
          "execution_count": 64
        }
      ]
    },
    {
      "cell_type": "code",
      "source": [
        "def question(question_str):\n",
        "  res = run_macaw(\"Q: \" + question_str +\" \\nA\", model_dict,\n",
        "                  {\"do_sample\": True, 'max_length': 128,\n",
        "                   \"top_k\": 5, \"num_return_sequences\": 5, \"repetition_penalty\": 3.0})\n",
        "  return res"
      ],
      "metadata": {
        "id": "S63OgoM7S0Pu"
      },
      "execution_count": 65,
      "outputs": []
    },
    {
      "cell_type": "code",
      "source": [
        "for i in df.index:\n",
        "  r_q = df['question_rett'][i]\n",
        "  results = question(r_q)\n",
        "  df['answer_rett_macaw'][i] = results['output_slots_list']\n",
        "  temp_r = ''\n",
        "  for r_dict in df['answer_rett_macaw'][i]:\n",
        "    temp_r += r_dict['answer'] + '. '\n",
        "    df['answer_prag_macaw'][i] = temp_r.strip(' ')\n",
        "\n",
        "  p_q = df['question_prag'][i]\n",
        "  results = question(p_q)\n",
        "  df['answer_prag_macaw'][i] = results['output_slots_list']\n",
        "  temp_p = ''\n",
        "  for p_dict in df['answer_prag_macaw'][i]:\n",
        "    temp_p += p_dict['answer'] + '. '\n",
        "    df['answer_prag_macaw'][i] = temp_p.strip(' ')\n",
        "\n",
        "  s_q = df['question_sem'][i]\n",
        "  results = question(s_q)\n",
        "  df['answer_sem_macaw'][i] = results['output_slots_list']\n",
        "  temp_s = ''\n",
        "  for s_dict in df['answer_sem_macaw'][i]:\n",
        "    temp_s += s_dict['answer'] + '. '\n",
        "    df['answer_sem_macaw'][i] = temp_s.strip(' ')\n",
        "\n",
        "df.head()"
      ],
      "metadata": {
        "colab": {
          "base_uri": "https://localhost:8080/",
          "height": 363
        },
        "id": "CddLXTzCiJWu",
        "outputId": "956d4019-5245-4039-efa6-702f4343ea09"
      },
      "execution_count": 66,
      "outputs": [
        {
          "output_type": "execute_result",
          "data": {
            "text/plain": [
              "  condtion target_adj              prediction  \\\n",
              "0       SI       good  not excellent; not bad   \n",
              "1       SI       warm       not hot; not cold   \n",
              "2       MI      short           Pete is short   \n",
              "\n",
              "                                       question_prag  \\\n",
              "0  What does the speaker imply by saying Alex is ...   \n",
              "1  What does the speaker imply by saying it's war...   \n",
              "2  What does the speaker imply by saying Alex is ...   \n",
              "\n",
              "                                        question_sem  \\\n",
              "0  What does the speaker mean by saying Alex is a...   \n",
              "1  What does the speaker mean by saying it's warm...   \n",
              "2  What does the speaker mean by saying Alex is a...   \n",
              "\n",
              "                          context_prag            context_sem  \\\n",
              "0  The speaker is pragmatically savvy.  The speaker is nerdy.   \n",
              "1  The speaker is pragmatically savvy.  The speaker is nerdy.   \n",
              "2  The speaker is pragmatically savvy.  The speaker is nerdy.   \n",
              "\n",
              "                                   answer_prag_macaw  \\\n",
              "0  he can teach other people. he has high expecta...   \n",
              "1  it warms your body. the temperature is rising....   \n",
              "2  he has equal height. he has more hair than pet...   \n",
              "\n",
              "                                    answer_sem_macaw  \\\n",
              "0  he's smart. he knows how to get the job done. ...   \n",
              "1  it's nicer than the air. it warms your hands. ...   \n",
              "2  they have the same height. he is shorter than ...   \n",
              "\n",
              "                                     answer_prag_gpt  \\\n",
              "0  The speaker implies that Alex is a good teache...   \n",
              "1  The speaker is implying that it's warm outside...   \n",
              "2  The speaker is implying that Alex is as short ...   \n",
              "\n",
              "                                      answer_sem_gpt  \n",
              "0  The speaker is implying that Alex is a good te...  \n",
              "1  The speaker is implying that it's warm outside...  \n",
              "2  The speaker implies that Alex is as short as P...  "
            ],
            "text/html": [
              "\n",
              "  <div id=\"df-c0bb6186-7a85-4537-af6d-6a5e7565a9d0\">\n",
              "    <div class=\"colab-df-container\">\n",
              "      <div>\n",
              "<style scoped>\n",
              "    .dataframe tbody tr th:only-of-type {\n",
              "        vertical-align: middle;\n",
              "    }\n",
              "\n",
              "    .dataframe tbody tr th {\n",
              "        vertical-align: top;\n",
              "    }\n",
              "\n",
              "    .dataframe thead th {\n",
              "        text-align: right;\n",
              "    }\n",
              "</style>\n",
              "<table border=\"1\" class=\"dataframe\">\n",
              "  <thead>\n",
              "    <tr style=\"text-align: right;\">\n",
              "      <th></th>\n",
              "      <th>condtion</th>\n",
              "      <th>target_adj</th>\n",
              "      <th>prediction</th>\n",
              "      <th>question_prag</th>\n",
              "      <th>question_sem</th>\n",
              "      <th>context_prag</th>\n",
              "      <th>context_sem</th>\n",
              "      <th>answer_prag_macaw</th>\n",
              "      <th>answer_sem_macaw</th>\n",
              "      <th>answer_prag_gpt</th>\n",
              "      <th>answer_sem_gpt</th>\n",
              "    </tr>\n",
              "  </thead>\n",
              "  <tbody>\n",
              "    <tr>\n",
              "      <th>0</th>\n",
              "      <td>SI</td>\n",
              "      <td>good</td>\n",
              "      <td>not excellent; not bad</td>\n",
              "      <td>What does the speaker imply by saying Alex is ...</td>\n",
              "      <td>What does the speaker mean by saying Alex is a...</td>\n",
              "      <td>The speaker is pragmatically savvy.</td>\n",
              "      <td>The speaker is nerdy.</td>\n",
              "      <td>he can teach other people. he has high expecta...</td>\n",
              "      <td>he's smart. he knows how to get the job done. ...</td>\n",
              "      <td>The speaker implies that Alex is a good teache...</td>\n",
              "      <td>The speaker is implying that Alex is a good te...</td>\n",
              "    </tr>\n",
              "    <tr>\n",
              "      <th>1</th>\n",
              "      <td>SI</td>\n",
              "      <td>warm</td>\n",
              "      <td>not hot; not cold</td>\n",
              "      <td>What does the speaker imply by saying it's war...</td>\n",
              "      <td>What does the speaker mean by saying it's warm...</td>\n",
              "      <td>The speaker is pragmatically savvy.</td>\n",
              "      <td>The speaker is nerdy.</td>\n",
              "      <td>it warms your body. the temperature is rising....</td>\n",
              "      <td>it's nicer than the air. it warms your hands. ...</td>\n",
              "      <td>The speaker is implying that it's warm outside...</td>\n",
              "      <td>The speaker is implying that it's warm outside...</td>\n",
              "    </tr>\n",
              "    <tr>\n",
              "      <th>2</th>\n",
              "      <td>MI</td>\n",
              "      <td>short</td>\n",
              "      <td>Pete is short</td>\n",
              "      <td>What does the speaker imply by saying Alex is ...</td>\n",
              "      <td>What does the speaker mean by saying Alex is a...</td>\n",
              "      <td>The speaker is pragmatically savvy.</td>\n",
              "      <td>The speaker is nerdy.</td>\n",
              "      <td>he has equal height. he has more hair than pet...</td>\n",
              "      <td>they have the same height. he is shorter than ...</td>\n",
              "      <td>The speaker is implying that Alex is as short ...</td>\n",
              "      <td>The speaker implies that Alex is as short as P...</td>\n",
              "    </tr>\n",
              "  </tbody>\n",
              "</table>\n",
              "</div>\n",
              "      <button class=\"colab-df-convert\" onclick=\"convertToInteractive('df-c0bb6186-7a85-4537-af6d-6a5e7565a9d0')\"\n",
              "              title=\"Convert this dataframe to an interactive table.\"\n",
              "              style=\"display:none;\">\n",
              "        \n",
              "  <svg xmlns=\"http://www.w3.org/2000/svg\" height=\"24px\"viewBox=\"0 0 24 24\"\n",
              "       width=\"24px\">\n",
              "    <path d=\"M0 0h24v24H0V0z\" fill=\"none\"/>\n",
              "    <path d=\"M18.56 5.44l.94 2.06.94-2.06 2.06-.94-2.06-.94-.94-2.06-.94 2.06-2.06.94zm-11 1L8.5 8.5l.94-2.06 2.06-.94-2.06-.94L8.5 2.5l-.94 2.06-2.06.94zm10 10l.94 2.06.94-2.06 2.06-.94-2.06-.94-.94-2.06-.94 2.06-2.06.94z\"/><path d=\"M17.41 7.96l-1.37-1.37c-.4-.4-.92-.59-1.43-.59-.52 0-1.04.2-1.43.59L10.3 9.45l-7.72 7.72c-.78.78-.78 2.05 0 2.83L4 21.41c.39.39.9.59 1.41.59.51 0 1.02-.2 1.41-.59l7.78-7.78 2.81-2.81c.8-.78.8-2.07 0-2.86zM5.41 20L4 18.59l7.72-7.72 1.47 1.35L5.41 20z\"/>\n",
              "  </svg>\n",
              "      </button>\n",
              "      \n",
              "  <style>\n",
              "    .colab-df-container {\n",
              "      display:flex;\n",
              "      flex-wrap:wrap;\n",
              "      gap: 12px;\n",
              "    }\n",
              "\n",
              "    .colab-df-convert {\n",
              "      background-color: #E8F0FE;\n",
              "      border: none;\n",
              "      border-radius: 50%;\n",
              "      cursor: pointer;\n",
              "      display: none;\n",
              "      fill: #1967D2;\n",
              "      height: 32px;\n",
              "      padding: 0 0 0 0;\n",
              "      width: 32px;\n",
              "    }\n",
              "\n",
              "    .colab-df-convert:hover {\n",
              "      background-color: #E2EBFA;\n",
              "      box-shadow: 0px 1px 2px rgba(60, 64, 67, 0.3), 0px 1px 3px 1px rgba(60, 64, 67, 0.15);\n",
              "      fill: #174EA6;\n",
              "    }\n",
              "\n",
              "    [theme=dark] .colab-df-convert {\n",
              "      background-color: #3B4455;\n",
              "      fill: #D2E3FC;\n",
              "    }\n",
              "\n",
              "    [theme=dark] .colab-df-convert:hover {\n",
              "      background-color: #434B5C;\n",
              "      box-shadow: 0px 1px 3px 1px rgba(0, 0, 0, 0.15);\n",
              "      filter: drop-shadow(0px 1px 2px rgba(0, 0, 0, 0.3));\n",
              "      fill: #FFFFFF;\n",
              "    }\n",
              "  </style>\n",
              "\n",
              "      <script>\n",
              "        const buttonEl =\n",
              "          document.querySelector('#df-c0bb6186-7a85-4537-af6d-6a5e7565a9d0 button.colab-df-convert');\n",
              "        buttonEl.style.display =\n",
              "          google.colab.kernel.accessAllowed ? 'block' : 'none';\n",
              "\n",
              "        async function convertToInteractive(key) {\n",
              "          const element = document.querySelector('#df-c0bb6186-7a85-4537-af6d-6a5e7565a9d0');\n",
              "          const dataTable =\n",
              "            await google.colab.kernel.invokeFunction('convertToInteractive',\n",
              "                                                     [key], {});\n",
              "          if (!dataTable) return;\n",
              "\n",
              "          const docLinkHtml = 'Like what you see? Visit the ' +\n",
              "            '<a target=\"_blank\" href=https://colab.research.google.com/notebooks/data_table.ipynb>data table notebook</a>'\n",
              "            + ' to learn more about interactive tables.';\n",
              "          element.innerHTML = '';\n",
              "          dataTable['output_type'] = 'display_data';\n",
              "          await google.colab.output.renderOutput(dataTable, element);\n",
              "          const docLink = document.createElement('div');\n",
              "          docLink.innerHTML = docLinkHtml;\n",
              "          element.appendChild(docLink);\n",
              "        }\n",
              "      </script>\n",
              "    </div>\n",
              "  </div>\n",
              "  "
            ]
          },
          "metadata": {},
          "execution_count": 66
        }
      ]
    },
    {
      "cell_type": "code",
      "source": [
        "df['answer_sem_macaw'][2]"
      ],
      "metadata": {
        "colab": {
          "base_uri": "https://localhost:8080/",
          "height": 35
        },
        "id": "7WLdpGr8MuDK",
        "outputId": "c349cf6b-cde1-4b76-fa09-1182b648b539"
      },
      "execution_count": 67,
      "outputs": [
        {
          "output_type": "execute_result",
          "data": {
            "text/plain": [
              "\"they have the same height. he is shorter than peter. is shorter than alex. he's short. he's shorter.\""
            ],
            "application/vnd.google.colaboratory.intrinsic+json": {
              "type": "string"
            }
          },
          "metadata": {},
          "execution_count": 67
        }
      ]
    },
    {
      "cell_type": "code",
      "source": [
        "df['answer_prag_macaw'][2]"
      ],
      "metadata": {
        "colab": {
          "base_uri": "https://localhost:8080/",
          "height": 53
        },
        "id": "1rpcNGuHNQcd",
        "outputId": "aee95d52-652e-428b-fea8-a910440932b9"
      },
      "execution_count": 68,
      "outputs": [
        {
          "output_type": "execute_result",
          "data": {
            "text/plain": [
              "'he has equal height. he has more hair than peter. both are short in height. he is shorter than peter. he is short in stature.'"
            ],
            "application/vnd.google.colaboratory.intrinsic+json": {
              "type": "string"
            }
          },
          "metadata": {},
          "execution_count": 68
        }
      ]
    },
    {
      "cell_type": "code",
      "source": [
        "df.to_csv('si_adj.csv')"
      ],
      "metadata": {
        "id": "UDroSAHmNYwQ"
      },
      "execution_count": 69,
      "outputs": []
    }
  ]
}